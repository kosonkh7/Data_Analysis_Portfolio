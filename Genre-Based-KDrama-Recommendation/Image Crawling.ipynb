{
 "cells": [
  {
   "cell_type": "code",
   "execution_count": 18,
   "id": "a30dcc23",
   "metadata": {},
   "outputs": [
    {
     "name": "stdout",
     "output_type": "stream",
     "text": [
      "image_1.jpg 다운로드 완료\n",
      "image_2.jpg 다운로드 완료\n",
      "Live.jpg 다운로드 완료\n",
      "The First Responders.jpg 다운로드 완료\n",
      "Tunnel.jpg 다운로드 완료\n",
      "Descendants of the Sun.jpg 다운로드 완료\n",
      "Hotel del Luna.jpg 다운로드 완료\n",
      "My Perfect Stranger.jpg 다운로드 완료\n",
      "My Liberation Notes.jpg 다운로드 완료\n",
      "Missing: The Other Side.jpg 다운로드 완료\n",
      "Law School.jpg 다운로드 완료\n",
      "Children of Nobody.jpg 다운로드 완료\n",
      "Ghost Doctor.jpg 다운로드 완료\n",
      "It's Okay, That's Love.jpg 다운로드 완료\n",
      "Eulachacha Waikiki.jpg 다운로드 완료\n",
      "Once Again.jpg 다운로드 완료\n",
      "Good Manager.jpg 다운로드 완료\n",
      "Empress Ki.jpg 다운로드 완료\n",
      "The Bridal Mask.jpg 다운로드 완료\n",
      "Go Back Couple.jpg 다운로드 완료\n",
      "Love to Hate You.jpg 다운로드 완료\n",
      "My Father Is Strange.jpg 다운로드 완료\n",
      "이미지 다운로드 완료\n"
     ]
    }
   ],
   "source": [
    "import requests\n",
    "from bs4 import BeautifulSoup\n",
    "import os\n",
    "\n",
    "# 크롤링할 페이지 URL\n",
    "url = \"https://mydramalist.com/shows/top_korean_dramas?page=5\"\n",
    "\n",
    "# 페이지 요청\n",
    "response = requests.get(url)\n",
    "soup = BeautifulSoup(response.content, \"html.parser\")\n",
    "\n",
    "# 이미지 URL 추출 및 다운로드\n",
    "image_elements = soup.find_all(\"img\", class_=\"lazy\")\n",
    "for idx, img in enumerate(image_elements):\n",
    "    img_url = img[\"data-src\"]\n",
    "    img_alt = img.get(\"alt\", f\"image_{idx + 1}\")  # 'alt' 속성이 없을 경우 대체 이름 설정\n",
    "    img_name = f\"{img_alt}.jpg\"  # 이미지 파일 이름 설정\n",
    "    img_path = os.path.join(\"downloaded_images\", img_name)  # 이미지 저장 경로 설정\n",
    "\n",
    "    # 이미지 다운로드\n",
    "    response = requests.get(img_url)\n",
    "    with open(img_path, \"wb\") as f:\n",
    "        f.write(response.content)\n",
    "    print(f\"{img_name} 다운로드 완료\")\n",
    "\n",
    "print(\"이미지 다운로드 완료\")"
   ]
  },
  {
   "cell_type": "code",
   "execution_count": 20,
   "id": "2cc560af",
   "metadata": {},
   "outputs": [
    {
     "name": "stdout",
     "output_type": "stream",
     "text": [
      "다운로드된 이미지 파일 이름 목록:\n",
      "['18 Again', 'A Business Proposal', 'Alchemy of Souls Season 2', 'Alchemy of Souls', 'Arthdal Chronicles Part 2', 'Arthdal Chronicles Part 3', 'Beyond Evil', 'Bloodhounds', 'Chicago Typewriter', 'Children of Nobody', 'Crash Landing on You', 'D.P. Season 2', 'D.P.', 'Dear My Friends', 'Defendant', 'Descendants of the Sun', 'Dr. Romantic Season 2', 'Dr. Romantic Season 3', 'Dr. Romantic', 'Empress Ki', 'Eulachacha Waikiki', 'Extraordinary Attorney Woo', 'Flower of Evil', 'Ghost Doctor', 'Go Back Couple', 'Goblin', 'Good Manager', 'Happiness', 'Healer', 'Hometown Cha-Cha-Cha', 'Hospital Playlist Season 2', 'Hospital Playlist', 'Hot Stove League', 'Hotel del Luna', \"It's Okay to Not Be Okay\", \"It's Okay, That's Love\", 'Jewel in the Palace', 'Kill Me, Heal Me', 'Kingdom Season 2', 'Kingdom', 'Law School', 'Life on Mars', 'Live', 'Love to Hate You', 'Misaeng', 'Missing', 'Moon Lovers', 'Mother', 'Mouse', 'Move to Heaven', 'Mr. Queen', 'Mr. Sunshine', 'My Father Is Strange', 'My Liberation Notes', 'My Mister', 'My Name', 'My Perfect Stranger', 'Navillera', 'Once Again', 'Our Beloved Summer', 'Our Blues', 'Partners for Justice Season 2', 'Prison Playbook', 'Racket Boys', 'Reply 1988', 'Revenant', 'Signal', 'Six Flying Dragons', 'SKY Castle', 'Stranger', 'Strangers from Hell', 'Strong Woman Do Bong Soon', 'Sweet Home', 'Tale of the Nine-Tailed 1938', 'Taxi Driver Season 2', 'Taxi Driver', 'The Bridal Mask', 'The Devil Judge', 'The Fiery Priest', 'The First Responders', 'The Glory Part 2', 'The Glory', 'The Good Bad Mother', 'The Guest', 'The King of Pigs', 'The Penthouse Season 2', 'The Penthouse', 'The Red Sleeve', 'The Uncanny Counter', 'Through the Darkness', 'Tomorrow', 'Tunnel', 'Twenty-Five Twenty-One', \"Under the Queen's Umbrella\", 'Vincenzo', 'Weak Hero Class 1', 'Weightlifting Fairy Kim Bok Joo', 'While You Were Sleeping', 'Youth of May']\n"
     ]
    }
   ],
   "source": [
    "import os\n",
    "\n",
    "# 이미지가 저장된 폴더 경로\n",
    "image_folder = \"downloaded_images\"\n",
    "\n",
    "# 이미지 파일 이름 리스트 초기화\n",
    "image_names = []\n",
    "\n",
    "# 폴더 내 파일 목록 읽어오기\n",
    "for filename in os.listdir(image_folder):\n",
    "    if filename.endswith(\".jpg\"):  # JPG 확장자를 가진 파일만 처리\n",
    "        name_without_extension = os.path.splitext(filename)[0]  # 확장자 제거\n",
    "        image_names.append(name_without_extension)\n",
    "\n",
    "print(\"다운로드된 이미지 파일 이름 목록:\")\n",
    "print(image_names)"
   ]
  }
 ],
 "metadata": {
  "kernelspec": {
   "display_name": "Python 3 (ipykernel)",
   "language": "python",
   "name": "python3"
  },
  "language_info": {
   "codemirror_mode": {
    "name": "ipython",
    "version": 3
   },
   "file_extension": ".py",
   "mimetype": "text/x-python",
   "name": "python",
   "nbconvert_exporter": "python",
   "pygments_lexer": "ipython3",
   "version": "3.8.13"
  }
 },
 "nbformat": 4,
 "nbformat_minor": 5
}
