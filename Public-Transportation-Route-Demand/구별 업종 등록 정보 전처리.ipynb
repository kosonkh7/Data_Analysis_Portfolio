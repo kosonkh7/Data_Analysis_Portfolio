{
 "cells": [
  {
   "cell_type": "markdown",
   "id": "b72f45ea-9bee-4292-975b-8dd3f89af7fb",
   "metadata": {},
   "source": [
    "# AIVLE스쿨 1차 미니프로젝트: 서울시 생활정보 기반 대중교통 수요 분석"
   ]
  },
  {
   "cell_type": "markdown",
   "id": "1d661414-a305-495f-b8fd-1dcf08278caf",
   "metadata": {},
   "source": [
    "<img src = \"https://github.com/Jangrae/img/blob/master/cafe.png?raw=true\" width=800, align=\"left\"/>"
   ]
  },
  {
   "cell_type": "markdown",
   "id": "72e67b1a-b273-4b28-adf4-cb00124e7719",
   "metadata": {},
   "source": [
    "- 본 과정에서는 실제 사례와 데이터를 기반으로 문제를 해결하는 전체 과정을 자기 주도형 실습으로 진행해볼 예정입니다.\n",
    "- 앞선 교육과정을 정리하는 마음과 지금까지 배운 내용을 바탕으로 문제 해결을 해볼게요!\n",
    "- 미니 프로젝트를 통한 문제 해결 과정 'A에서 Z까지', 지금부터 시작합니다!"
   ]
  },
  {
   "cell_type": "markdown",
   "id": "81533645-6b9f-41a9-845a-1ea00f8b8053",
   "metadata": {},
   "source": [
    "# [미션 4] 구별 업종등록 데이터 분석"
   ]
  },
  {
   "cell_type": "markdown",
   "id": "714c4ffa-56e5-4d7b-a70a-c4b0b2997332",
   "metadata": {
    "id": "gklxNfgNpkls"
   },
   "source": [
    "### 로컬 수행(Anaconda)\n",
    "- project 폴더에 필요한 파일들을 넣고, 본 파일을 열었다면, 별도 경로 지정이 필요하지 않습니다."
   ]
  },
  {
   "cell_type": "code",
   "execution_count": 1,
   "id": "abfb6aa9-dc07-4838-9abe-c3794d6bb1fc",
   "metadata": {
    "id": "PNI6X2yxpkls",
    "tags": []
   },
   "outputs": [],
   "source": [
    "# 기본 경로\n",
    "path = ''"
   ]
  },
  {
   "cell_type": "markdown",
   "id": "124aae58-fc1b-4239-97ff-2d588c2deb80",
   "metadata": {
    "id": "7rWT4biQpkls"
   },
   "source": [
    "### 구글 콜랩 수행\n",
    "\n",
    "- 구글 콜랩을 사용중이면 구글 드라이브를 연결합니다."
   ]
  },
  {
   "cell_type": "code",
   "execution_count": 3,
   "id": "933e484f-7d76-42aa-a14d-2d64fee4aeb6",
   "metadata": {
    "id": "CLasRk8Spklt",
    "tags": []
   },
   "outputs": [],
   "source": [
    "# # 구글 드라이브 연결, 패스 지정\n",
    "# import sys\n",
    "# if 'google.colab' in sys.modules:\n",
    "#     from google.colab import drive\n",
    "#     drive.mount('/content/drive')\n",
    "#     path = '/content/drive/MyDrive/project/'"
   ]
  },
  {
   "cell_type": "markdown",
   "id": "745ce215-c557-49d3-adc7-cfd77e85be15",
   "metadata": {},
   "source": [
    "### 한글 폰트 표시를 위해 설치합니다."
   ]
  },
  {
   "cell_type": "code",
   "execution_count": 6,
   "id": "cc379640-83c2-43bd-84a0-764a09aead5f",
   "metadata": {},
   "outputs": [],
   "source": [
    "# 한글 표시를 위한 라이브러리 설치\n",
    "!pip install koreanize_matplotlib -q"
   ]
  },
  {
   "cell_type": "markdown",
   "id": "24cf2aeb-c80b-43df-9ee9-787e000e17a2",
   "metadata": {},
   "source": [
    "### 필요한 라이브러리를 불러옵니다."
   ]
  },
  {
   "cell_type": "code",
   "execution_count": 8,
   "id": "83064ffe-9dab-493b-a07b-ff279bf2b28c",
   "metadata": {
    "tags": []
   },
   "outputs": [],
   "source": [
    "# 라이브러리 불러오기\n",
    "import numpy as np\n",
    "import pandas as pd\n",
    "import matplotlib.pyplot as plt\n",
    "import koreanize_matplotlib\n",
    "import warnings\n",
    "\n",
    "warnings.filterwarnings(action='ignore')\n",
    "%config InlineBackend.figure_format='retina'"
   ]
  },
  {
   "cell_type": "markdown",
   "id": "f528b029-b60b-4c01-9e04-803a5212da41",
   "metadata": {},
   "source": [
    "### 기본 데이터: 1.4 seoul_business_type.csv\n",
    "\n",
    "- 서울 시 구별 등록 업종 상위 10개 데이터(제공 가능한 최신 버전)\n",
    "    - 택시 운송업 (개인택시 등록자 주거지)\n",
    "    - 한식일반음식점업\n",
    "    - 용달 화물자동차 운송업(개인용달 등록자 주거지)\n",
    "    - 부동산 중개 및 대리업\n",
    "    - 두발미용업\n",
    "    - 커피전문점\n",
    "    - 남녀용 겉옷 및 셔츠 도매업\n",
    "    - 기타주점업\n",
    "    - 일반 교과 학원\n",
    "    - 한식 육류요리 전문점"
   ]
  },
  {
   "cell_type": "markdown",
   "id": "matched-broad",
   "metadata": {},
   "source": [
    "---"
   ]
  },
  {
   "cell_type": "markdown",
   "id": "warming-gentleman",
   "metadata": {},
   "source": [
    "# 1. 데이터 불러오기\n",
    "\n",
    "- 분석 대상 데이터를 불러와 데이터프레임으로 선언합니다."
   ]
  },
  {
   "cell_type": "markdown",
   "id": "fb77c679-080b-4ac6-90c7-d2d96c1d9c66",
   "metadata": {
    "jp-MarkdownHeadingCollapsed": true
   },
   "source": [
    "### [참고] 데이터 프레임을 불러오고 변수로 저장(CSV 기준으로 진행)\n",
    "\n",
    "- csv: pd.read_csv('파일이름.csv')\n",
    "- txt: pd.read_csv('파일이름.csv', sep='구분자')\n",
    "- xlsx: pd.read_excel('파일이름.xlsx')\n",
    "- pickle: pd.read_pickle('파일이름.pkl')"
   ]
  },
  {
   "cell_type": "markdown",
   "id": "84065679-73f1-49c8-9ff7-a8dbe9719153",
   "metadata": {},
   "source": [
    "## [실습1] 데이터 불러오기\n",
    "\n",
    "- 대상 파일: 1.4 seoul_business_type.csv\n",
    "- 불러온 데이터는 seoul_business 데이터프레임으로 선언하세요.\n",
    "- 데이터 불러올 때 참고할 사항 \n",
    "    - 구분자(sep)는 ',' 입니다\n",
    "    - UTF-8 인코더를 사용해 주세요"
   ]
  },
  {
   "cell_type": "code",
   "execution_count": 11,
   "id": "737f248c-cd36-44cc-a2dd-d6dc193d1970",
   "metadata": {
    "tags": []
   },
   "outputs": [
    {
     "data": {
      "text/html": [
       "<div>\n",
       "<style scoped>\n",
       "    .dataframe tbody tr th:only-of-type {\n",
       "        vertical-align: middle;\n",
       "    }\n",
       "\n",
       "    .dataframe tbody tr th {\n",
       "        vertical-align: top;\n",
       "    }\n",
       "\n",
       "    .dataframe thead th {\n",
       "        text-align: right;\n",
       "    }\n",
       "</style>\n",
       "<table border=\"1\" class=\"dataframe\">\n",
       "  <thead>\n",
       "    <tr style=\"text-align: right;\">\n",
       "      <th></th>\n",
       "      <th>자치구</th>\n",
       "      <th>택시운송업</th>\n",
       "      <th>한식 일반 음식점업</th>\n",
       "      <th>용달 화물자동차 운송업</th>\n",
       "      <th>부동산 중개 및 대리업</th>\n",
       "      <th>두발미용업</th>\n",
       "      <th>커피전문점</th>\n",
       "      <th>남녀용 겉옷 및 셔츠 도매업</th>\n",
       "      <th>기타주점업</th>\n",
       "      <th>일반 교과 학원</th>\n",
       "      <th>한식 육류요리 전문점</th>\n",
       "    </tr>\n",
       "  </thead>\n",
       "  <tbody>\n",
       "    <tr>\n",
       "      <th>0</th>\n",
       "      <td>종로구</td>\n",
       "      <td>215</td>\n",
       "      <td>5912</td>\n",
       "      <td>646</td>\n",
       "      <td>889</td>\n",
       "      <td>480</td>\n",
       "      <td>3613</td>\n",
       "      <td>962</td>\n",
       "      <td>1413</td>\n",
       "      <td>382</td>\n",
       "      <td>1982</td>\n",
       "    </tr>\n",
       "    <tr>\n",
       "      <th>1</th>\n",
       "      <td>중구</td>\n",
       "      <td>235</td>\n",
       "      <td>6414</td>\n",
       "      <td>333</td>\n",
       "      <td>1152</td>\n",
       "      <td>816</td>\n",
       "      <td>3542</td>\n",
       "      <td>24248</td>\n",
       "      <td>982</td>\n",
       "      <td>175</td>\n",
       "      <td>2121</td>\n",
       "    </tr>\n",
       "    <tr>\n",
       "      <th>2</th>\n",
       "      <td>용산구</td>\n",
       "      <td>523</td>\n",
       "      <td>2987</td>\n",
       "      <td>466</td>\n",
       "      <td>1214</td>\n",
       "      <td>777</td>\n",
       "      <td>2076</td>\n",
       "      <td>317</td>\n",
       "      <td>1332</td>\n",
       "      <td>573</td>\n",
       "      <td>1184</td>\n",
       "    </tr>\n",
       "    <tr>\n",
       "      <th>3</th>\n",
       "      <td>성동구</td>\n",
       "      <td>2527</td>\n",
       "      <td>2785</td>\n",
       "      <td>1161</td>\n",
       "      <td>1453</td>\n",
       "      <td>851</td>\n",
       "      <td>1859</td>\n",
       "      <td>1572</td>\n",
       "      <td>621</td>\n",
       "      <td>1494</td>\n",
       "      <td>1545</td>\n",
       "    </tr>\n",
       "    <tr>\n",
       "      <th>4</th>\n",
       "      <td>광진구</td>\n",
       "      <td>1744</td>\n",
       "      <td>2861</td>\n",
       "      <td>985</td>\n",
       "      <td>1313</td>\n",
       "      <td>1337</td>\n",
       "      <td>1887</td>\n",
       "      <td>687</td>\n",
       "      <td>1577</td>\n",
       "      <td>1646</td>\n",
       "      <td>1678</td>\n",
       "    </tr>\n",
       "  </tbody>\n",
       "</table>\n",
       "</div>"
      ],
      "text/plain": [
       "   자치구  택시운송업  한식 일반 음식점업  용달 화물자동차 운송업  부동산 중개 및 대리업  두발미용업  커피전문점  \\\n",
       "0  종로구    215        5912           646           889    480   3613   \n",
       "1   중구    235        6414           333          1152    816   3542   \n",
       "2  용산구    523        2987           466          1214    777   2076   \n",
       "3  성동구   2527        2785          1161          1453    851   1859   \n",
       "4  광진구   1744        2861           985          1313   1337   1887   \n",
       "\n",
       "   남녀용 겉옷 및 셔츠 도매업  기타주점업  일반 교과 학원  한식 육류요리 전문점  \n",
       "0              962   1413       382         1982  \n",
       "1            24248    982       175         2121  \n",
       "2              317   1332       573         1184  \n",
       "3             1572    621      1494         1545  \n",
       "4              687   1577      1646         1678  "
      ]
     },
     "execution_count": 11,
     "metadata": {},
     "output_type": "execute_result"
    }
   ],
   "source": [
    "# 데이터 불러오기\n",
    "seoul_business = pd.read_csv(path + '1.4 seoul_business_type.csv', sep=',', encoding='UTF-8')\n",
    "\n",
    "# 확인\n",
    "seoul_business.head()"
   ]
  },
  {
   "cell_type": "markdown",
   "id": "73396b42",
   "metadata": {},
   "source": [
    "---"
   ]
  },
  {
   "cell_type": "markdown",
   "id": "annoying-trout",
   "metadata": {},
   "source": [
    "# 2. 기본 정보 확인 및 전처리\n",
    "\n",
    "- 분석 대상 테이터를 탐색하고 적절한 전처리를 수행합니다."
   ]
  },
  {
   "cell_type": "markdown",
   "id": "c8b5e166-905b-4218-b7f8-212eebd1ae9c",
   "metadata": {},
   "source": [
    "## [실습2] 기본 정보 확인\n",
    "\n",
    "- seoul_business 데이터프레임 정보를 확인하세요.\n",
    "- head(), tail(), info(), describe() 메서드 등을 활용해 보세요."
   ]
  },
  {
   "cell_type": "code",
   "execution_count": 13,
   "id": "5529bf6a-b30c-47f8-b155-4a1afb82c224",
   "metadata": {},
   "outputs": [
    {
     "data": {
      "text/html": [
       "<div>\n",
       "<style scoped>\n",
       "    .dataframe tbody tr th:only-of-type {\n",
       "        vertical-align: middle;\n",
       "    }\n",
       "\n",
       "    .dataframe tbody tr th {\n",
       "        vertical-align: top;\n",
       "    }\n",
       "\n",
       "    .dataframe thead th {\n",
       "        text-align: right;\n",
       "    }\n",
       "</style>\n",
       "<table border=\"1\" class=\"dataframe\">\n",
       "  <thead>\n",
       "    <tr style=\"text-align: right;\">\n",
       "      <th></th>\n",
       "      <th>자치구</th>\n",
       "      <th>택시운송업</th>\n",
       "      <th>한식 일반 음식점업</th>\n",
       "      <th>용달 화물자동차 운송업</th>\n",
       "      <th>부동산 중개 및 대리업</th>\n",
       "      <th>두발미용업</th>\n",
       "      <th>커피전문점</th>\n",
       "      <th>남녀용 겉옷 및 셔츠 도매업</th>\n",
       "      <th>기타주점업</th>\n",
       "      <th>일반 교과 학원</th>\n",
       "      <th>한식 육류요리 전문점</th>\n",
       "    </tr>\n",
       "  </thead>\n",
       "  <tbody>\n",
       "    <tr>\n",
       "      <th>20</th>\n",
       "      <td>관악구</td>\n",
       "      <td>2027</td>\n",
       "      <td>3689</td>\n",
       "      <td>1600</td>\n",
       "      <td>2136</td>\n",
       "      <td>1604</td>\n",
       "      <td>2049</td>\n",
       "      <td>190</td>\n",
       "      <td>1672</td>\n",
       "      <td>1230</td>\n",
       "      <td>1628</td>\n",
       "    </tr>\n",
       "    <tr>\n",
       "      <th>21</th>\n",
       "      <td>서초구</td>\n",
       "      <td>903</td>\n",
       "      <td>6712</td>\n",
       "      <td>411</td>\n",
       "      <td>2758</td>\n",
       "      <td>1832</td>\n",
       "      <td>3897</td>\n",
       "      <td>1563</td>\n",
       "      <td>1255</td>\n",
       "      <td>3812</td>\n",
       "      <td>2338</td>\n",
       "    </tr>\n",
       "    <tr>\n",
       "      <th>22</th>\n",
       "      <td>강남구</td>\n",
       "      <td>2517</td>\n",
       "      <td>11486</td>\n",
       "      <td>487</td>\n",
       "      <td>6508</td>\n",
       "      <td>6255</td>\n",
       "      <td>7273</td>\n",
       "      <td>8320</td>\n",
       "      <td>2528</td>\n",
       "      <td>9020</td>\n",
       "      <td>5008</td>\n",
       "    </tr>\n",
       "    <tr>\n",
       "      <th>23</th>\n",
       "      <td>송파구</td>\n",
       "      <td>4850</td>\n",
       "      <td>5760</td>\n",
       "      <td>1931</td>\n",
       "      <td>3190</td>\n",
       "      <td>2328</td>\n",
       "      <td>3372</td>\n",
       "      <td>2830</td>\n",
       "      <td>1469</td>\n",
       "      <td>4160</td>\n",
       "      <td>2781</td>\n",
       "    </tr>\n",
       "    <tr>\n",
       "      <th>24</th>\n",
       "      <td>강동구</td>\n",
       "      <td>4980</td>\n",
       "      <td>3388</td>\n",
       "      <td>1566</td>\n",
       "      <td>1990</td>\n",
       "      <td>1429</td>\n",
       "      <td>1660</td>\n",
       "      <td>1433</td>\n",
       "      <td>1349</td>\n",
       "      <td>2104</td>\n",
       "      <td>1459</td>\n",
       "    </tr>\n",
       "  </tbody>\n",
       "</table>\n",
       "</div>"
      ],
      "text/plain": [
       "    자치구  택시운송업  한식 일반 음식점업  용달 화물자동차 운송업  부동산 중개 및 대리업  두발미용업  커피전문점  \\\n",
       "20  관악구   2027        3689          1600          2136   1604   2049   \n",
       "21  서초구    903        6712           411          2758   1832   3897   \n",
       "22  강남구   2517       11486           487          6508   6255   7273   \n",
       "23  송파구   4850        5760          1931          3190   2328   3372   \n",
       "24  강동구   4980        3388          1566          1990   1429   1660   \n",
       "\n",
       "    남녀용 겉옷 및 셔츠 도매업  기타주점업  일반 교과 학원  한식 육류요리 전문점  \n",
       "20              190   1672      1230         1628  \n",
       "21             1563   1255      3812         2338  \n",
       "22             8320   2528      9020         5008  \n",
       "23             2830   1469      4160         2781  \n",
       "24             1433   1349      2104         1459  "
      ]
     },
     "execution_count": 13,
     "metadata": {},
     "output_type": "execute_result"
    }
   ],
   "source": [
    "# tail() 메서드로 하위 데이터 확인\n",
    "seoul_business.tail()"
   ]
  },
  {
   "cell_type": "code",
   "execution_count": 15,
   "id": "f36a3d0e-07bc-4236-b705-f5b5a45ea8e0",
   "metadata": {
    "tags": []
   },
   "outputs": [
    {
     "name": "stdout",
     "output_type": "stream",
     "text": [
      "<class 'pandas.core.frame.DataFrame'>\n",
      "RangeIndex: 25 entries, 0 to 24\n",
      "Data columns (total 11 columns):\n",
      " #   Column           Non-Null Count  Dtype \n",
      "---  ------           --------------  ----- \n",
      " 0   자치구              25 non-null     object\n",
      " 1   택시운송업            25 non-null     int64 \n",
      " 2   한식 일반 음식점업       25 non-null     int64 \n",
      " 3   용달 화물자동차 운송업     25 non-null     int64 \n",
      " 4   부동산 중개 및 대리업     25 non-null     int64 \n",
      " 5   두발미용업            25 non-null     int64 \n",
      " 6   커피전문점            25 non-null     int64 \n",
      " 7   남녀용 겉옷 및 셔츠 도매업  25 non-null     int64 \n",
      " 8   기타주점업            25 non-null     int64 \n",
      " 9   일반 교과 학원         25 non-null     int64 \n",
      " 10  한식 육류요리 전문점      25 non-null     int64 \n",
      "dtypes: int64(10), object(1)\n",
      "memory usage: 2.3+ KB\n"
     ]
    }
   ],
   "source": [
    "# info() 메서드로 열 이름, 데이터 개수, 데이터 형식 등 확인\n",
    "seoul_business.info()"
   ]
  },
  {
   "cell_type": "code",
   "execution_count": 17,
   "id": "9f0a5f18-76b0-49a5-b9f1-62558407879b",
   "metadata": {
    "tags": []
   },
   "outputs": [
    {
     "data": {
      "text/html": [
       "<div>\n",
       "<style scoped>\n",
       "    .dataframe tbody tr th:only-of-type {\n",
       "        vertical-align: middle;\n",
       "    }\n",
       "\n",
       "    .dataframe tbody tr th {\n",
       "        vertical-align: top;\n",
       "    }\n",
       "\n",
       "    .dataframe thead th {\n",
       "        text-align: right;\n",
       "    }\n",
       "</style>\n",
       "<table border=\"1\" class=\"dataframe\">\n",
       "  <thead>\n",
       "    <tr style=\"text-align: right;\">\n",
       "      <th></th>\n",
       "      <th>택시운송업</th>\n",
       "      <th>한식 일반 음식점업</th>\n",
       "      <th>용달 화물자동차 운송업</th>\n",
       "      <th>부동산 중개 및 대리업</th>\n",
       "      <th>두발미용업</th>\n",
       "      <th>커피전문점</th>\n",
       "      <th>남녀용 겉옷 및 셔츠 도매업</th>\n",
       "      <th>기타주점업</th>\n",
       "      <th>일반 교과 학원</th>\n",
       "      <th>한식 육류요리 전문점</th>\n",
       "    </tr>\n",
       "  </thead>\n",
       "  <tbody>\n",
       "    <tr>\n",
       "      <th>count</th>\n",
       "      <td>25.000000</td>\n",
       "      <td>25.00000</td>\n",
       "      <td>25.000000</td>\n",
       "      <td>25.00000</td>\n",
       "      <td>25.000000</td>\n",
       "      <td>25.000000</td>\n",
       "      <td>25.000000</td>\n",
       "      <td>25.000000</td>\n",
       "      <td>25.000000</td>\n",
       "      <td>25.000000</td>\n",
       "    </tr>\n",
       "    <tr>\n",
       "      <th>mean</th>\n",
       "      <td>3068.040000</td>\n",
       "      <td>4007.32000</td>\n",
       "      <td>1174.240000</td>\n",
       "      <td>1705.44000</td>\n",
       "      <td>1448.560000</td>\n",
       "      <td>2292.880000</td>\n",
       "      <td>2044.640000</td>\n",
       "      <td>1254.840000</td>\n",
       "      <td>2030.920000</td>\n",
       "      <td>1786.120000</td>\n",
       "    </tr>\n",
       "    <tr>\n",
       "      <th>std</th>\n",
       "      <td>1963.159772</td>\n",
       "      <td>2132.72849</td>\n",
       "      <td>482.591639</td>\n",
       "      <td>1163.42057</td>\n",
       "      <td>1090.730645</td>\n",
       "      <td>1452.869383</td>\n",
       "      <td>4921.994987</td>\n",
       "      <td>502.206936</td>\n",
       "      <td>1952.686246</td>\n",
       "      <td>854.764359</td>\n",
       "    </tr>\n",
       "    <tr>\n",
       "      <th>min</th>\n",
       "      <td>215.000000</td>\n",
       "      <td>2009.00000</td>\n",
       "      <td>333.000000</td>\n",
       "      <td>794.00000</td>\n",
       "      <td>480.000000</td>\n",
       "      <td>837.000000</td>\n",
       "      <td>43.000000</td>\n",
       "      <td>477.000000</td>\n",
       "      <td>175.000000</td>\n",
       "      <td>943.000000</td>\n",
       "    </tr>\n",
       "    <tr>\n",
       "      <th>25%</th>\n",
       "      <td>1838.000000</td>\n",
       "      <td>2663.00000</td>\n",
       "      <td>829.000000</td>\n",
       "      <td>1152.00000</td>\n",
       "      <td>891.000000</td>\n",
       "      <td>1375.000000</td>\n",
       "      <td>190.000000</td>\n",
       "      <td>955.000000</td>\n",
       "      <td>1045.000000</td>\n",
       "      <td>1184.000000</td>\n",
       "    </tr>\n",
       "    <tr>\n",
       "      <th>50%</th>\n",
       "      <td>2589.000000</td>\n",
       "      <td>2987.00000</td>\n",
       "      <td>1293.000000</td>\n",
       "      <td>1364.00000</td>\n",
       "      <td>1245.000000</td>\n",
       "      <td>1748.000000</td>\n",
       "      <td>700.000000</td>\n",
       "      <td>1165.000000</td>\n",
       "      <td>1463.000000</td>\n",
       "      <td>1545.000000</td>\n",
       "    </tr>\n",
       "    <tr>\n",
       "      <th>75%</th>\n",
       "      <td>4850.000000</td>\n",
       "      <td>4705.00000</td>\n",
       "      <td>1566.000000</td>\n",
       "      <td>1903.00000</td>\n",
       "      <td>1443.000000</td>\n",
       "      <td>3295.000000</td>\n",
       "      <td>1433.000000</td>\n",
       "      <td>1469.000000</td>\n",
       "      <td>2104.000000</td>\n",
       "      <td>2121.000000</td>\n",
       "    </tr>\n",
       "    <tr>\n",
       "      <th>max</th>\n",
       "      <td>6922.000000</td>\n",
       "      <td>11486.00000</td>\n",
       "      <td>1931.000000</td>\n",
       "      <td>6508.00000</td>\n",
       "      <td>6255.000000</td>\n",
       "      <td>7273.000000</td>\n",
       "      <td>24248.000000</td>\n",
       "      <td>2559.000000</td>\n",
       "      <td>9020.000000</td>\n",
       "      <td>5008.000000</td>\n",
       "    </tr>\n",
       "  </tbody>\n",
       "</table>\n",
       "</div>"
      ],
      "text/plain": [
       "             택시운송업   한식 일반 음식점업  용달 화물자동차 운송업  부동산 중개 및 대리업        두발미용업  \\\n",
       "count    25.000000     25.00000     25.000000      25.00000    25.000000   \n",
       "mean   3068.040000   4007.32000   1174.240000    1705.44000  1448.560000   \n",
       "std    1963.159772   2132.72849    482.591639    1163.42057  1090.730645   \n",
       "min     215.000000   2009.00000    333.000000     794.00000   480.000000   \n",
       "25%    1838.000000   2663.00000    829.000000    1152.00000   891.000000   \n",
       "50%    2589.000000   2987.00000   1293.000000    1364.00000  1245.000000   \n",
       "75%    4850.000000   4705.00000   1566.000000    1903.00000  1443.000000   \n",
       "max    6922.000000  11486.00000   1931.000000    6508.00000  6255.000000   \n",
       "\n",
       "             커피전문점  남녀용 겉옷 및 셔츠 도매업        기타주점업     일반 교과 학원  한식 육류요리 전문점  \n",
       "count    25.000000        25.000000    25.000000    25.000000    25.000000  \n",
       "mean   2292.880000      2044.640000  1254.840000  2030.920000  1786.120000  \n",
       "std    1452.869383      4921.994987   502.206936  1952.686246   854.764359  \n",
       "min     837.000000        43.000000   477.000000   175.000000   943.000000  \n",
       "25%    1375.000000       190.000000   955.000000  1045.000000  1184.000000  \n",
       "50%    1748.000000       700.000000  1165.000000  1463.000000  1545.000000  \n",
       "75%    3295.000000      1433.000000  1469.000000  2104.000000  2121.000000  \n",
       "max    7273.000000     24248.000000  2559.000000  9020.000000  5008.000000  "
      ]
     },
     "execution_count": 17,
     "metadata": {},
     "output_type": "execute_result"
    }
   ],
   "source": [
    "# describe() 메서드로 기술통계정보 확인\n",
    "seoul_business.describe()"
   ]
  },
  {
   "cell_type": "markdown",
   "id": "ceb6dd86-095f-4ae3-a12a-d9eede2231ce",
   "metadata": {},
   "source": [
    "## [실습3] 주요 업종 선택\n",
    "\n",
    "- 대중교통 이동수요가 높을 것으로 예상되는 업종, 종사자수가 많은 업종만을 선택합니다.\n",
    "- 단, '자치구' 열은 꼭 포함해야 합니다.\n",
    "    - 예: '자치구', '한식 일반 음식점업', '커피전문점', '기타주점업' \n",
    "- seoul_business 데이터프레임이 위에서 선택한 열만 갖도록 변경하세요."
   ]
  },
  {
   "cell_type": "code",
   "execution_count": 19,
   "id": "c68969ff-9ec0-4eb5-90f0-cb38090fc5d1",
   "metadata": {
    "tags": []
   },
   "outputs": [
    {
     "data": {
      "text/html": [
       "<div>\n",
       "<style scoped>\n",
       "    .dataframe tbody tr th:only-of-type {\n",
       "        vertical-align: middle;\n",
       "    }\n",
       "\n",
       "    .dataframe tbody tr th {\n",
       "        vertical-align: top;\n",
       "    }\n",
       "\n",
       "    .dataframe thead th {\n",
       "        text-align: right;\n",
       "    }\n",
       "</style>\n",
       "<table border=\"1\" class=\"dataframe\">\n",
       "  <thead>\n",
       "    <tr style=\"text-align: right;\">\n",
       "      <th></th>\n",
       "      <th>자치구</th>\n",
       "      <th>택시운송업</th>\n",
       "      <th>기타주점업</th>\n",
       "      <th>남녀용 겉옷 및 셔츠 도매업</th>\n",
       "      <th>일반 교과 학원</th>\n",
       "    </tr>\n",
       "  </thead>\n",
       "  <tbody>\n",
       "    <tr>\n",
       "      <th>0</th>\n",
       "      <td>종로구</td>\n",
       "      <td>215</td>\n",
       "      <td>1413</td>\n",
       "      <td>962</td>\n",
       "      <td>382</td>\n",
       "    </tr>\n",
       "    <tr>\n",
       "      <th>1</th>\n",
       "      <td>중구</td>\n",
       "      <td>235</td>\n",
       "      <td>982</td>\n",
       "      <td>24248</td>\n",
       "      <td>175</td>\n",
       "    </tr>\n",
       "    <tr>\n",
       "      <th>2</th>\n",
       "      <td>용산구</td>\n",
       "      <td>523</td>\n",
       "      <td>1332</td>\n",
       "      <td>317</td>\n",
       "      <td>573</td>\n",
       "    </tr>\n",
       "    <tr>\n",
       "      <th>3</th>\n",
       "      <td>성동구</td>\n",
       "      <td>2527</td>\n",
       "      <td>621</td>\n",
       "      <td>1572</td>\n",
       "      <td>1494</td>\n",
       "    </tr>\n",
       "    <tr>\n",
       "      <th>4</th>\n",
       "      <td>광진구</td>\n",
       "      <td>1744</td>\n",
       "      <td>1577</td>\n",
       "      <td>687</td>\n",
       "      <td>1646</td>\n",
       "    </tr>\n",
       "  </tbody>\n",
       "</table>\n",
       "</div>"
      ],
      "text/plain": [
       "   자치구  택시운송업  기타주점업  남녀용 겉옷 및 셔츠 도매업  일반 교과 학원\n",
       "0  종로구    215   1413              962       382\n",
       "1   중구    235    982            24248       175\n",
       "2  용산구    523   1332              317       573\n",
       "3  성동구   2527    621             1572      1494\n",
       "4  광진구   1744   1577              687      1646"
      ]
     },
     "execution_count": 19,
     "metadata": {},
     "output_type": "execute_result"
    }
   ],
   "source": [
    "# 대중교통 이동수요가 높을 것으로 예상되는 업종, 종사자수가 많은 업종\n",
    "# df = df[['열1', '열2', '열3']] 형태의 구문 사용\n",
    "seoul_business = seoul_business[['자치구', '택시운송업', '기타주점업', '남녀용 겉옷 및 셔츠 도매업', '일반 교과 학원']]\n",
    "\n",
    "# 확인\n",
    "seoul_business.head()"
   ]
  },
  {
   "cell_type": "markdown",
   "id": "2a694f43-8a8a-4ebb-b08c-c041b9d10820",
   "metadata": {},
   "source": [
    "- seoul_business 데이터프레임을 df_seoul_business.csv 파일로 저장하세요."
   ]
  },
  {
   "cell_type": "code",
   "execution_count": 21,
   "id": "f2d4100e-e165-45cc-a633-fd1b33711f83",
   "metadata": {
    "tags": []
   },
   "outputs": [],
   "source": [
    "# csv 파일로 저장 (파일명: df_seoul_business.csv)\n",
    "# 참고: to_csv() 메서드를 사용, index=False 지정 \n",
    "seoul_business.to_csv(path + 'df_seoul_business.csv', index=False)"
   ]
  },
  {
   "cell_type": "markdown",
   "id": "602b8bae",
   "metadata": {},
   "source": [
    "---"
   ]
  }
 ],
 "metadata": {
  "kernelspec": {
   "display_name": "Python 3 (ipykernel)",
   "language": "python",
   "name": "python3"
  },
  "language_info": {
   "codemirror_mode": {
    "name": "ipython",
    "version": 3
   },
   "file_extension": ".py",
   "mimetype": "text/x-python",
   "name": "python",
   "nbconvert_exporter": "python",
   "pygments_lexer": "ipython3",
   "version": "3.12.4"
  },
  "vscode": {
   "interpreter": {
    "hash": "f08154012ddadd8e950e6e9e035c7a7b32c136e7647e9b7c77e02eb723a8bedb"
   }
  }
 },
 "nbformat": 4,
 "nbformat_minor": 5
}
