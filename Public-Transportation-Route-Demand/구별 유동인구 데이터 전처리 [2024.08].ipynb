{
 "cells": [
  {
   "cell_type": "markdown",
   "id": "99351edd-a51a-4894-a520-fa4a27f3b0b3",
   "metadata": {},
   "source": [
    "# AIVLE스쿨 1차 미니프로젝트: 서울시 생활정보 기반 대중교통 수요 분석"
   ]
  },
  {
   "cell_type": "markdown",
   "id": "edfbb433-8fbf-4c5f-b91b-55aa7b9a26b7",
   "metadata": {},
   "source": [
    "<img src = \"https://github.com/Jangrae/img/blob/master/moving.png?raw=true\" width=800, align=\"left\"/>"
   ]
  },
  {
   "cell_type": "markdown",
   "id": "boxed-jamaica",
   "metadata": {},
   "source": [
    "- 본 과정에서는 실제 사례와 데이터를 기반으로 문제를 해결하는 전체 과정을 자기 주도형 실습으로 진행해볼 예정입니다.\n",
    "- 앞선 교육과정을 정리하는 마음과 지금까지 배운 내용을 바탕으로 문제 해결을 해볼게요!\n",
    "- 미니 프로젝트를 통한 문제 해결 과정 'A에서 Z까지', 지금부터 시작합니다!"
   ]
  },
  {
   "cell_type": "markdown",
   "id": "ef575059",
   "metadata": {},
   "source": [
    "---"
   ]
  },
  {
   "cell_type": "markdown",
   "id": "f2bc4fa5",
   "metadata": {},
   "source": [
    "# [미션 2] 구별 유동인구 분석"
   ]
  },
  {
   "cell_type": "markdown",
   "id": "91d962db-b395-4dec-993c-a445038ab074",
   "metadata": {
    "id": "gklxNfgNpkls"
   },
   "source": [
    "### 로컬 수행(Anaconda)\n",
    "- project 폴더에 필요한 파일들을 넣고, 본 파일을 열었다면, 별도 경로 지정이 필요하지 않습니다."
   ]
  },
  {
   "cell_type": "code",
   "execution_count": 1,
   "id": "561a9674-0247-4394-99cc-960a16124a39",
   "metadata": {
    "id": "PNI6X2yxpkls",
    "tags": []
   },
   "outputs": [],
   "source": [
    "# 기본 경로\n",
    "path = ''"
   ]
  },
  {
   "cell_type": "markdown",
   "id": "a4ca362e-4382-4ca2-abe4-4de911a09ca8",
   "metadata": {
    "id": "7rWT4biQpkls"
   },
   "source": [
    "### 구글 콜랩 수행\n",
    "\n",
    "- 구글 콜랩을 사용중이면 구글 드라이브를 연결합니다."
   ]
  },
  {
   "cell_type": "code",
   "execution_count": 4,
   "id": "0ec1393f-cb07-472b-9fef-5d4f2e0b210b",
   "metadata": {
    "id": "CLasRk8Spklt",
    "tags": []
   },
   "outputs": [],
   "source": [
    "# # 구글 드라이브 연결, 패스 지정\n",
    "# import sys\n",
    "# if 'google.colab' in sys.modules:\n",
    "#     from google.colab import drive\n",
    "#     drive.mount('/content/drive')\n",
    "#     path = '/content/drive/MyDrive/project/'"
   ]
  },
  {
   "cell_type": "markdown",
   "id": "99e9d97d-a796-4292-9576-8217b3c04158",
   "metadata": {},
   "source": [
    "### 한글 폰트 표시를 위해 설치합니다."
   ]
  },
  {
   "cell_type": "code",
   "execution_count": 7,
   "id": "dff2bb4e-94e3-4387-a482-ccd741b1e843",
   "metadata": {},
   "outputs": [],
   "source": [
    "# 한글 표시를 위한 라이브러리 설치\n",
    "!pip install koreanize_matplotlib -q"
   ]
  },
  {
   "cell_type": "markdown",
   "id": "d29ef386-03aa-4ef2-afbb-083371e67c89",
   "metadata": {},
   "source": [
    "### 필요한 라이브러리를 불러옵니다."
   ]
  },
  {
   "cell_type": "code",
   "execution_count": 9,
   "id": "b611ace8-e5cd-42dd-95e9-7c8ee965016c",
   "metadata": {},
   "outputs": [],
   "source": [
    "# 라이브러리 불러오기\n",
    "import numpy as np\n",
    "import pandas as pd\n",
    "import matplotlib.pyplot as plt\n",
    "import seaborn as sns\n",
    "import koreanize_matplotlib\n",
    "import warnings\n",
    "\n",
    "warnings.filterwarnings(action='ignore')\n",
    "%config InlineBackend.figure_format='retina'"
   ]
  },
  {
   "cell_type": "markdown",
   "id": "revolutionary-farmer",
   "metadata": {},
   "source": [
    "### 기본 데이터: 1.2 seoul_moving_month_202408.csv\n",
    "\n",
    "- 서울 시 구별 이동 2024년 8월 데이터\n",
    "- 출처: https://data.seoul.go.kr/dataVisual/seoul/seoulLivingMigration.do"
   ]
  },
  {
   "cell_type": "markdown",
   "id": "matched-broad",
   "metadata": {},
   "source": [
    "---"
   ]
  },
  {
   "cell_type": "markdown",
   "id": "warming-gentleman",
   "metadata": {},
   "source": [
    "# 1. 데이터 불러오기\n",
    "\n",
    "- 분석 대상 데이터를 불러와 데이터프레임으로 선언합니다."
   ]
  },
  {
   "cell_type": "markdown",
   "id": "718b84d9-e2ea-444f-b58e-be5f6cc83dd3",
   "metadata": {},
   "source": [
    "### [참고] 데이터 프레임을 불러오고 변수로 저장(CSV 기준으로 진행)\n",
    "\n",
    "- csv: pd.read_csv('파일이름.csv')\n",
    "- txt: pd.read_csv('파일이름.csv', sep='구분자')\n",
    "- xlsx: pd.read_excel('파일이름.xlsx')\n",
    "- pickle: pd.read_pickle('파일이름.pkl')"
   ]
  },
  {
   "cell_type": "markdown",
   "id": "e8bfdc90-5614-4eb1-ab32-8904ca96a86b",
   "metadata": {},
   "source": [
    "## [실습1] 데이터 불러오기\n",
    "\n",
    "- 대상 파일: 1.2 seoul_moving_month_202408.csv\n",
    "- 불러온 데이터는 seoul_moving 데이터프레임으로 선언하세요.\n",
    "- 데이터 불러올 때 참고할 사항 \n",
    "    - 구분자(sep)는 ',' 입니다\n",
    "    - UTF-8 인코더를 사용해 주세요(생략 가능)"
   ]
  },
  {
   "cell_type": "code",
   "execution_count": 15,
   "id": "saving-slope",
   "metadata": {
    "tags": []
   },
   "outputs": [
    {
     "data": {
      "text/html": [
       "<div>\n",
       "<style scoped>\n",
       "    .dataframe tbody tr th:only-of-type {\n",
       "        vertical-align: middle;\n",
       "    }\n",
       "\n",
       "    .dataframe tbody tr th {\n",
       "        vertical-align: top;\n",
       "    }\n",
       "\n",
       "    .dataframe thead th {\n",
       "        text-align: right;\n",
       "    }\n",
       "</style>\n",
       "<table border=\"1\" class=\"dataframe\">\n",
       "  <thead>\n",
       "    <tr style=\"text-align: right;\">\n",
       "      <th></th>\n",
       "      <th>대상연월</th>\n",
       "      <th>요일</th>\n",
       "      <th>도착시간</th>\n",
       "      <th>출발 시군구 코드</th>\n",
       "      <th>도착 시군구 코드</th>\n",
       "      <th>성별</th>\n",
       "      <th>나이</th>\n",
       "      <th>이동유형</th>\n",
       "      <th>평균 이동 시간(분)</th>\n",
       "      <th>이동인구(합)</th>\n",
       "    </tr>\n",
       "  </thead>\n",
       "  <tbody>\n",
       "    <tr>\n",
       "      <th>0</th>\n",
       "      <td>202408</td>\n",
       "      <td>일</td>\n",
       "      <td>0</td>\n",
       "      <td>11010</td>\n",
       "      <td>11010</td>\n",
       "      <td>F</td>\n",
       "      <td>0</td>\n",
       "      <td>EE</td>\n",
       "      <td>136</td>\n",
       "      <td>28.01</td>\n",
       "    </tr>\n",
       "    <tr>\n",
       "      <th>1</th>\n",
       "      <td>202408</td>\n",
       "      <td>일</td>\n",
       "      <td>0</td>\n",
       "      <td>11010</td>\n",
       "      <td>11010</td>\n",
       "      <td>F</td>\n",
       "      <td>0</td>\n",
       "      <td>WH</td>\n",
       "      <td>7</td>\n",
       "      <td>28.02</td>\n",
       "    </tr>\n",
       "    <tr>\n",
       "      <th>2</th>\n",
       "      <td>202408</td>\n",
       "      <td>일</td>\n",
       "      <td>0</td>\n",
       "      <td>11010</td>\n",
       "      <td>11010</td>\n",
       "      <td>F</td>\n",
       "      <td>10</td>\n",
       "      <td>EE</td>\n",
       "      <td>55</td>\n",
       "      <td>23.96</td>\n",
       "    </tr>\n",
       "    <tr>\n",
       "      <th>3</th>\n",
       "      <td>202408</td>\n",
       "      <td>일</td>\n",
       "      <td>0</td>\n",
       "      <td>11010</td>\n",
       "      <td>11010</td>\n",
       "      <td>F</td>\n",
       "      <td>10</td>\n",
       "      <td>HH</td>\n",
       "      <td>84</td>\n",
       "      <td>11.83</td>\n",
       "    </tr>\n",
       "    <tr>\n",
       "      <th>4</th>\n",
       "      <td>202408</td>\n",
       "      <td>일</td>\n",
       "      <td>0</td>\n",
       "      <td>11010</td>\n",
       "      <td>11010</td>\n",
       "      <td>F</td>\n",
       "      <td>10</td>\n",
       "      <td>WH</td>\n",
       "      <td>166</td>\n",
       "      <td>5.94</td>\n",
       "    </tr>\n",
       "  </tbody>\n",
       "</table>\n",
       "</div>"
      ],
      "text/plain": [
       "     대상연월 요일  도착시간  출발 시군구 코드  도착 시군구 코드 성별  나이 이동유형  평균 이동 시간(분) 이동인구(합)\n",
       "0  202408  일     0      11010      11010  F   0   EE          136   28.01\n",
       "1  202408  일     0      11010      11010  F   0   WH            7   28.02\n",
       "2  202408  일     0      11010      11010  F  10   EE           55   23.96\n",
       "3  202408  일     0      11010      11010  F  10   HH           84   11.83\n",
       "4  202408  일     0      11010      11010  F  10   WH          166    5.94"
      ]
     },
     "execution_count": 15,
     "metadata": {},
     "output_type": "execute_result"
    }
   ],
   "source": [
    "# 데이터 불러오기\n",
    "seoul_moving = pd.read_csv(path + '1.2 seoul_moving_month_202408.csv', sep=',', encoding='UTF-8')\n",
    "\n",
    "# 확인\n",
    "seoul_moving.head()"
   ]
  },
  {
   "cell_type": "markdown",
   "id": "dc523c05-e559-4065-a02c-da49711e7fbb",
   "metadata": {},
   "source": [
    "**[데이터 소개]**\n",
    "- 도착시간: 0 -> 00:00~00:59를 의미 \n",
    "- 시구군 코드: 자치구 코드\n",
    "- 성별: F(여성), M(남성)\n",
    "- 나이: 0 ~ 9세, 10 ~ 79세 (5세 단위), 80세 이상으로 구분\n",
    "- 이동유형: H(야간상주지), W(주간상주지), E(기타)\n",
    "- 평균 이동 시간(분): 동일 열 내 이동인구의 월 단위 평균 이동 시간\n",
    "- 이동인구(합): 추정 합산값으로 소수점 표출, 개인정보 비식별화를 위해 3명 미만의 경우 * 처리"
   ]
  },
  {
   "cell_type": "code",
   "execution_count": 17,
   "id": "funny-subcommittee",
   "metadata": {
    "tags": []
   },
   "outputs": [
    {
     "data": {
      "text/plain": [
       "(30817445, 10)"
      ]
     },
     "execution_count": 17,
     "metadata": {},
     "output_type": "execute_result"
    }
   ],
   "source": [
    "# 데이터프레임 크기(행, 열) 확인\n",
    "seoul_moving.shape"
   ]
  },
  {
   "cell_type": "markdown",
   "id": "73396b42",
   "metadata": {},
   "source": [
    "---"
   ]
  },
  {
   "cell_type": "markdown",
   "id": "annoying-trout",
   "metadata": {},
   "source": [
    "# 2. 기본 정보 확인 및 전처리\n",
    "\n",
    "- 분석 대상 테이터를 탐색하고 적절한 전처리를 수행합니다."
   ]
  },
  {
   "cell_type": "markdown",
   "id": "romantic-johnson",
   "metadata": {},
   "source": [
    "## [실습2] 기본 정보 확인\n",
    "\n",
    "- seoul_moving 데이터프레임 정보를 확인하세요.\r",
    "- head(), tail(), info(), describe() 메서드 등을 활용해 보세요."
   ]
  },
  {
   "cell_type": "code",
   "execution_count": 22,
   "id": "07bbbd53-c021-48b5-9660-7ee1262bb8f6",
   "metadata": {
    "tags": []
   },
   "outputs": [
    {
     "data": {
      "text/html": [
       "<div>\n",
       "<style scoped>\n",
       "    .dataframe tbody tr th:only-of-type {\n",
       "        vertical-align: middle;\n",
       "    }\n",
       "\n",
       "    .dataframe tbody tr th {\n",
       "        vertical-align: top;\n",
       "    }\n",
       "\n",
       "    .dataframe thead th {\n",
       "        text-align: right;\n",
       "    }\n",
       "</style>\n",
       "<table border=\"1\" class=\"dataframe\">\n",
       "  <thead>\n",
       "    <tr style=\"text-align: right;\">\n",
       "      <th></th>\n",
       "      <th>대상연월</th>\n",
       "      <th>요일</th>\n",
       "      <th>도착시간</th>\n",
       "      <th>출발 시군구 코드</th>\n",
       "      <th>도착 시군구 코드</th>\n",
       "      <th>성별</th>\n",
       "      <th>나이</th>\n",
       "      <th>이동유형</th>\n",
       "      <th>평균 이동 시간(분)</th>\n",
       "      <th>이동인구(합)</th>\n",
       "    </tr>\n",
       "  </thead>\n",
       "  <tbody>\n",
       "    <tr>\n",
       "      <th>0</th>\n",
       "      <td>202408</td>\n",
       "      <td>일</td>\n",
       "      <td>0</td>\n",
       "      <td>11010</td>\n",
       "      <td>11010</td>\n",
       "      <td>F</td>\n",
       "      <td>0</td>\n",
       "      <td>EE</td>\n",
       "      <td>136</td>\n",
       "      <td>28.01</td>\n",
       "    </tr>\n",
       "    <tr>\n",
       "      <th>1</th>\n",
       "      <td>202408</td>\n",
       "      <td>일</td>\n",
       "      <td>0</td>\n",
       "      <td>11010</td>\n",
       "      <td>11010</td>\n",
       "      <td>F</td>\n",
       "      <td>0</td>\n",
       "      <td>WH</td>\n",
       "      <td>7</td>\n",
       "      <td>28.02</td>\n",
       "    </tr>\n",
       "    <tr>\n",
       "      <th>2</th>\n",
       "      <td>202408</td>\n",
       "      <td>일</td>\n",
       "      <td>0</td>\n",
       "      <td>11010</td>\n",
       "      <td>11010</td>\n",
       "      <td>F</td>\n",
       "      <td>10</td>\n",
       "      <td>EE</td>\n",
       "      <td>55</td>\n",
       "      <td>23.96</td>\n",
       "    </tr>\n",
       "    <tr>\n",
       "      <th>3</th>\n",
       "      <td>202408</td>\n",
       "      <td>일</td>\n",
       "      <td>0</td>\n",
       "      <td>11010</td>\n",
       "      <td>11010</td>\n",
       "      <td>F</td>\n",
       "      <td>10</td>\n",
       "      <td>HH</td>\n",
       "      <td>84</td>\n",
       "      <td>11.83</td>\n",
       "    </tr>\n",
       "    <tr>\n",
       "      <th>4</th>\n",
       "      <td>202408</td>\n",
       "      <td>일</td>\n",
       "      <td>0</td>\n",
       "      <td>11010</td>\n",
       "      <td>11010</td>\n",
       "      <td>F</td>\n",
       "      <td>10</td>\n",
       "      <td>WH</td>\n",
       "      <td>166</td>\n",
       "      <td>5.94</td>\n",
       "    </tr>\n",
       "  </tbody>\n",
       "</table>\n",
       "</div>"
      ],
      "text/plain": [
       "     대상연월 요일  도착시간  출발 시군구 코드  도착 시군구 코드 성별  나이 이동유형  평균 이동 시간(분) 이동인구(합)\n",
       "0  202408  일     0      11010      11010  F   0   EE          136   28.01\n",
       "1  202408  일     0      11010      11010  F   0   WH            7   28.02\n",
       "2  202408  일     0      11010      11010  F  10   EE           55   23.96\n",
       "3  202408  일     0      11010      11010  F  10   HH           84   11.83\n",
       "4  202408  일     0      11010      11010  F  10   WH          166    5.94"
      ]
     },
     "execution_count": 22,
     "metadata": {},
     "output_type": "execute_result"
    }
   ],
   "source": [
    "# head() 메서드로 상위 데이터 확인\n",
    "seoul_moving.head()"
   ]
  },
  {
   "cell_type": "markdown",
   "id": "b90fd066",
   "metadata": {},
   "source": [
    "**[0번 열의 의미]**\n",
    "\n",
    "~~~\n",
    "\"2024년 8월 일요일에 11010(종로구)에서 11010(종로구)으로 이동하여 0시 ~ 0시 59분 사이에 도착했고,\n",
    " E(기타)에서 E(기타)로 이동한 0 ~ 9세 여성은 총 28.01명이며 이들의 평균 이동시간은 136분이다\"\n",
    "~~~"
   ]
  },
  {
   "cell_type": "code",
   "execution_count": 25,
   "id": "1748507b-686d-4026-b871-29dec839375c",
   "metadata": {
    "tags": []
   },
   "outputs": [
    {
     "data": {
      "text/html": [
       "<div>\n",
       "<style scoped>\n",
       "    .dataframe tbody tr th:only-of-type {\n",
       "        vertical-align: middle;\n",
       "    }\n",
       "\n",
       "    .dataframe tbody tr th {\n",
       "        vertical-align: top;\n",
       "    }\n",
       "\n",
       "    .dataframe thead th {\n",
       "        text-align: right;\n",
       "    }\n",
       "</style>\n",
       "<table border=\"1\" class=\"dataframe\">\n",
       "  <thead>\n",
       "    <tr style=\"text-align: right;\">\n",
       "      <th></th>\n",
       "      <th>대상연월</th>\n",
       "      <th>요일</th>\n",
       "      <th>도착시간</th>\n",
       "      <th>출발 시군구 코드</th>\n",
       "      <th>도착 시군구 코드</th>\n",
       "      <th>성별</th>\n",
       "      <th>나이</th>\n",
       "      <th>이동유형</th>\n",
       "      <th>평균 이동 시간(분)</th>\n",
       "      <th>이동인구(합)</th>\n",
       "    </tr>\n",
       "  </thead>\n",
       "  <tbody>\n",
       "    <tr>\n",
       "      <th>30817440</th>\n",
       "      <td>202408</td>\n",
       "      <td>토</td>\n",
       "      <td>23</td>\n",
       "      <td>39000</td>\n",
       "      <td>11250</td>\n",
       "      <td>M</td>\n",
       "      <td>45</td>\n",
       "      <td>EH</td>\n",
       "      <td>184</td>\n",
       "      <td>3.16</td>\n",
       "    </tr>\n",
       "    <tr>\n",
       "      <th>30817441</th>\n",
       "      <td>202408</td>\n",
       "      <td>토</td>\n",
       "      <td>23</td>\n",
       "      <td>39000</td>\n",
       "      <td>11250</td>\n",
       "      <td>M</td>\n",
       "      <td>50</td>\n",
       "      <td>EH</td>\n",
       "      <td>173</td>\n",
       "      <td>6.61</td>\n",
       "    </tr>\n",
       "    <tr>\n",
       "      <th>30817442</th>\n",
       "      <td>202408</td>\n",
       "      <td>토</td>\n",
       "      <td>23</td>\n",
       "      <td>39000</td>\n",
       "      <td>11250</td>\n",
       "      <td>M</td>\n",
       "      <td>55</td>\n",
       "      <td>EH</td>\n",
       "      <td>164</td>\n",
       "      <td>6.55</td>\n",
       "    </tr>\n",
       "    <tr>\n",
       "      <th>30817443</th>\n",
       "      <td>202408</td>\n",
       "      <td>토</td>\n",
       "      <td>23</td>\n",
       "      <td>39000</td>\n",
       "      <td>11250</td>\n",
       "      <td>M</td>\n",
       "      <td>60</td>\n",
       "      <td>EW</td>\n",
       "      <td>207</td>\n",
       "      <td>3.52</td>\n",
       "    </tr>\n",
       "    <tr>\n",
       "      <th>30817444</th>\n",
       "      <td>202408</td>\n",
       "      <td>토</td>\n",
       "      <td>23</td>\n",
       "      <td>39000</td>\n",
       "      <td>11250</td>\n",
       "      <td>M</td>\n",
       "      <td>65</td>\n",
       "      <td>EE</td>\n",
       "      <td>155</td>\n",
       "      <td>4.08</td>\n",
       "    </tr>\n",
       "  </tbody>\n",
       "</table>\n",
       "</div>"
      ],
      "text/plain": [
       "            대상연월 요일  도착시간  출발 시군구 코드  도착 시군구 코드 성별  나이 이동유형  평균 이동 시간(분)  \\\n",
       "30817440  202408  토    23      39000      11250  M  45   EH          184   \n",
       "30817441  202408  토    23      39000      11250  M  50   EH          173   \n",
       "30817442  202408  토    23      39000      11250  M  55   EH          164   \n",
       "30817443  202408  토    23      39000      11250  M  60   EW          207   \n",
       "30817444  202408  토    23      39000      11250  M  65   EE          155   \n",
       "\n",
       "         이동인구(합)  \n",
       "30817440    3.16  \n",
       "30817441    6.61  \n",
       "30817442    6.55  \n",
       "30817443    3.52  \n",
       "30817444    4.08  "
      ]
     },
     "execution_count": 25,
     "metadata": {},
     "output_type": "execute_result"
    }
   ],
   "source": [
    "# tail() 메서드로 하위 데이터 확인\n",
    "seoul_moving.tail()"
   ]
  },
  {
   "cell_type": "code",
   "execution_count": 26,
   "id": "028536be-9429-48b3-8dd8-374edf466642",
   "metadata": {
    "tags": []
   },
   "outputs": [
    {
     "name": "stdout",
     "output_type": "stream",
     "text": [
      "<class 'pandas.core.frame.DataFrame'>\n",
      "RangeIndex: 30817445 entries, 0 to 30817444\n",
      "Data columns (total 10 columns):\n",
      " #   Column       Dtype \n",
      "---  ------       ----- \n",
      " 0   대상연월         int64 \n",
      " 1   요일           object\n",
      " 2   도착시간         int64 \n",
      " 3   출발 시군구 코드    int64 \n",
      " 4   도착 시군구 코드    int64 \n",
      " 5   성별           object\n",
      " 6   나이           int64 \n",
      " 7   이동유형         object\n",
      " 8   평균 이동 시간(분)  int64 \n",
      " 9   이동인구(합)      object\n",
      "dtypes: int64(6), object(4)\n",
      "memory usage: 2.3+ GB\n"
     ]
    }
   ],
   "source": [
    "# info() 메서드로 열 이름, 데이터 개수, 데이터 형식 등 확인\n",
    "seoul_moving.info()"
   ]
  },
  {
   "cell_type": "code",
   "execution_count": 27,
   "id": "ba84d251-7131-4e62-8dac-c9807e2825f4",
   "metadata": {},
   "outputs": [],
   "source": [
    "# 표시 형식 변경\n",
    "pd.set_option('display.float_format', '{:.4f}'.format)"
   ]
  },
  {
   "cell_type": "code",
   "execution_count": 28,
   "id": "1850b04a-c224-49d6-a4ac-2238f59ae023",
   "metadata": {
    "tags": []
   },
   "outputs": [
    {
     "data": {
      "text/html": [
       "<div>\n",
       "<style scoped>\n",
       "    .dataframe tbody tr th:only-of-type {\n",
       "        vertical-align: middle;\n",
       "    }\n",
       "\n",
       "    .dataframe tbody tr th {\n",
       "        vertical-align: top;\n",
       "    }\n",
       "\n",
       "    .dataframe thead th {\n",
       "        text-align: right;\n",
       "    }\n",
       "</style>\n",
       "<table border=\"1\" class=\"dataframe\">\n",
       "  <thead>\n",
       "    <tr style=\"text-align: right;\">\n",
       "      <th></th>\n",
       "      <th>대상연월</th>\n",
       "      <th>도착시간</th>\n",
       "      <th>출발 시군구 코드</th>\n",
       "      <th>도착 시군구 코드</th>\n",
       "      <th>나이</th>\n",
       "      <th>평균 이동 시간(분)</th>\n",
       "    </tr>\n",
       "  </thead>\n",
       "  <tbody>\n",
       "    <tr>\n",
       "      <th>count</th>\n",
       "      <td>30817445.0000</td>\n",
       "      <td>30817445.0000</td>\n",
       "      <td>30817445.0000</td>\n",
       "      <td>30817445.0000</td>\n",
       "      <td>30817445.0000</td>\n",
       "      <td>30817445.0000</td>\n",
       "    </tr>\n",
       "    <tr>\n",
       "      <th>mean</th>\n",
       "      <td>202408.0000</td>\n",
       "      <td>13.6159</td>\n",
       "      <td>17199.4540</td>\n",
       "      <td>17269.1410</td>\n",
       "      <td>43.0756</td>\n",
       "      <td>94.4543</td>\n",
       "    </tr>\n",
       "    <tr>\n",
       "      <th>std</th>\n",
       "      <td>0.0000</td>\n",
       "      <td>5.8779</td>\n",
       "      <td>9073.1107</td>\n",
       "      <td>9084.3081</td>\n",
       "      <td>18.1757</td>\n",
       "      <td>79.1972</td>\n",
       "    </tr>\n",
       "    <tr>\n",
       "      <th>min</th>\n",
       "      <td>202408.0000</td>\n",
       "      <td>0.0000</td>\n",
       "      <td>11010.0000</td>\n",
       "      <td>11010.0000</td>\n",
       "      <td>0.0000</td>\n",
       "      <td>1.0000</td>\n",
       "    </tr>\n",
       "    <tr>\n",
       "      <th>25%</th>\n",
       "      <td>202408.0000</td>\n",
       "      <td>10.0000</td>\n",
       "      <td>11110.0000</td>\n",
       "      <td>11110.0000</td>\n",
       "      <td>30.0000</td>\n",
       "      <td>49.0000</td>\n",
       "    </tr>\n",
       "    <tr>\n",
       "      <th>50%</th>\n",
       "      <td>202408.0000</td>\n",
       "      <td>14.0000</td>\n",
       "      <td>11200.0000</td>\n",
       "      <td>11200.0000</td>\n",
       "      <td>45.0000</td>\n",
       "      <td>75.0000</td>\n",
       "    </tr>\n",
       "    <tr>\n",
       "      <th>75%</th>\n",
       "      <td>202408.0000</td>\n",
       "      <td>18.0000</td>\n",
       "      <td>31021.0000</td>\n",
       "      <td>31021.0000</td>\n",
       "      <td>55.0000</td>\n",
       "      <td>113.0000</td>\n",
       "    </tr>\n",
       "    <tr>\n",
       "      <th>max</th>\n",
       "      <td>202408.0000</td>\n",
       "      <td>23.0000</td>\n",
       "      <td>39000.0000</td>\n",
       "      <td>39000.0000</td>\n",
       "      <td>80.0000</td>\n",
       "      <td>3644.0000</td>\n",
       "    </tr>\n",
       "  </tbody>\n",
       "</table>\n",
       "</div>"
      ],
      "text/plain": [
       "               대상연월          도착시간     출발 시군구 코드     도착 시군구 코드            나이  \\\n",
       "count 30817445.0000 30817445.0000 30817445.0000 30817445.0000 30817445.0000   \n",
       "mean    202408.0000       13.6159    17199.4540    17269.1410       43.0756   \n",
       "std          0.0000        5.8779     9073.1107     9084.3081       18.1757   \n",
       "min     202408.0000        0.0000    11010.0000    11010.0000        0.0000   \n",
       "25%     202408.0000       10.0000    11110.0000    11110.0000       30.0000   \n",
       "50%     202408.0000       14.0000    11200.0000    11200.0000       45.0000   \n",
       "75%     202408.0000       18.0000    31021.0000    31021.0000       55.0000   \n",
       "max     202408.0000       23.0000    39000.0000    39000.0000       80.0000   \n",
       "\n",
       "        평균 이동 시간(분)  \n",
       "count 30817445.0000  \n",
       "mean        94.4543  \n",
       "std         79.1972  \n",
       "min          1.0000  \n",
       "25%         49.0000  \n",
       "50%         75.0000  \n",
       "75%        113.0000  \n",
       "max       3644.0000  "
      ]
     },
     "execution_count": 28,
     "metadata": {},
     "output_type": "execute_result"
    }
   ],
   "source": [
    "# describe() 메서드로 기술통계정보 확인\n",
    "seoul_moving.describe()"
   ]
  },
  {
   "cell_type": "code",
   "execution_count": 29,
   "id": "462f481d-3661-41af-a6af-6b14196342ed",
   "metadata": {},
   "outputs": [],
   "source": [
    "# 표시 형식 초기화\n",
    "pd.reset_option('display.float_format')"
   ]
  },
  {
   "cell_type": "markdown",
   "id": "003322b3",
   "metadata": {},
   "source": [
    "## [실습3] 결측치 처리\n",
    "\n",
    "- NaN이 아닌 결측치를 처리해 보세요.\n",
    "- '이동인구(합)' 열 데이터 형식은 현재 object, 즉 str 형입니다.\n",
    "- 3명 미만 이동인구 합은 개인정보 비식별화를 위해 * 처리 되어 있기 때문입니다."
   ]
  },
  {
   "cell_type": "code",
   "execution_count": 31,
   "id": "64977ed3",
   "metadata": {
    "tags": []
   },
   "outputs": [
    {
     "data": {
      "text/plain": [
       "이동인구(합)\n",
       "*          3946178\n",
       "6.05        469786\n",
       "3.30        412951\n",
       "3.29        290769\n",
       "3.31        239926\n",
       "            ...   \n",
       "603.05           1\n",
       "977.58           1\n",
       "885.38           1\n",
       "1105.71          1\n",
       "765.75           1\n",
       "Name: count, Length: 143893, dtype: int64"
      ]
     },
     "execution_count": 31,
     "metadata": {},
     "output_type": "execute_result"
    }
   ],
   "source": [
    "# '이동인구(합)' 값별 갯수 확인\n",
    "# 참고: value_counts() 메서드 사용\n",
    "seoul_moving['이동인구(합)'].value_counts()"
   ]
  },
  {
   "cell_type": "markdown",
   "id": "279f933e-a499-40ef-816a-d4b89730ce94",
   "metadata": {},
   "source": [
    "- 그러므로 * 로 저장된 값을 나름의 기준으로 변경하세요.(예: '1,5')"
   ]
  },
  {
   "cell_type": "code",
   "execution_count": 33,
   "id": "703fc8b7",
   "metadata": {
    "tags": []
   },
   "outputs": [
    {
     "data": {
      "text/plain": [
       "이동인구(합)\n",
       "1.5        3946178\n",
       "6.05        469786\n",
       "3.30        412951\n",
       "3.29        290769\n",
       "3.31        239926\n",
       "            ...   \n",
       "603.05           1\n",
       "977.58           1\n",
       "885.38           1\n",
       "1105.71          1\n",
       "765.75           1\n",
       "Name: count, Length: 143893, dtype: int64"
      ]
     },
     "execution_count": 33,
     "metadata": {},
     "output_type": "execute_result"
    }
   ],
   "source": [
    "# '이동인구(합)' 열 * 값을 '1.5'로 변경\n",
    "# 참고: replace() 메서드 사용\n",
    "seoul_moving['이동인구(합)'].replace('*', '1.5', inplace=True)\n",
    "\n",
    "# 확인\n",
    "seoul_moving['이동인구(합)'].value_counts()"
   ]
  },
  {
   "cell_type": "markdown",
   "id": "53641ff3-bf6f-4ca2-b2bb-0c98f0a9b226",
   "metadata": {},
   "source": [
    "- '이동인구(합)' 열의 데이터 형식을 float 형으로 변경하세요 "
   ]
  },
  {
   "cell_type": "code",
   "execution_count": 35,
   "id": "3ec3c54b",
   "metadata": {
    "tags": []
   },
   "outputs": [
    {
     "data": {
      "text/plain": [
       "count    3.081744e+07\n",
       "mean     2.495402e+01\n",
       "std      1.039514e+02\n",
       "min      1.500000e+00\n",
       "25%      3.320000e+00\n",
       "50%      6.560000e+00\n",
       "75%      1.623000e+01\n",
       "max      1.491182e+04\n",
       "Name: 이동인구(합), dtype: float64"
      ]
     },
     "execution_count": 35,
     "metadata": {},
     "output_type": "execute_result"
    }
   ],
   "source": [
    "# '이동인구(합)' 열 데이터 형식을 float으로 변경\n",
    "# 참고: astype() 메서드 사용\n",
    "seoul_moving['이동인구(합)'] =  seoul_moving['이동인구(합)'].astype(float)\n",
    "\n",
    "# 확인\n",
    "seoul_moving['이동인구(합)'].describe()"
   ]
  },
  {
   "cell_type": "markdown",
   "id": "3666e46c",
   "metadata": {},
   "source": [
    "## [실습4] 범주형 데이터 확인\n",
    "\n",
    "- '이동유형', '요일', '성별' 열의 범줏값 개수를 확인하세요.\n"
   ]
  },
  {
   "cell_type": "code",
   "execution_count": 37,
   "id": "3cd0103e",
   "metadata": {},
   "outputs": [
    {
     "data": {
      "text/plain": [
       "이동유형\n",
       "EH    6184889\n",
       "HE    5979641\n",
       "EE    5601729\n",
       "WH    3118329\n",
       "WE    2953729\n",
       "HW    2737553\n",
       "EW    2466619\n",
       "WW    1109238\n",
       "HH     665718\n",
       "Name: count, dtype: int64"
      ]
     },
     "execution_count": 37,
     "metadata": {},
     "output_type": "execute_result"
    }
   ],
   "source": [
    "# '이동유형' 범줏값 개수\n",
    "# 참고: value_counts() 메서드 사용\n",
    "seoul_moving['이동유형'].value_counts()"
   ]
  },
  {
   "cell_type": "code",
   "execution_count": 38,
   "id": "1cdd246f",
   "metadata": {},
   "outputs": [
    {
     "data": {
      "text/plain": [
       "요일\n",
       "금    4869700\n",
       "토    4862970\n",
       "목    4719375\n",
       "수    4191807\n",
       "화    4121848\n",
       "월    4090609\n",
       "일    3961136\n",
       "Name: count, dtype: int64"
      ]
     },
     "execution_count": 38,
     "metadata": {},
     "output_type": "execute_result"
    }
   ],
   "source": [
    "# '요일' 범줏값 개수\n",
    "# 참고: value_counts() 메서드 사용\n",
    "seoul_moving['요일'].value_counts()"
   ]
  },
  {
   "cell_type": "markdown",
   "id": "63f2c771-1f69-4dcf-91fe-0e5f9b096b33",
   "metadata": {},
   "source": [
    "- 아래 달력을 보고 2024년 8월 요일 개수를 확인하세요."
   ]
  },
  {
   "cell_type": "markdown",
   "id": "cdd1e811-48fc-439f-8ed6-04f3ed052a63",
   "metadata": {},
   "source": [
    "<img src = \"https://github.com/Jangrae/img/blob/master/202408.png?raw=true\" width=200, align=\"left\"/>"
   ]
  },
  {
   "cell_type": "code",
   "execution_count": 41,
   "id": "c3f440b9",
   "metadata": {},
   "outputs": [
    {
     "data": {
      "text/plain": [
       "성별\n",
       "M    17206256\n",
       "F    13611189\n",
       "Name: count, dtype: int64"
      ]
     },
     "execution_count": 41,
     "metadata": {},
     "output_type": "execute_result"
    }
   ],
   "source": [
    "# '성별' 범줏값 개수\n",
    "# 참고: value_counts() 메서드 사용\n",
    "seoul_moving['성별'].value_counts()"
   ]
  },
  {
   "cell_type": "markdown",
   "id": "45594fc1",
   "metadata": {},
   "source": [
    "## [실습5] 서울 지역 데이터 준비\n",
    "\n",
    "- 우리는 서울시의 데이터만 필요합니다.\n",
    "    - 시군구 코드:광역시도(2자리)+시군구(3자리) / 서울:11, 부산:26, 대구:27, 인천:28, 광주:29, 대전:30, 울산:31)\n",
    "- 출발과 도착이 모두 서울인 데이터 ('출발 시군구 코드' < 20000 & '도착 시군구 코드' < 20000)만 추출하세요.\n",
    "- 추출된 결과를 기존 seoul_moving 데이터프레임으로 다시 선언하세요."
   ]
  },
  {
   "cell_type": "code",
   "execution_count": 42,
   "id": "fab14a50",
   "metadata": {},
   "outputs": [
    {
     "data": {
      "text/plain": [
       "출발 시군구 코드\n",
       "11230    594530\n",
       "11220    528964\n",
       "11020    526590\n",
       "11190    520347\n",
       "11010    517947\n",
       "11140    509772\n",
       "11240    482633\n",
       "11040    479299\n",
       "11030    476461\n",
       "11060    473106\n",
       "11080    462079\n",
       "11130    446451\n",
       "11050    442137\n",
       "11200    438745\n",
       "11210    434772\n",
       "11160    423102\n",
       "11110    412472\n",
       "11170    408171\n",
       "11070    386979\n",
       "11250    376498\n",
       "11120    369592\n",
       "11090    358972\n",
       "11150    357635\n",
       "11100    327592\n",
       "11180    305089\n",
       "Name: count, dtype: int64"
      ]
     },
     "execution_count": 42,
     "metadata": {},
     "output_type": "execute_result"
    }
   ],
   "source": [
    "# 서울지역 데이터 추출\n",
    "# 참고: df = df.loc[(조건1) & (조건)] 형태 구문 사용\n",
    "seoul_moving = seoul_moving.loc[(seoul_moving['출발 시군구 코드'].astype(str).str.startswith('11')) & (seoul_moving['도착 시군구 코드'].astype(str).str.startswith('11'))]\n",
    "\n",
    "# 결과 확인\n",
    "seoul_moving['출발 시군구 코드'].value_counts()"
   ]
  },
  {
   "cell_type": "markdown",
   "id": "78a13bc2-e0d8-480c-9280-296692de1397",
   "metadata": {},
   "source": [
    "- 인덱스를 초기화하세요(단, 기존 인덱스를 버리세요)."
   ]
  },
  {
   "cell_type": "code",
   "execution_count": 44,
   "id": "ec5fe5f4-99cb-4189-b722-6487a046a935",
   "metadata": {},
   "outputs": [
    {
     "data": {
      "text/html": [
       "<div>\n",
       "<style scoped>\n",
       "    .dataframe tbody tr th:only-of-type {\n",
       "        vertical-align: middle;\n",
       "    }\n",
       "\n",
       "    .dataframe tbody tr th {\n",
       "        vertical-align: top;\n",
       "    }\n",
       "\n",
       "    .dataframe thead th {\n",
       "        text-align: right;\n",
       "    }\n",
       "</style>\n",
       "<table border=\"1\" class=\"dataframe\">\n",
       "  <thead>\n",
       "    <tr style=\"text-align: right;\">\n",
       "      <th></th>\n",
       "      <th>index</th>\n",
       "      <th>대상연월</th>\n",
       "      <th>요일</th>\n",
       "      <th>도착시간</th>\n",
       "      <th>출발 시군구 코드</th>\n",
       "      <th>도착 시군구 코드</th>\n",
       "      <th>성별</th>\n",
       "      <th>나이</th>\n",
       "      <th>이동유형</th>\n",
       "      <th>평균 이동 시간(분)</th>\n",
       "      <th>이동인구(합)</th>\n",
       "    </tr>\n",
       "  </thead>\n",
       "  <tbody>\n",
       "    <tr>\n",
       "      <th>11059930</th>\n",
       "      <td>30765110</td>\n",
       "      <td>202408</td>\n",
       "      <td>토</td>\n",
       "      <td>23</td>\n",
       "      <td>11250</td>\n",
       "      <td>11250</td>\n",
       "      <td>M</td>\n",
       "      <td>80</td>\n",
       "      <td>HE</td>\n",
       "      <td>55</td>\n",
       "      <td>37.86</td>\n",
       "    </tr>\n",
       "    <tr>\n",
       "      <th>11059931</th>\n",
       "      <td>30765111</td>\n",
       "      <td>202408</td>\n",
       "      <td>토</td>\n",
       "      <td>23</td>\n",
       "      <td>11250</td>\n",
       "      <td>11250</td>\n",
       "      <td>M</td>\n",
       "      <td>80</td>\n",
       "      <td>HH</td>\n",
       "      <td>92</td>\n",
       "      <td>18.87</td>\n",
       "    </tr>\n",
       "    <tr>\n",
       "      <th>11059932</th>\n",
       "      <td>30765112</td>\n",
       "      <td>202408</td>\n",
       "      <td>토</td>\n",
       "      <td>23</td>\n",
       "      <td>11250</td>\n",
       "      <td>11250</td>\n",
       "      <td>M</td>\n",
       "      <td>80</td>\n",
       "      <td>HW</td>\n",
       "      <td>21</td>\n",
       "      <td>28.40</td>\n",
       "    </tr>\n",
       "    <tr>\n",
       "      <th>11059933</th>\n",
       "      <td>30765113</td>\n",
       "      <td>202408</td>\n",
       "      <td>토</td>\n",
       "      <td>23</td>\n",
       "      <td>11250</td>\n",
       "      <td>11250</td>\n",
       "      <td>M</td>\n",
       "      <td>80</td>\n",
       "      <td>WH</td>\n",
       "      <td>44</td>\n",
       "      <td>113.71</td>\n",
       "    </tr>\n",
       "    <tr>\n",
       "      <th>11059934</th>\n",
       "      <td>30765114</td>\n",
       "      <td>202408</td>\n",
       "      <td>토</td>\n",
       "      <td>23</td>\n",
       "      <td>11250</td>\n",
       "      <td>11250</td>\n",
       "      <td>M</td>\n",
       "      <td>80</td>\n",
       "      <td>WW</td>\n",
       "      <td>177</td>\n",
       "      <td>28.50</td>\n",
       "    </tr>\n",
       "  </tbody>\n",
       "</table>\n",
       "</div>"
      ],
      "text/plain": [
       "             index    대상연월 요일  도착시간  출발 시군구 코드  도착 시군구 코드 성별  나이 이동유형  \\\n",
       "11059930  30765110  202408  토    23      11250      11250  M  80   HE   \n",
       "11059931  30765111  202408  토    23      11250      11250  M  80   HH   \n",
       "11059932  30765112  202408  토    23      11250      11250  M  80   HW   \n",
       "11059933  30765113  202408  토    23      11250      11250  M  80   WH   \n",
       "11059934  30765114  202408  토    23      11250      11250  M  80   WW   \n",
       "\n",
       "          평균 이동 시간(분)  이동인구(합)  \n",
       "11059930           55    37.86  \n",
       "11059931           92    18.87  \n",
       "11059932           21    28.40  \n",
       "11059933           44   113.71  \n",
       "11059934          177    28.50  "
      ]
     },
     "execution_count": 44,
     "metadata": {},
     "output_type": "execute_result"
    }
   ],
   "source": [
    "# 인덱스 초기화\n",
    "seoul_moving.reset_index(inplace=True)\n",
    "\n",
    "# 결과 확인\n",
    "seoul_moving.tail()"
   ]
  },
  {
   "cell_type": "markdown",
   "id": "ab98b422",
   "metadata": {},
   "source": [
    "**[서울 구별 코드]**\n",
    "\n",
    "~~~\n",
    "11010: 종로구    11020: 중구    11030: 용산구   11040: 성동구    11050: 광진구\n",
    "11060: 동대문구  11070: 중랑구  11080: 성북구   11090: 강북구    11100: 도봉구\n",
    "11110: 노원구    11120:\t은평구  11130: 서대문구 11140: 마포구    11150: 양천구\n",
    "11160: 강서구    11170: 구로구  11180: 금천구   11190: 영등포구  11200:\t동작구\n",
    "11210: 관악구    11220: 서초구  11230: 강남구   11240: 송파구    11250: 강동구\n",
    "~~~"
   ]
  },
  {
   "cell_type": "markdown",
   "id": "485453ae-55b9-4b04-bd19-82ab11839e4a",
   "metadata": {},
   "source": [
    "- 다음 코드를 필히 실행하여 출발/도착 시구군 코드를 출발/도착 자치구 이름으로 변경하세요."
   ]
  },
  {
   "cell_type": "code",
   "execution_count": 47,
   "id": "8b473155-2095-421f-a273-70abcc92dd8e",
   "metadata": {},
   "outputs": [
    {
     "data": {
      "text/html": [
       "<div>\n",
       "<style scoped>\n",
       "    .dataframe tbody tr th:only-of-type {\n",
       "        vertical-align: middle;\n",
       "    }\n",
       "\n",
       "    .dataframe tbody tr th {\n",
       "        vertical-align: top;\n",
       "    }\n",
       "\n",
       "    .dataframe thead th {\n",
       "        text-align: right;\n",
       "    }\n",
       "</style>\n",
       "<table border=\"1\" class=\"dataframe\">\n",
       "  <thead>\n",
       "    <tr style=\"text-align: right;\">\n",
       "      <th></th>\n",
       "      <th>index</th>\n",
       "      <th>대상연월</th>\n",
       "      <th>요일</th>\n",
       "      <th>도착시간</th>\n",
       "      <th>성별</th>\n",
       "      <th>나이</th>\n",
       "      <th>이동유형</th>\n",
       "      <th>평균 이동 시간(분)</th>\n",
       "      <th>이동인구(합)</th>\n",
       "      <th>출발 자치구</th>\n",
       "      <th>도착 자치구</th>\n",
       "    </tr>\n",
       "  </thead>\n",
       "  <tbody>\n",
       "    <tr>\n",
       "      <th>0</th>\n",
       "      <td>0</td>\n",
       "      <td>202408</td>\n",
       "      <td>일</td>\n",
       "      <td>0</td>\n",
       "      <td>F</td>\n",
       "      <td>0</td>\n",
       "      <td>EE</td>\n",
       "      <td>136</td>\n",
       "      <td>28.01</td>\n",
       "      <td>종로구</td>\n",
       "      <td>종로구</td>\n",
       "    </tr>\n",
       "    <tr>\n",
       "      <th>1</th>\n",
       "      <td>1</td>\n",
       "      <td>202408</td>\n",
       "      <td>일</td>\n",
       "      <td>0</td>\n",
       "      <td>F</td>\n",
       "      <td>0</td>\n",
       "      <td>WH</td>\n",
       "      <td>7</td>\n",
       "      <td>28.02</td>\n",
       "      <td>종로구</td>\n",
       "      <td>종로구</td>\n",
       "    </tr>\n",
       "    <tr>\n",
       "      <th>2</th>\n",
       "      <td>2</td>\n",
       "      <td>202408</td>\n",
       "      <td>일</td>\n",
       "      <td>0</td>\n",
       "      <td>F</td>\n",
       "      <td>10</td>\n",
       "      <td>EE</td>\n",
       "      <td>55</td>\n",
       "      <td>23.96</td>\n",
       "      <td>종로구</td>\n",
       "      <td>종로구</td>\n",
       "    </tr>\n",
       "    <tr>\n",
       "      <th>3</th>\n",
       "      <td>3</td>\n",
       "      <td>202408</td>\n",
       "      <td>일</td>\n",
       "      <td>0</td>\n",
       "      <td>F</td>\n",
       "      <td>10</td>\n",
       "      <td>HH</td>\n",
       "      <td>84</td>\n",
       "      <td>11.83</td>\n",
       "      <td>종로구</td>\n",
       "      <td>종로구</td>\n",
       "    </tr>\n",
       "    <tr>\n",
       "      <th>4</th>\n",
       "      <td>4</td>\n",
       "      <td>202408</td>\n",
       "      <td>일</td>\n",
       "      <td>0</td>\n",
       "      <td>F</td>\n",
       "      <td>10</td>\n",
       "      <td>WH</td>\n",
       "      <td>166</td>\n",
       "      <td>5.94</td>\n",
       "      <td>종로구</td>\n",
       "      <td>종로구</td>\n",
       "    </tr>\n",
       "  </tbody>\n",
       "</table>\n",
       "</div>"
      ],
      "text/plain": [
       "   index    대상연월 요일  도착시간 성별  나이 이동유형  평균 이동 시간(분)  이동인구(합) 출발 자치구 도착 자치구\n",
       "0      0  202408  일     0  F   0   EE          136    28.01    종로구    종로구\n",
       "1      1  202408  일     0  F   0   WH            7    28.02    종로구    종로구\n",
       "2      2  202408  일     0  F  10   EE           55    23.96    종로구    종로구\n",
       "3      3  202408  일     0  F  10   HH           84    11.83    종로구    종로구\n",
       "4      4  202408  일     0  F  10   WH          166     5.94    종로구    종로구"
      ]
     },
     "execution_count": 47,
     "metadata": {},
     "output_type": "execute_result"
    }
   ],
   "source": [
    "# 구 코드를 구 이름으로 변경\n",
    "seoul_moving['출발 자치구'] = seoul_moving['출발 시군구 코드'].map({\n",
    "      11010: '종로구',   11020: '중구',   11030: '용산구',   11040: '성동구',   11050: '광진구',\n",
    "      11060: '동대문구', 11070: '중랑구', 11080: '성북구',   11090: '강북구',   11100: '도봉구',\n",
    "      11110: '노원구',   11120:\t'은평구', 11130: '서대문구', 11140: '마포구',   11150: '양천구',\n",
    "      11160: '강서구',   11170: '구로구', 11180: '금천구',   11190: '영등포구', 11200: '동작구',\n",
    "      11210: '관악구',   11220: '서초구', 11230: '강남구',   11240: '송파구',   11250: '강동구'})\n",
    "\n",
    "seoul_moving['도착 자치구'] = seoul_moving['도착 시군구 코드'].map({\n",
    "      11010: '종로구',   11020: '중구',   11030: '용산구',   11040: '성동구',   11050: '광진구',\n",
    "      11060: '동대문구', 11070: '중랑구', 11080: '성북구',   11090: '강북구',   11100: '도봉구',\n",
    "      11110: '노원구',   11120:\t'은평구', 11130: '서대문구', 11140: '마포구',   11150: '양천구',\n",
    "      11160: '강서구',   11170: '구로구', 11180: '금천구',   11190: '영등포구', 11200: '동작구',\n",
    "      11210: '관악구',   11220: '서초구', 11230: '강남구',   11240: '송파구',   11250: '강동구'})\n",
    "\n",
    "# '출발/도착 시구군 코드' 열 제거\n",
    "seoul_moving.drop(['출발 시군구 코드', '도착 시군구 코드'], axis=1, inplace=True)\n",
    "\n",
    "# 확인\n",
    "seoul_moving.head()"
   ]
  },
  {
   "cell_type": "markdown",
   "id": "e968a0ae",
   "metadata": {},
   "source": [
    "## [실습6] 구별 유입/유출 인구 분석\n",
    "\n",
    "- 구별로 집계하여 다음 내용을 확인하세요.\n",
    "    - 유출 인구가 제일 많은 구는?\n",
    "    - 유출 인구가 제일 적은 구는?\n",
    "    - 유입 인구가 제일 많은 구는?\n",
    "    - 유입 인구가 제일 적은 구는?"
   ]
  },
  {
   "cell_type": "code",
   "execution_count": 57,
   "id": "38564819",
   "metadata": {},
   "outputs": [
    {
     "data": {
      "text/plain": [
       "출발 자치구\n",
       "강남구     547485\n",
       "중구      484386\n",
       "서초구     483026\n",
       "종로구     475564\n",
       "영등포구    474878\n",
       "마포구     464562\n",
       "송파구     435641\n",
       "성동구     434925\n",
       "용산구     432889\n",
       "동대문구    427900\n",
       "성북구     416641\n",
       "서대문구    402133\n",
       "광진구     397007\n",
       "동작구     393312\n",
       "관악구     390235\n",
       "강서구     376653\n",
       "노원구     366508\n",
       "구로구     363582\n",
       "중랑구     341601\n",
       "강동구     329539\n",
       "은평구     323651\n",
       "강북구     314379\n",
       "양천구     312801\n",
       "도봉구     283847\n",
       "금천구     262453\n",
       "dtype: int64"
      ]
     },
     "execution_count": 57,
     "metadata": {},
     "output_type": "execute_result"
    }
   ],
   "source": [
    "# 유출이 제일 많은 구와 적은 구는? 강남구, 금천구\n",
    "# 참고: groupby() 메서드 사용\n",
    "seoul_moving.loc[seoul_moving['출발 자치구'] != seoul_moving['도착 자치구']].groupby(by='출발 자치구').size().sort_values(ascending=False)\n"
   ]
  },
  {
   "cell_type": "code",
   "execution_count": 58,
   "id": "5b74bb6d",
   "metadata": {},
   "outputs": [
    {
     "data": {
      "text/plain": [
       "도착 자치구\n",
       "강남구     528903\n",
       "서초구     474105\n",
       "영등포구    468237\n",
       "중구      460875\n",
       "마포구     455183\n",
       "종로구     451775\n",
       "송파구     433762\n",
       "성동구     431315\n",
       "동대문구    430553\n",
       "성북구     425214\n",
       "용산구     422355\n",
       "서대문구    398827\n",
       "광진구     398035\n",
       "동작구     396336\n",
       "관악구     393572\n",
       "강서구     392488\n",
       "노원구     379340\n",
       "구로구     365255\n",
       "중랑구     352877\n",
       "은평구     335772\n",
       "강동구     335590\n",
       "강북구     326267\n",
       "양천구     322316\n",
       "도봉구     296848\n",
       "금천구     259798\n",
       "dtype: int64"
      ]
     },
     "execution_count": 58,
     "metadata": {},
     "output_type": "execute_result"
    }
   ],
   "source": [
    "# 유입이 제일 많은 구와 적은 구는? 강남구, 금천구 \n",
    "# 참고: groupby() 메서드 사용\n",
    "seoul_moving.loc[seoul_moving['출발 자치구'] != seoul_moving['도착 자치구']].groupby(by='도착 자치구').size().sort_values(ascending=False)\n"
   ]
  },
  {
   "cell_type": "markdown",
   "id": "bff8a6d6",
   "metadata": {},
   "source": [
    "## [실습7] 구별 이동 시간, 이동 인구 분석\n",
    "\n",
    "- '도착 자치구' 열을 기준으로 각 구별로 '평균 이동 시간(분)', '이동인구(합)' 평균을 집계하세요.\n",
    "- 평균 집계 결과를 df_mean 데이터프레임으로 선언하세요."
   ]
  },
  {
   "cell_type": "code",
   "execution_count": 70,
   "id": "62077e92-7ce9-4c36-8566-ac206c6e9ef8",
   "metadata": {},
   "outputs": [
    {
     "name": "stdout",
     "output_type": "stream",
     "text": [
      "<class 'pandas.core.frame.DataFrame'>\n",
      "RangeIndex: 11059935 entries, 0 to 11059934\n",
      "Data columns (total 11 columns):\n",
      " #   Column       Dtype  \n",
      "---  ------       -----  \n",
      " 0   index        int64  \n",
      " 1   대상연월         int64  \n",
      " 2   요일           object \n",
      " 3   도착시간         int64  \n",
      " 4   성별           object \n",
      " 5   나이           int64  \n",
      " 6   이동유형         object \n",
      " 7   평균 이동 시간(분)  int64  \n",
      " 8   이동인구(합)      float64\n",
      " 9   출발 자치구       object \n",
      " 10  도착 자치구       object \n",
      "dtypes: float64(1), int64(5), object(5)\n",
      "memory usage: 928.2+ MB\n"
     ]
    }
   ],
   "source": [
    "seoul_moving.info()"
   ]
  },
  {
   "cell_type": "code",
   "execution_count": 76,
   "id": "4688c457-8de7-4be4-a0f2-1cee808642a6",
   "metadata": {},
   "outputs": [],
   "source": [
    "a = seoul_moving.loc[seoul_moving['나이']>=70]"
   ]
  },
  {
   "cell_type": "code",
   "execution_count": 80,
   "id": "391a5cab-9c01-4a31-bbba-836b303aa5a2",
   "metadata": {},
   "outputs": [
    {
     "data": {
      "text/html": [
       "<div>\n",
       "<style scoped>\n",
       "    .dataframe tbody tr th:only-of-type {\n",
       "        vertical-align: middle;\n",
       "    }\n",
       "\n",
       "    .dataframe tbody tr th {\n",
       "        vertical-align: top;\n",
       "    }\n",
       "\n",
       "    .dataframe thead th {\n",
       "        text-align: right;\n",
       "    }\n",
       "</style>\n",
       "<table border=\"1\" class=\"dataframe\">\n",
       "  <thead>\n",
       "    <tr style=\"text-align: right;\">\n",
       "      <th></th>\n",
       "      <th>도착 자치구</th>\n",
       "      <th>평균 이동 시간(분)</th>\n",
       "      <th>이동인구(합)</th>\n",
       "    </tr>\n",
       "  </thead>\n",
       "  <tbody>\n",
       "    <tr>\n",
       "      <th>0</th>\n",
       "      <td>강남구</td>\n",
       "      <td>69.427451</td>\n",
       "      <td>75.450907</td>\n",
       "    </tr>\n",
       "    <tr>\n",
       "      <th>1</th>\n",
       "      <td>강동구</td>\n",
       "      <td>75.268675</td>\n",
       "      <td>87.634931</td>\n",
       "    </tr>\n",
       "    <tr>\n",
       "      <th>2</th>\n",
       "      <td>강북구</td>\n",
       "      <td>66.042841</td>\n",
       "      <td>61.211339</td>\n",
       "    </tr>\n",
       "    <tr>\n",
       "      <th>3</th>\n",
       "      <td>강서구</td>\n",
       "      <td>74.084405</td>\n",
       "      <td>71.410602</td>\n",
       "    </tr>\n",
       "    <tr>\n",
       "      <th>4</th>\n",
       "      <td>관악구</td>\n",
       "      <td>65.624521</td>\n",
       "      <td>60.115551</td>\n",
       "    </tr>\n",
       "  </tbody>\n",
       "</table>\n",
       "</div>"
      ],
      "text/plain": [
       "  도착 자치구  평균 이동 시간(분)    이동인구(합)\n",
       "0    강남구    69.427451  75.450907\n",
       "1    강동구    75.268675  87.634931\n",
       "2    강북구    66.042841  61.211339\n",
       "3    강서구    74.084405  71.410602\n",
       "4    관악구    65.624521  60.115551"
      ]
     },
     "execution_count": 80,
     "metadata": {},
     "output_type": "execute_result"
    }
   ],
   "source": [
    "a.groupby(by='도착 자치구', as_index=False)[['평균 이동 시간(분)', '이동인구(합)']].mean().head()"
   ]
  },
  {
   "cell_type": "code",
   "execution_count": 82,
   "id": "77bd614f-d9a9-4d5a-aaf9-b79ddc0cb806",
   "metadata": {},
   "outputs": [
    {
     "data": {
      "text/html": [
       "<div>\n",
       "<style scoped>\n",
       "    .dataframe tbody tr th:only-of-type {\n",
       "        vertical-align: middle;\n",
       "    }\n",
       "\n",
       "    .dataframe tbody tr th {\n",
       "        vertical-align: top;\n",
       "    }\n",
       "\n",
       "    .dataframe thead th {\n",
       "        text-align: right;\n",
       "    }\n",
       "</style>\n",
       "<table border=\"1\" class=\"dataframe\">\n",
       "  <thead>\n",
       "    <tr style=\"text-align: right;\">\n",
       "      <th></th>\n",
       "      <th>도착 자치구</th>\n",
       "      <th>평균 이동 시간(분)</th>\n",
       "      <th>이동인구(합)</th>\n",
       "    </tr>\n",
       "  </thead>\n",
       "  <tbody>\n",
       "    <tr>\n",
       "      <th>0</th>\n",
       "      <td>강남구</td>\n",
       "      <td>5108333</td>\n",
       "      <td>5551526.81</td>\n",
       "    </tr>\n",
       "    <tr>\n",
       "      <th>1</th>\n",
       "      <td>강동구</td>\n",
       "      <td>3640520</td>\n",
       "      <td>4238638.72</td>\n",
       "    </tr>\n",
       "    <tr>\n",
       "      <th>2</th>\n",
       "      <td>강북구</td>\n",
       "      <td>3112467</td>\n",
       "      <td>2884767.99</td>\n",
       "    </tr>\n",
       "    <tr>\n",
       "      <th>3</th>\n",
       "      <td>강서구</td>\n",
       "      <td>3811939</td>\n",
       "      <td>3674361.09</td>\n",
       "    </tr>\n",
       "    <tr>\n",
       "      <th>4</th>\n",
       "      <td>관악구</td>\n",
       "      <td>3493587</td>\n",
       "      <td>3200311.49</td>\n",
       "    </tr>\n",
       "  </tbody>\n",
       "</table>\n",
       "</div>"
      ],
      "text/plain": [
       "  도착 자치구  평균 이동 시간(분)     이동인구(합)\n",
       "0    강남구      5108333  5551526.81\n",
       "1    강동구      3640520  4238638.72\n",
       "2    강북구      3112467  2884767.99\n",
       "3    강서구      3811939  3674361.09\n",
       "4    관악구      3493587  3200311.49"
      ]
     },
     "execution_count": 82,
     "metadata": {},
     "output_type": "execute_result"
    }
   ],
   "source": [
    "a.groupby(by='도착 자치구', as_index=False)[['평균 이동 시간(분)', '이동인구(합)']].sum().head()"
   ]
  },
  {
   "cell_type": "markdown",
   "id": "451f6d12-868c-4bcd-9e13-a2432d168bd9",
   "metadata": {},
   "source": [
    "# 나이 70대 이상 추출"
   ]
  },
  {
   "cell_type": "code",
   "execution_count": 85,
   "id": "73df6eca-c9d6-4969-888e-b49188b6b968",
   "metadata": {},
   "outputs": [],
   "source": [
    "# 70대 이상 추출 코드 > 미션 1.2 실습 7번부터\n",
    "seoul_moving_over70 = seoul_moving.loc[seoul_moving['나이']>=70]\n",
    "df_mean = seoul_moving_over70.groupby(by='도착 자치구', as_index=False)[['평균 이동 시간(분)', '이동인구(합)']].mean()\n",
    "df_mean.rename(columns={'평균 이동 시간(분)':'노령층 평균 이동 시간', '이동인구(합)':'노령층 평균 이동인구'}, inplace=True)\n",
    "df_sum = seoul_moving_over70.groupby(by='도착 자치구', as_index=False)[['평균 이동 시간(분)', '이동인구(합)']].sum()\n",
    "df_sum.rename(columns={'평균 이동 시간(분)':'노령층 총 이동 시간', '이동인구(합)':'노령층 총 이동인구'}, inplace=True)\n",
    "df_seoul_moving.to_csv(path + 'df_seoul_moving_over70.csv', index=False)"
   ]
  },
  {
   "cell_type": "code",
   "execution_count": null,
   "id": "be8c7599-6321-458e-ac8d-2a076b34b9d1",
   "metadata": {},
   "outputs": [],
   "source": []
  },
  {
   "cell_type": "code",
   "execution_count": null,
   "id": "4d0a9168-0671-4dff-8c3b-ab43de2cf2a1",
   "metadata": {},
   "outputs": [],
   "source": []
  },
  {
   "cell_type": "code",
   "execution_count": null,
   "id": "bfdde9aa-42c5-44df-a6ea-3b4b22be4893",
   "metadata": {},
   "outputs": [],
   "source": []
  },
  {
   "cell_type": "code",
   "execution_count": null,
   "id": "54e7c724-5ac4-47b1-8f67-c59db8123a55",
   "metadata": {},
   "outputs": [],
   "source": []
  },
  {
   "cell_type": "code",
   "execution_count": null,
   "id": "59a415af-70a9-498b-91ce-ef7200a9bfb5",
   "metadata": {},
   "outputs": [],
   "source": []
  },
  {
   "cell_type": "code",
   "execution_count": null,
   "id": "60a676e4-7d23-4ac4-a415-baec1f25e4d4",
   "metadata": {},
   "outputs": [],
   "source": []
  },
  {
   "cell_type": "code",
   "execution_count": null,
   "id": "ed83ef0c-3cdd-4e28-80bc-db919f693357",
   "metadata": {},
   "outputs": [],
   "source": []
  },
  {
   "cell_type": "code",
   "execution_count": 106,
   "id": "9048abf4-4594-4244-8991-98ea342b55d0",
   "metadata": {},
   "outputs": [
    {
     "data": {
      "text/html": [
       "<div>\n",
       "<style scoped>\n",
       "    .dataframe tbody tr th:only-of-type {\n",
       "        vertical-align: middle;\n",
       "    }\n",
       "\n",
       "    .dataframe tbody tr th {\n",
       "        vertical-align: top;\n",
       "    }\n",
       "\n",
       "    .dataframe thead th {\n",
       "        text-align: right;\n",
       "    }\n",
       "</style>\n",
       "<table border=\"1\" class=\"dataframe\">\n",
       "  <thead>\n",
       "    <tr style=\"text-align: right;\">\n",
       "      <th></th>\n",
       "      <th>도착 자치구</th>\n",
       "      <th>평균 이동 시간(분)</th>\n",
       "      <th>이동인구(합)</th>\n",
       "    </tr>\n",
       "  </thead>\n",
       "  <tbody>\n",
       "    <tr>\n",
       "      <th>0</th>\n",
       "      <td>강남구</td>\n",
       "      <td>69.427451</td>\n",
       "      <td>75.450907</td>\n",
       "    </tr>\n",
       "    <tr>\n",
       "      <th>1</th>\n",
       "      <td>강동구</td>\n",
       "      <td>75.268675</td>\n",
       "      <td>87.634931</td>\n",
       "    </tr>\n",
       "    <tr>\n",
       "      <th>2</th>\n",
       "      <td>강북구</td>\n",
       "      <td>66.042841</td>\n",
       "      <td>61.211339</td>\n",
       "    </tr>\n",
       "    <tr>\n",
       "      <th>3</th>\n",
       "      <td>강서구</td>\n",
       "      <td>74.084405</td>\n",
       "      <td>71.410602</td>\n",
       "    </tr>\n",
       "    <tr>\n",
       "      <th>4</th>\n",
       "      <td>관악구</td>\n",
       "      <td>65.624521</td>\n",
       "      <td>60.115551</td>\n",
       "    </tr>\n",
       "  </tbody>\n",
       "</table>\n",
       "</div>"
      ],
      "text/plain": [
       "  도착 자치구  평균 이동 시간(분)    이동인구(합)\n",
       "0    강남구    69.427451  75.450907\n",
       "1    강동구    75.268675  87.634931\n",
       "2    강북구    66.042841  61.211339\n",
       "3    강서구    74.084405  71.410602\n",
       "4    관악구    65.624521  60.115551"
      ]
     },
     "execution_count": 106,
     "metadata": {},
     "output_type": "execute_result"
    }
   ],
   "source": [
    "# 평균 집계 --> df_mean 데이터프레임으로 선언\n",
    "# 참고: groupby() 메서드 사용, as_index=False 지정\n",
    "df_mean = seoul_moving_over70.groupby(by='도착 자치구', as_index=False)[['평균 이동 시간(분)', '이동인구(합)']].mean()\n",
    "\n",
    "# 확인\n",
    "df_mean.head()"
   ]
  },
  {
   "cell_type": "markdown",
   "id": "96dc57bf-5fd1-43d2-88fe-97e0a04cba7c",
   "metadata": {},
   "source": [
    "- '도착 자치구' 열을 기준으로 각 구별로 '평균 이동 시간(분)', '이동인구(합)' 합을 집계하세요.\n",
    "- 합 집계 결과를 df_sum 데이터프레임으로 선언하세요."
   ]
  },
  {
   "cell_type": "code",
   "execution_count": 109,
   "id": "86bd27f5",
   "metadata": {},
   "outputs": [
    {
     "data": {
      "text/html": [
       "<div>\n",
       "<style scoped>\n",
       "    .dataframe tbody tr th:only-of-type {\n",
       "        vertical-align: middle;\n",
       "    }\n",
       "\n",
       "    .dataframe tbody tr th {\n",
       "        vertical-align: top;\n",
       "    }\n",
       "\n",
       "    .dataframe thead th {\n",
       "        text-align: right;\n",
       "    }\n",
       "</style>\n",
       "<table border=\"1\" class=\"dataframe\">\n",
       "  <thead>\n",
       "    <tr style=\"text-align: right;\">\n",
       "      <th></th>\n",
       "      <th>도착 자치구</th>\n",
       "      <th>평균 이동 시간(분)</th>\n",
       "      <th>이동인구(합)</th>\n",
       "    </tr>\n",
       "  </thead>\n",
       "  <tbody>\n",
       "    <tr>\n",
       "      <th>0</th>\n",
       "      <td>강남구</td>\n",
       "      <td>5108333</td>\n",
       "      <td>5551526.81</td>\n",
       "    </tr>\n",
       "    <tr>\n",
       "      <th>1</th>\n",
       "      <td>강동구</td>\n",
       "      <td>3640520</td>\n",
       "      <td>4238638.72</td>\n",
       "    </tr>\n",
       "    <tr>\n",
       "      <th>2</th>\n",
       "      <td>강북구</td>\n",
       "      <td>3112467</td>\n",
       "      <td>2884767.99</td>\n",
       "    </tr>\n",
       "    <tr>\n",
       "      <th>3</th>\n",
       "      <td>강서구</td>\n",
       "      <td>3811939</td>\n",
       "      <td>3674361.09</td>\n",
       "    </tr>\n",
       "    <tr>\n",
       "      <th>4</th>\n",
       "      <td>관악구</td>\n",
       "      <td>3493587</td>\n",
       "      <td>3200311.49</td>\n",
       "    </tr>\n",
       "    <tr>\n",
       "      <th>5</th>\n",
       "      <td>광진구</td>\n",
       "      <td>3139290</td>\n",
       "      <td>2654772.02</td>\n",
       "    </tr>\n",
       "    <tr>\n",
       "      <th>6</th>\n",
       "      <td>구로구</td>\n",
       "      <td>3287595</td>\n",
       "      <td>2541425.68</td>\n",
       "    </tr>\n",
       "    <tr>\n",
       "      <th>7</th>\n",
       "      <td>금천구</td>\n",
       "      <td>2066113</td>\n",
       "      <td>1128034.82</td>\n",
       "    </tr>\n",
       "    <tr>\n",
       "      <th>8</th>\n",
       "      <td>노원구</td>\n",
       "      <td>3732403</td>\n",
       "      <td>3800335.16</td>\n",
       "    </tr>\n",
       "    <tr>\n",
       "      <th>9</th>\n",
       "      <td>도봉구</td>\n",
       "      <td>3177062</td>\n",
       "      <td>2629040.25</td>\n",
       "    </tr>\n",
       "    <tr>\n",
       "      <th>10</th>\n",
       "      <td>동대문구</td>\n",
       "      <td>4025646</td>\n",
       "      <td>3359889.94</td>\n",
       "    </tr>\n",
       "    <tr>\n",
       "      <th>11</th>\n",
       "      <td>동작구</td>\n",
       "      <td>3445835</td>\n",
       "      <td>3102719.23</td>\n",
       "    </tr>\n",
       "    <tr>\n",
       "      <th>12</th>\n",
       "      <td>마포구</td>\n",
       "      <td>3494847</td>\n",
       "      <td>2811328.23</td>\n",
       "    </tr>\n",
       "    <tr>\n",
       "      <th>13</th>\n",
       "      <td>서대문구</td>\n",
       "      <td>3200798</td>\n",
       "      <td>2614721.30</td>\n",
       "    </tr>\n",
       "    <tr>\n",
       "      <th>14</th>\n",
       "      <td>서초구</td>\n",
       "      <td>4377939</td>\n",
       "      <td>4483309.42</td>\n",
       "    </tr>\n",
       "    <tr>\n",
       "      <th>15</th>\n",
       "      <td>성동구</td>\n",
       "      <td>3309874</td>\n",
       "      <td>2454914.87</td>\n",
       "    </tr>\n",
       "    <tr>\n",
       "      <th>16</th>\n",
       "      <td>성북구</td>\n",
       "      <td>3630120</td>\n",
       "      <td>3338705.47</td>\n",
       "    </tr>\n",
       "    <tr>\n",
       "      <th>17</th>\n",
       "      <td>송파구</td>\n",
       "      <td>4231179</td>\n",
       "      <td>5301608.84</td>\n",
       "    </tr>\n",
       "    <tr>\n",
       "      <th>18</th>\n",
       "      <td>양천구</td>\n",
       "      <td>2715966</td>\n",
       "      <td>2371966.06</td>\n",
       "    </tr>\n",
       "    <tr>\n",
       "      <th>19</th>\n",
       "      <td>영등포구</td>\n",
       "      <td>4023237</td>\n",
       "      <td>3539199.75</td>\n",
       "    </tr>\n",
       "    <tr>\n",
       "      <th>20</th>\n",
       "      <td>용산구</td>\n",
       "      <td>3391530</td>\n",
       "      <td>1904339.17</td>\n",
       "    </tr>\n",
       "    <tr>\n",
       "      <th>21</th>\n",
       "      <td>은평구</td>\n",
       "      <td>3476490</td>\n",
       "      <td>3673116.95</td>\n",
       "    </tr>\n",
       "    <tr>\n",
       "      <th>22</th>\n",
       "      <td>종로구</td>\n",
       "      <td>4077636</td>\n",
       "      <td>3026752.02</td>\n",
       "    </tr>\n",
       "    <tr>\n",
       "      <th>23</th>\n",
       "      <td>중구</td>\n",
       "      <td>3815793</td>\n",
       "      <td>2596883.14</td>\n",
       "    </tr>\n",
       "    <tr>\n",
       "      <th>24</th>\n",
       "      <td>중랑구</td>\n",
       "      <td>3263113</td>\n",
       "      <td>2766571.62</td>\n",
       "    </tr>\n",
       "  </tbody>\n",
       "</table>\n",
       "</div>"
      ],
      "text/plain": [
       "   도착 자치구  평균 이동 시간(분)     이동인구(합)\n",
       "0     강남구      5108333  5551526.81\n",
       "1     강동구      3640520  4238638.72\n",
       "2     강북구      3112467  2884767.99\n",
       "3     강서구      3811939  3674361.09\n",
       "4     관악구      3493587  3200311.49\n",
       "5     광진구      3139290  2654772.02\n",
       "6     구로구      3287595  2541425.68\n",
       "7     금천구      2066113  1128034.82\n",
       "8     노원구      3732403  3800335.16\n",
       "9     도봉구      3177062  2629040.25\n",
       "10   동대문구      4025646  3359889.94\n",
       "11    동작구      3445835  3102719.23\n",
       "12    마포구      3494847  2811328.23\n",
       "13   서대문구      3200798  2614721.30\n",
       "14    서초구      4377939  4483309.42\n",
       "15    성동구      3309874  2454914.87\n",
       "16    성북구      3630120  3338705.47\n",
       "17    송파구      4231179  5301608.84\n",
       "18    양천구      2715966  2371966.06\n",
       "19   영등포구      4023237  3539199.75\n",
       "20    용산구      3391530  1904339.17\n",
       "21    은평구      3476490  3673116.95\n",
       "22    종로구      4077636  3026752.02\n",
       "23     중구      3815793  2596883.14\n",
       "24    중랑구      3263113  2766571.62"
      ]
     },
     "execution_count": 109,
     "metadata": {},
     "output_type": "execute_result"
    }
   ],
   "source": [
    "# 합 집계 --> df_sum 데이터프레임으로 선언\n",
    "# 참고: groupby() 메서드 사용, as_index=False 지정\n",
    "df_sum = seoul_moving_over70.groupby(by='도착 자치구', as_index=False)[['평균 이동 시간(분)', '이동인구(합)']].sum()\n",
    "\n",
    "# 확인\n",
    "df_sum"
   ]
  },
  {
   "cell_type": "markdown",
   "id": "5fefd5cc-8544-4e18-8c4a-deb2da4ec9cb",
   "metadata": {},
   "source": [
    "- 다음과 같이 df_sum 데이터프레임의 열 이름을 변경하세요.\n",
    "    - '평균 이동 시간(분)' --> '총 이동 시간', '이동인구(합)' --> '총 이동인구'"
   ]
  },
  {
   "cell_type": "code",
   "execution_count": 112,
   "id": "a1f1e631-5707-4ea2-bc88-72a650ef8ca6",
   "metadata": {},
   "outputs": [
    {
     "data": {
      "text/html": [
       "<div>\n",
       "<style scoped>\n",
       "    .dataframe tbody tr th:only-of-type {\n",
       "        vertical-align: middle;\n",
       "    }\n",
       "\n",
       "    .dataframe tbody tr th {\n",
       "        vertical-align: top;\n",
       "    }\n",
       "\n",
       "    .dataframe thead th {\n",
       "        text-align: right;\n",
       "    }\n",
       "</style>\n",
       "<table border=\"1\" class=\"dataframe\">\n",
       "  <thead>\n",
       "    <tr style=\"text-align: right;\">\n",
       "      <th></th>\n",
       "      <th>도착 자치구</th>\n",
       "      <th>노령층 총 이동 시간</th>\n",
       "      <th>노령층 총 이동인구</th>\n",
       "    </tr>\n",
       "  </thead>\n",
       "  <tbody>\n",
       "    <tr>\n",
       "      <th>0</th>\n",
       "      <td>강남구</td>\n",
       "      <td>5108333</td>\n",
       "      <td>5551526.81</td>\n",
       "    </tr>\n",
       "    <tr>\n",
       "      <th>1</th>\n",
       "      <td>강동구</td>\n",
       "      <td>3640520</td>\n",
       "      <td>4238638.72</td>\n",
       "    </tr>\n",
       "    <tr>\n",
       "      <th>2</th>\n",
       "      <td>강북구</td>\n",
       "      <td>3112467</td>\n",
       "      <td>2884767.99</td>\n",
       "    </tr>\n",
       "    <tr>\n",
       "      <th>3</th>\n",
       "      <td>강서구</td>\n",
       "      <td>3811939</td>\n",
       "      <td>3674361.09</td>\n",
       "    </tr>\n",
       "    <tr>\n",
       "      <th>4</th>\n",
       "      <td>관악구</td>\n",
       "      <td>3493587</td>\n",
       "      <td>3200311.49</td>\n",
       "    </tr>\n",
       "  </tbody>\n",
       "</table>\n",
       "</div>"
      ],
      "text/plain": [
       "  도착 자치구  노령층 총 이동 시간  노령층 총 이동인구\n",
       "0    강남구      5108333  5551526.81\n",
       "1    강동구      3640520  4238638.72\n",
       "2    강북구      3112467  2884767.99\n",
       "3    강서구      3811939  3674361.09\n",
       "4    관악구      3493587  3200311.49"
      ]
     },
     "execution_count": 112,
     "metadata": {},
     "output_type": "execute_result"
    }
   ],
   "source": [
    "# 열 이름 변경: '평균 이동 시간(분)' --> '총 이동 시간','이동인구(합)' --> '총 이동인구'\n",
    "# 참고: rename() 메서드 사용\n",
    "df_sum.rename(columns={'평균 이동 시간(분)':'노령층 총 이동 시간', '이동인구(합)':'노령층 총 이동인구'}, inplace=True)\n",
    "\n",
    "# 확인\n",
    "df_sum.head()"
   ]
  },
  {
   "cell_type": "code",
   "execution_count": 114,
   "id": "12d39c2c-e8ea-41ad-a6b2-5ece23a35567",
   "metadata": {},
   "outputs": [],
   "source": [
    "df_mean.rename(columns={'평균 이동 시간(분)':'노령층 평균 이동 시간', '이동인구(합)':'노령층 평균 이동인구'}, inplace=True)"
   ]
  },
  {
   "cell_type": "markdown",
   "id": "fa663d64-40e8-4643-b0bd-e2dc31b0147b",
   "metadata": {},
   "source": [
    "- df_mean, df_sum 두 데이터프레임을 조인(merge) 하여 df_seoul_moving 데이터프레임을 선언하세요."
   ]
  },
  {
   "cell_type": "code",
   "execution_count": 117,
   "id": "cb213b3a",
   "metadata": {},
   "outputs": [
    {
     "data": {
      "text/html": [
       "<div>\n",
       "<style scoped>\n",
       "    .dataframe tbody tr th:only-of-type {\n",
       "        vertical-align: middle;\n",
       "    }\n",
       "\n",
       "    .dataframe tbody tr th {\n",
       "        vertical-align: top;\n",
       "    }\n",
       "\n",
       "    .dataframe thead th {\n",
       "        text-align: right;\n",
       "    }\n",
       "</style>\n",
       "<table border=\"1\" class=\"dataframe\">\n",
       "  <thead>\n",
       "    <tr style=\"text-align: right;\">\n",
       "      <th></th>\n",
       "      <th>도착 자치구</th>\n",
       "      <th>노령층 평균 이동 시간</th>\n",
       "      <th>노령층 평균 이동인구</th>\n",
       "      <th>노령층 총 이동 시간</th>\n",
       "      <th>노령층 총 이동인구</th>\n",
       "    </tr>\n",
       "  </thead>\n",
       "  <tbody>\n",
       "    <tr>\n",
       "      <th>0</th>\n",
       "      <td>강남구</td>\n",
       "      <td>69.427451</td>\n",
       "      <td>75.450907</td>\n",
       "      <td>5108333</td>\n",
       "      <td>5551526.81</td>\n",
       "    </tr>\n",
       "    <tr>\n",
       "      <th>1</th>\n",
       "      <td>강동구</td>\n",
       "      <td>75.268675</td>\n",
       "      <td>87.634931</td>\n",
       "      <td>3640520</td>\n",
       "      <td>4238638.72</td>\n",
       "    </tr>\n",
       "    <tr>\n",
       "      <th>2</th>\n",
       "      <td>강북구</td>\n",
       "      <td>66.042841</td>\n",
       "      <td>61.211339</td>\n",
       "      <td>3112467</td>\n",
       "      <td>2884767.99</td>\n",
       "    </tr>\n",
       "    <tr>\n",
       "      <th>3</th>\n",
       "      <td>강서구</td>\n",
       "      <td>74.084405</td>\n",
       "      <td>71.410602</td>\n",
       "      <td>3811939</td>\n",
       "      <td>3674361.09</td>\n",
       "    </tr>\n",
       "    <tr>\n",
       "      <th>4</th>\n",
       "      <td>관악구</td>\n",
       "      <td>65.624521</td>\n",
       "      <td>60.115551</td>\n",
       "      <td>3493587</td>\n",
       "      <td>3200311.49</td>\n",
       "    </tr>\n",
       "    <tr>\n",
       "      <th>5</th>\n",
       "      <td>광진구</td>\n",
       "      <td>61.621160</td>\n",
       "      <td>52.110551</td>\n",
       "      <td>3139290</td>\n",
       "      <td>2654772.02</td>\n",
       "    </tr>\n",
       "    <tr>\n",
       "      <th>6</th>\n",
       "      <td>구로구</td>\n",
       "      <td>66.476494</td>\n",
       "      <td>51.388650</td>\n",
       "      <td>3287595</td>\n",
       "      <td>2541425.68</td>\n",
       "    </tr>\n",
       "    <tr>\n",
       "      <th>7</th>\n",
       "      <td>금천구</td>\n",
       "      <td>66.128313</td>\n",
       "      <td>36.104046</td>\n",
       "      <td>2066113</td>\n",
       "      <td>1128034.82</td>\n",
       "    </tr>\n",
       "    <tr>\n",
       "      <th>8</th>\n",
       "      <td>노원구</td>\n",
       "      <td>70.179058</td>\n",
       "      <td>71.456362</td>\n",
       "      <td>3732403</td>\n",
       "      <td>3800335.16</td>\n",
       "    </tr>\n",
       "    <tr>\n",
       "      <th>9</th>\n",
       "      <td>도봉구</td>\n",
       "      <td>69.104122</td>\n",
       "      <td>57.184127</td>\n",
       "      <td>3177062</td>\n",
       "      <td>2629040.25</td>\n",
       "    </tr>\n",
       "    <tr>\n",
       "      <th>10</th>\n",
       "      <td>동대문구</td>\n",
       "      <td>62.584861</td>\n",
       "      <td>52.234659</td>\n",
       "      <td>4025646</td>\n",
       "      <td>3359889.94</td>\n",
       "    </tr>\n",
       "    <tr>\n",
       "      <th>11</th>\n",
       "      <td>동작구</td>\n",
       "      <td>60.686409</td>\n",
       "      <td>54.643617</td>\n",
       "      <td>3445835</td>\n",
       "      <td>3102719.23</td>\n",
       "    </tr>\n",
       "    <tr>\n",
       "      <th>12</th>\n",
       "      <td>마포구</td>\n",
       "      <td>62.757632</td>\n",
       "      <td>50.483555</td>\n",
       "      <td>3494847</td>\n",
       "      <td>2811328.23</td>\n",
       "    </tr>\n",
       "    <tr>\n",
       "      <th>13</th>\n",
       "      <td>서대문구</td>\n",
       "      <td>61.798625</td>\n",
       "      <td>50.483093</td>\n",
       "      <td>3200798</td>\n",
       "      <td>2614721.30</td>\n",
       "    </tr>\n",
       "    <tr>\n",
       "      <th>14</th>\n",
       "      <td>서초구</td>\n",
       "      <td>65.834659</td>\n",
       "      <td>67.419201</td>\n",
       "      <td>4377939</td>\n",
       "      <td>4483309.42</td>\n",
       "    </tr>\n",
       "    <tr>\n",
       "      <th>15</th>\n",
       "      <td>성동구</td>\n",
       "      <td>59.174634</td>\n",
       "      <td>43.889492</td>\n",
       "      <td>3309874</td>\n",
       "      <td>2454914.87</td>\n",
       "    </tr>\n",
       "    <tr>\n",
       "      <th>16</th>\n",
       "      <td>성북구</td>\n",
       "      <td>62.737548</td>\n",
       "      <td>57.701176</td>\n",
       "      <td>3630120</td>\n",
       "      <td>3338705.47</td>\n",
       "    </tr>\n",
       "    <tr>\n",
       "      <th>17</th>\n",
       "      <td>송파구</td>\n",
       "      <td>73.105135</td>\n",
       "      <td>91.599724</td>\n",
       "      <td>4231179</td>\n",
       "      <td>5301608.84</td>\n",
       "    </tr>\n",
       "    <tr>\n",
       "      <th>18</th>\n",
       "      <td>양천구</td>\n",
       "      <td>63.872019</td>\n",
       "      <td>55.782091</td>\n",
       "      <td>2715966</td>\n",
       "      <td>2371966.06</td>\n",
       "    </tr>\n",
       "    <tr>\n",
       "      <th>19</th>\n",
       "      <td>영등포구</td>\n",
       "      <td>62.077411</td>\n",
       "      <td>54.608853</td>\n",
       "      <td>4023237</td>\n",
       "      <td>3539199.75</td>\n",
       "    </tr>\n",
       "    <tr>\n",
       "      <th>20</th>\n",
       "      <td>용산구</td>\n",
       "      <td>62.849174</td>\n",
       "      <td>35.289720</td>\n",
       "      <td>3391530</td>\n",
       "      <td>1904339.17</td>\n",
       "    </tr>\n",
       "    <tr>\n",
       "      <th>21</th>\n",
       "      <td>은평구</td>\n",
       "      <td>72.366570</td>\n",
       "      <td>76.459553</td>\n",
       "      <td>3476490</td>\n",
       "      <td>3673116.95</td>\n",
       "    </tr>\n",
       "    <tr>\n",
       "      <th>22</th>\n",
       "      <td>종로구</td>\n",
       "      <td>61.165152</td>\n",
       "      <td>45.401734</td>\n",
       "      <td>4077636</td>\n",
       "      <td>3026752.02</td>\n",
       "    </tr>\n",
       "    <tr>\n",
       "      <th>23</th>\n",
       "      <td>중구</td>\n",
       "      <td>59.806793</td>\n",
       "      <td>40.702222</td>\n",
       "      <td>3815793</td>\n",
       "      <td>2596883.14</td>\n",
       "    </tr>\n",
       "    <tr>\n",
       "      <th>24</th>\n",
       "      <td>중랑구</td>\n",
       "      <td>65.351138</td>\n",
       "      <td>55.406786</td>\n",
       "      <td>3263113</td>\n",
       "      <td>2766571.62</td>\n",
       "    </tr>\n",
       "  </tbody>\n",
       "</table>\n",
       "</div>"
      ],
      "text/plain": [
       "   도착 자치구  노령층 평균 이동 시간  노령층 평균 이동인구  노령층 총 이동 시간  노령층 총 이동인구\n",
       "0     강남구     69.427451    75.450907      5108333  5551526.81\n",
       "1     강동구     75.268675    87.634931      3640520  4238638.72\n",
       "2     강북구     66.042841    61.211339      3112467  2884767.99\n",
       "3     강서구     74.084405    71.410602      3811939  3674361.09\n",
       "4     관악구     65.624521    60.115551      3493587  3200311.49\n",
       "5     광진구     61.621160    52.110551      3139290  2654772.02\n",
       "6     구로구     66.476494    51.388650      3287595  2541425.68\n",
       "7     금천구     66.128313    36.104046      2066113  1128034.82\n",
       "8     노원구     70.179058    71.456362      3732403  3800335.16\n",
       "9     도봉구     69.104122    57.184127      3177062  2629040.25\n",
       "10   동대문구     62.584861    52.234659      4025646  3359889.94\n",
       "11    동작구     60.686409    54.643617      3445835  3102719.23\n",
       "12    마포구     62.757632    50.483555      3494847  2811328.23\n",
       "13   서대문구     61.798625    50.483093      3200798  2614721.30\n",
       "14    서초구     65.834659    67.419201      4377939  4483309.42\n",
       "15    성동구     59.174634    43.889492      3309874  2454914.87\n",
       "16    성북구     62.737548    57.701176      3630120  3338705.47\n",
       "17    송파구     73.105135    91.599724      4231179  5301608.84\n",
       "18    양천구     63.872019    55.782091      2715966  2371966.06\n",
       "19   영등포구     62.077411    54.608853      4023237  3539199.75\n",
       "20    용산구     62.849174    35.289720      3391530  1904339.17\n",
       "21    은평구     72.366570    76.459553      3476490  3673116.95\n",
       "22    종로구     61.165152    45.401734      4077636  3026752.02\n",
       "23     중구     59.806793    40.702222      3815793  2596883.14\n",
       "24    중랑구     65.351138    55.406786      3263113  2766571.62"
      ]
     },
     "execution_count": 117,
     "metadata": {},
     "output_type": "execute_result"
    }
   ],
   "source": [
    "# df_mean, df_sum 데이터프레임 조인(merge)\n",
    "# 참고: '도착 자치구' 열이 조인 기준, how='inner' 지정\n",
    "df_seoul_moving = pd.merge(df_mean, df_sum, how='inner', on='도착 자치구')\n",
    "\n",
    "# 확인\n",
    "df_seoul_moving"
   ]
  },
  {
   "cell_type": "markdown",
   "id": "1d394661-7f25-4e3f-9c4f-b83243ee52a6",
   "metadata": {},
   "source": [
    "- df_seoul_moving 데이터프레임의 '도착 자치구' 열 이름을 '자치구'로 변경하세요."
   ]
  },
  {
   "cell_type": "code",
   "execution_count": 120,
   "id": "2490e0c7-3561-425f-a9ce-86bbb8e4cdb8",
   "metadata": {},
   "outputs": [
    {
     "data": {
      "text/html": [
       "<div>\n",
       "<style scoped>\n",
       "    .dataframe tbody tr th:only-of-type {\n",
       "        vertical-align: middle;\n",
       "    }\n",
       "\n",
       "    .dataframe tbody tr th {\n",
       "        vertical-align: top;\n",
       "    }\n",
       "\n",
       "    .dataframe thead th {\n",
       "        text-align: right;\n",
       "    }\n",
       "</style>\n",
       "<table border=\"1\" class=\"dataframe\">\n",
       "  <thead>\n",
       "    <tr style=\"text-align: right;\">\n",
       "      <th></th>\n",
       "      <th>자치구</th>\n",
       "      <th>노령층 평균 이동 시간</th>\n",
       "      <th>노령층 평균 이동인구</th>\n",
       "      <th>노령층 총 이동 시간</th>\n",
       "      <th>노령층 총 이동인구</th>\n",
       "    </tr>\n",
       "  </thead>\n",
       "  <tbody>\n",
       "    <tr>\n",
       "      <th>0</th>\n",
       "      <td>강남구</td>\n",
       "      <td>69.427451</td>\n",
       "      <td>75.450907</td>\n",
       "      <td>5108333</td>\n",
       "      <td>5551526.81</td>\n",
       "    </tr>\n",
       "    <tr>\n",
       "      <th>1</th>\n",
       "      <td>강동구</td>\n",
       "      <td>75.268675</td>\n",
       "      <td>87.634931</td>\n",
       "      <td>3640520</td>\n",
       "      <td>4238638.72</td>\n",
       "    </tr>\n",
       "    <tr>\n",
       "      <th>2</th>\n",
       "      <td>강북구</td>\n",
       "      <td>66.042841</td>\n",
       "      <td>61.211339</td>\n",
       "      <td>3112467</td>\n",
       "      <td>2884767.99</td>\n",
       "    </tr>\n",
       "    <tr>\n",
       "      <th>3</th>\n",
       "      <td>강서구</td>\n",
       "      <td>74.084405</td>\n",
       "      <td>71.410602</td>\n",
       "      <td>3811939</td>\n",
       "      <td>3674361.09</td>\n",
       "    </tr>\n",
       "    <tr>\n",
       "      <th>4</th>\n",
       "      <td>관악구</td>\n",
       "      <td>65.624521</td>\n",
       "      <td>60.115551</td>\n",
       "      <td>3493587</td>\n",
       "      <td>3200311.49</td>\n",
       "    </tr>\n",
       "  </tbody>\n",
       "</table>\n",
       "</div>"
      ],
      "text/plain": [
       "   자치구  노령층 평균 이동 시간  노령층 평균 이동인구  노령층 총 이동 시간  노령층 총 이동인구\n",
       "0  강남구     69.427451    75.450907      5108333  5551526.81\n",
       "1  강동구     75.268675    87.634931      3640520  4238638.72\n",
       "2  강북구     66.042841    61.211339      3112467  2884767.99\n",
       "3  강서구     74.084405    71.410602      3811939  3674361.09\n",
       "4  관악구     65.624521    60.115551      3493587  3200311.49"
      ]
     },
     "execution_count": 120,
     "metadata": {},
     "output_type": "execute_result"
    }
   ],
   "source": [
    "# 열 이름 변경\n",
    "df_seoul_moving.rename(columns={'도착 자치구':'자치구'}, inplace=True)\n",
    "\n",
    "# 확인\n",
    "df_seoul_moving.head()"
   ]
  },
  {
   "cell_type": "markdown",
   "id": "6c8b4d4f-ca4a-4cf6-9f8a-d77574c1e5a0",
   "metadata": {},
   "source": [
    "- df_seoul_moving 데이터프레임을 df_seoul_moving.csv 파일로 저장하세요."
   ]
  },
  {
   "cell_type": "code",
   "execution_count": 123,
   "id": "b7389d07",
   "metadata": {},
   "outputs": [],
   "source": [
    "# csv 파일로 저장 (파일명: df_seoul_moving.csv)\n",
    "# 참고: to_csv() 메서드를 사용, index=False 지정 \n",
    "df_seoul_moving.to_csv(path + 'df_seoul_moving_over70.csv', index=False)"
   ]
  },
  {
   "cell_type": "markdown",
   "id": "602b8bae",
   "metadata": {},
   "source": [
    "---"
   ]
  }
 ],
 "metadata": {
  "kernelspec": {
   "display_name": "Python 3 (ipykernel)",
   "language": "python",
   "name": "python3"
  },
  "language_info": {
   "codemirror_mode": {
    "name": "ipython",
    "version": 3
   },
   "file_extension": ".py",
   "mimetype": "text/x-python",
   "name": "python",
   "nbconvert_exporter": "python",
   "pygments_lexer": "ipython3",
   "version": "3.12.4"
  },
  "vscode": {
   "interpreter": {
    "hash": "136ac6390a149cc93e6470a8f7f2b930c2fa00ca17cae58650efc746ba1de66d"
   }
  }
 },
 "nbformat": 4,
 "nbformat_minor": 5
}
