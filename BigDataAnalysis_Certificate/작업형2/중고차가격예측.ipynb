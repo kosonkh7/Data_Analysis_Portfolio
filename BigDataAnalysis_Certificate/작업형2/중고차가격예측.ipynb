{
 "cells": [
  {
   "cell_type": "markdown",
   "id": "b5c87aee",
   "metadata": {},
   "source": [
    "# 2번\n",
    "\n",
    "예측 변수 price, test.csv에 대해 ID별로 price 값을 예측하여 제출, 제출 데이터 컬럼은 ID와 price 두개만 존재해야함. 평가지표는 rmse"
   ]
  },
  {
   "cell_type": "markdown",
   "id": "691e4790",
   "metadata": {},
   "source": [
    "① 데이터 전처리(결측치 또는 이상치 제거나 대체)\n",
    "\n",
    "② 파생변수 생성\n",
    "\n",
    "③ 데이터 불균형 해소(Over Sampling) \n",
    "\n",
    "④ 분포 변환(데이터의 산포에 따라 Min-Max, Standard, Robust Scale 사용)\n",
    "\n",
    "⑤ 모델링(랜덤포레스트 추천)\n",
    "\n",
    "⑥ 성능 확인(auc)\n",
    "\n",
    "⑦ test셋 예측값(class 또는 probability) 생성\n",
    "\n",
    "⑧ 제시된 형태로 답안 만들기"
   ]
  },
  {
   "cell_type": "code",
   "execution_count": null,
   "id": "5625579e",
   "metadata": {},
   "outputs": [],
   "source": [
    "# from sklearn.model_selection import train_test_split\n",
    "# from sklearn.metrics import mean_squared_error\n",
    "# from sklearn.ensemble import RandomForestRegressor\n",
    "# import numpy as np\n",
    "# y = train['price']\n",
    "# x = train.drop(columns =['price','ID'])\n",
    "# test_x = test.drop(columns =['ID'])\n",
    "\n",
    "\n",
    "# dum_x = pd.get_dummies(x)\n",
    "\n",
    "\n",
    "# # train에는 있고, test에는 없는 데이터 존재 컬럼숫자가 다름 -> reindex해줘야함\n",
    "# dum_test = pd.get_dummies(test_x)\n",
    "# dum_test = dum_test.reindex(columns = dum_x.columns, fill_value=0)\n",
    "\n",
    "\n",
    "\n",
    "# x_train,x_test,y_train,y_test = train_test_split(dum_x,y)\n",
    "\n",
    "\n",
    "# rr = RandomForestRegressor()\n",
    "# rr.fit(x_train,y_train)\n",
    "\n",
    "\n",
    "# pred = rr.predict(x_test)\n",
    "# print('test rmse', np.sqrt(mean_squared_error(y_test,pred)))\n",
    "\n",
    "\n",
    "# pred_test = rr.predict(dum_test)\n",
    "\n",
    "# sumission = pd.DataFrame()\n",
    "# sumission['ID'] = test['ID']\n",
    "# sumission['price']  = pred_test\n",
    "# sumission.head()\n",
    "# # sumission.to_csv('00000000.csv',index=Fasle)"
   ]
  },
  {
   "cell_type": "code",
   "execution_count": 10,
   "id": "41b31efc",
   "metadata": {},
   "outputs": [],
   "source": [
    "import pandas as pd\n",
    "import numpy as np\n",
    "\n",
    "from sklearn.preprocessing import LabelEncoder\n",
    "from sklearn.model_selection import train_test_split\n",
    "from sklearn.ensemble import RandomForestClassifier\n",
    "from sklearn.ensemble import RandomForestRegressor\n",
    "\n",
    "from sklearn.metrics import mean_squared_error"
   ]
  },
  {
   "cell_type": "code",
   "execution_count": 15,
   "id": "1d15d8b7",
   "metadata": {},
   "outputs": [],
   "source": [
    "train = pd.read_csv(\"train.csv\")\n",
    "test = pd.read_csv(\"test.csv\")"
   ]
  },
  {
   "cell_type": "code",
   "execution_count": 16,
   "id": "56e688e6",
   "metadata": {},
   "outputs": [
    {
     "name": "stdout",
     "output_type": "stream",
     "text": [
      "      ID      model  year  price transmission  mileage fuelType  tax   mpg  \\\n",
      "0  10170    A Class  2012  11940    Automatic    46000   Diesel   30  64.2   \n",
      "1   9551   CL Class  2020  38624    Semi-Auto       19   Petrol  150  36.7   \n",
      "2   1790    A Class  2013   8500       Manual    69031   Petrol  125  51.4   \n",
      "3  10018    B Class  2015  13998    Automatic    34739   Diesel  125  56.5   \n",
      "4    142    E Class  2017  20998    Semi-Auto    21352   Diesel   20  72.4   \n",
      "\n",
      "   engineSize  \n",
      "0         2.1  \n",
      "1         2.0  \n",
      "2         1.6  \n",
      "3         2.1  \n",
      "4         2.0  \n"
     ]
    }
   ],
   "source": [
    "print(train.head())"
   ]
  },
  {
   "cell_type": "code",
   "execution_count": 17,
   "id": "f737185c",
   "metadata": {},
   "outputs": [
    {
     "name": "stdout",
     "output_type": "stream",
     "text": [
      "<class 'pandas.core.frame.DataFrame'>\n",
      "RangeIndex: 9823 entries, 0 to 9822\n",
      "Data columns (total 10 columns):\n",
      " #   Column        Non-Null Count  Dtype  \n",
      "---  ------        --------------  -----  \n",
      " 0   ID            9823 non-null   int64  \n",
      " 1   model         9823 non-null   object \n",
      " 2   year          9823 non-null   int64  \n",
      " 3   price         9823 non-null   int64  \n",
      " 4   transmission  9823 non-null   object \n",
      " 5   mileage       9823 non-null   int64  \n",
      " 6   fuelType      9823 non-null   object \n",
      " 7   tax           9823 non-null   int64  \n",
      " 8   mpg           9823 non-null   float64\n",
      " 9   engineSize    9823 non-null   float64\n",
      "dtypes: float64(2), int64(5), object(3)\n",
      "memory usage: 767.5+ KB\n",
      "None\n"
     ]
    }
   ],
   "source": [
    "print(train.info())"
   ]
  },
  {
   "cell_type": "code",
   "execution_count": 18,
   "id": "e76e32fe",
   "metadata": {},
   "outputs": [
    {
     "name": "stdout",
     "output_type": "stream",
     "text": [
      "ID              0\n",
      "model           0\n",
      "year            0\n",
      "price           0\n",
      "transmission    0\n",
      "mileage         0\n",
      "fuelType        0\n",
      "tax             0\n",
      "mpg             0\n",
      "engineSize      0\n",
      "dtype: int64 \n",
      " ID              0\n",
      "model           0\n",
      "year            0\n",
      "transmission    0\n",
      "mileage         0\n",
      "fuelType        0\n",
      "tax             0\n",
      "mpg             0\n",
      "engineSize      0\n",
      "dtype: int64\n"
     ]
    }
   ],
   "source": [
    "print(train.isnull().sum(), \"\\n\", test.isnull().sum())"
   ]
  },
  {
   "cell_type": "code",
   "execution_count": 19,
   "id": "8fd448f3",
   "metadata": {},
   "outputs": [
    {
     "name": "stdout",
     "output_type": "stream",
     "text": [
      "(9823, 10) (3296, 9)\n"
     ]
    }
   ],
   "source": [
    "print(train.shape, test.shape)"
   ]
  },
  {
   "cell_type": "code",
   "execution_count": 22,
   "id": "7bf77b53",
   "metadata": {},
   "outputs": [
    {
     "name": "stdout",
     "output_type": "stream",
     "text": [
      "                 ID         year          price        mileage          tax  \\\n",
      "count   9823.000000  9823.000000    9823.000000    9823.000000  9823.000000   \n",
      "mean    6537.860328  2017.291764   24725.670671   21920.129797   129.983712   \n",
      "std     3788.746072     2.239658   11849.430688   21266.824972    64.754362   \n",
      "min        1.000000  1970.000000     650.000000       1.000000     0.000000   \n",
      "25%     3247.500000  2016.000000   17450.000000    6058.500000   125.000000   \n",
      "50%     6516.000000  2018.000000   22480.000000   15181.000000   145.000000   \n",
      "75%     9816.500000  2019.000000   28990.000000   31695.500000   145.000000   \n",
      "max    13118.000000  2020.000000  154998.000000  259000.000000   580.000000   \n",
      "\n",
      "               mpg   engineSize  \n",
      "count  9823.000000  9823.000000  \n",
      "mean     55.086633     2.073073  \n",
      "std      15.343101     0.572922  \n",
      "min       1.100000     0.000000  \n",
      "25%      45.600000     1.800000  \n",
      "50%      56.500000     2.000000  \n",
      "75%      64.200000     2.100000  \n",
      "max     217.300000     6.200000  \n"
     ]
    }
   ],
   "source": [
    "print(train.describe())"
   ]
  },
  {
   "cell_type": "code",
   "execution_count": 21,
   "id": "0631ba73",
   "metadata": {},
   "outputs": [
    {
     "data": {
      "text/html": [
       "<div>\n",
       "<style scoped>\n",
       "    .dataframe tbody tr th:only-of-type {\n",
       "        vertical-align: middle;\n",
       "    }\n",
       "\n",
       "    .dataframe tbody tr th {\n",
       "        vertical-align: top;\n",
       "    }\n",
       "\n",
       "    .dataframe thead th {\n",
       "        text-align: right;\n",
       "    }\n",
       "</style>\n",
       "<table border=\"1\" class=\"dataframe\">\n",
       "  <thead>\n",
       "    <tr style=\"text-align: right;\">\n",
       "      <th></th>\n",
       "      <th>ID</th>\n",
       "      <th>year</th>\n",
       "      <th>mileage</th>\n",
       "      <th>tax</th>\n",
       "      <th>mpg</th>\n",
       "      <th>engineSize</th>\n",
       "    </tr>\n",
       "  </thead>\n",
       "  <tbody>\n",
       "    <tr>\n",
       "      <th>count</th>\n",
       "      <td>3296.000000</td>\n",
       "      <td>3296.000000</td>\n",
       "      <td>3296.000000</td>\n",
       "      <td>3296.000000</td>\n",
       "      <td>3296.000000</td>\n",
       "      <td>3296.000000</td>\n",
       "    </tr>\n",
       "    <tr>\n",
       "      <th>mean</th>\n",
       "      <td>6622.002124</td>\n",
       "      <td>2017.309769</td>\n",
       "      <td>22037.266383</td>\n",
       "      <td>129.937803</td>\n",
       "      <td>55.362106</td>\n",
       "      <td>2.066930</td>\n",
       "    </tr>\n",
       "    <tr>\n",
       "      <th>std</th>\n",
       "      <td>3782.754723</td>\n",
       "      <td>2.179831</td>\n",
       "      <td>20907.995253</td>\n",
       "      <td>66.755305</td>\n",
       "      <td>14.847783</td>\n",
       "      <td>0.571008</td>\n",
       "    </tr>\n",
       "    <tr>\n",
       "      <th>min</th>\n",
       "      <td>0.000000</td>\n",
       "      <td>1998.000000</td>\n",
       "      <td>9.000000</td>\n",
       "      <td>0.000000</td>\n",
       "      <td>20.500000</td>\n",
       "      <td>0.000000</td>\n",
       "    </tr>\n",
       "    <tr>\n",
       "      <th>25%</th>\n",
       "      <td>3361.500000</td>\n",
       "      <td>2016.000000</td>\n",
       "      <td>6154.500000</td>\n",
       "      <td>125.000000</td>\n",
       "      <td>45.600000</td>\n",
       "      <td>1.600000</td>\n",
       "    </tr>\n",
       "    <tr>\n",
       "      <th>50%</th>\n",
       "      <td>6680.500000</td>\n",
       "      <td>2018.000000</td>\n",
       "      <td>15215.500000</td>\n",
       "      <td>145.000000</td>\n",
       "      <td>56.500000</td>\n",
       "      <td>2.000000</td>\n",
       "    </tr>\n",
       "    <tr>\n",
       "      <th>75%</th>\n",
       "      <td>9892.250000</td>\n",
       "      <td>2019.000000</td>\n",
       "      <td>32000.000000</td>\n",
       "      <td>145.000000</td>\n",
       "      <td>64.200000</td>\n",
       "      <td>2.100000</td>\n",
       "    </tr>\n",
       "    <tr>\n",
       "      <th>max</th>\n",
       "      <td>13112.000000</td>\n",
       "      <td>2020.000000</td>\n",
       "      <td>130000.000000</td>\n",
       "      <td>580.000000</td>\n",
       "      <td>188.300000</td>\n",
       "      <td>6.200000</td>\n",
       "    </tr>\n",
       "  </tbody>\n",
       "</table>\n",
       "</div>"
      ],
      "text/plain": [
       "                 ID         year        mileage          tax          mpg  \\\n",
       "count   3296.000000  3296.000000    3296.000000  3296.000000  3296.000000   \n",
       "mean    6622.002124  2017.309769   22037.266383   129.937803    55.362106   \n",
       "std     3782.754723     2.179831   20907.995253    66.755305    14.847783   \n",
       "min        0.000000  1998.000000       9.000000     0.000000    20.500000   \n",
       "25%     3361.500000  2016.000000    6154.500000   125.000000    45.600000   \n",
       "50%     6680.500000  2018.000000   15215.500000   145.000000    56.500000   \n",
       "75%     9892.250000  2019.000000   32000.000000   145.000000    64.200000   \n",
       "max    13112.000000  2020.000000  130000.000000   580.000000   188.300000   \n",
       "\n",
       "        engineSize  \n",
       "count  3296.000000  \n",
       "mean      2.066930  \n",
       "std       0.571008  \n",
       "min       0.000000  \n",
       "25%       1.600000  \n",
       "50%       2.000000  \n",
       "75%       2.100000  \n",
       "max       6.200000  "
      ]
     },
     "execution_count": 21,
     "metadata": {},
     "output_type": "execute_result"
    }
   ],
   "source": [
    "test.describe()"
   ]
  },
  {
   "cell_type": "markdown",
   "id": "ba382ecb",
   "metadata": {},
   "source": [
    "# 레이블 인코딩"
   ]
  },
  {
   "cell_type": "code",
   "execution_count": 24,
   "id": "8c7a0e2b",
   "metadata": {},
   "outputs": [],
   "source": [
    "categorical = [\"model\", \"transmission\", \"fuelType\"]\n",
    "\n",
    "combined_data = pd.concat([train[categorical], test[categorical]], axis=0)\n",
    "\n",
    "label_encoders = {}"
   ]
  },
  {
   "cell_type": "code",
   "execution_count": 27,
   "id": "a1bd6b4d",
   "metadata": {},
   "outputs": [
    {
     "name": "stdout",
     "output_type": "stream",
     "text": [
      "(13119, 6)\n"
     ]
    }
   ],
   "source": [
    "for feature in categorical:\n",
    "    label_encoder = LabelEncoder()\n",
    "    combined_data[feature + \"_combined\"] = label_encoder.fit_transform(combined_data[feature])\n",
    "    label_encoders[feature] = label_encoder\n",
    "    \n",
    "print(combined_data.shape)"
   ]
  },
  {
   "cell_type": "code",
   "execution_count": 28,
   "id": "49fb8ddc",
   "metadata": {},
   "outputs": [
    {
     "name": "stdout",
     "output_type": "stream",
     "text": [
      "<class 'pandas.core.frame.DataFrame'>\n",
      "RangeIndex: 9823 entries, 0 to 9822\n",
      "Data columns (total 10 columns):\n",
      " #   Column        Non-Null Count  Dtype  \n",
      "---  ------        --------------  -----  \n",
      " 0   ID            9823 non-null   int64  \n",
      " 1   model         9823 non-null   int32  \n",
      " 2   year          9823 non-null   int64  \n",
      " 3   price         9823 non-null   int64  \n",
      " 4   transmission  9823 non-null   int32  \n",
      " 5   mileage       9823 non-null   int64  \n",
      " 6   fuelType      9823 non-null   int32  \n",
      " 7   tax           9823 non-null   int64  \n",
      " 8   mpg           9823 non-null   float64\n",
      " 9   engineSize    9823 non-null   float64\n",
      "dtypes: float64(2), int32(3), int64(5)\n",
      "memory usage: 652.4 KB\n",
      "<class 'pandas.core.frame.DataFrame'>\n",
      "RangeIndex: 3296 entries, 0 to 3295\n",
      "Data columns (total 9 columns):\n",
      " #   Column        Non-Null Count  Dtype  \n",
      "---  ------        --------------  -----  \n",
      " 0   ID            3296 non-null   int64  \n",
      " 1   model         3296 non-null   int32  \n",
      " 2   year          3296 non-null   int64  \n",
      " 3   transmission  3296 non-null   int32  \n",
      " 4   mileage       3296 non-null   int64  \n",
      " 5   fuelType      3296 non-null   int32  \n",
      " 6   tax           3296 non-null   int64  \n",
      " 7   mpg           3296 non-null   float64\n",
      " 8   engineSize    3296 non-null   float64\n",
      "dtypes: float64(2), int32(3), int64(4)\n",
      "memory usage: 193.2 KB\n",
      "None None\n"
     ]
    },
    {
     "name": "stderr",
     "output_type": "stream",
     "text": [
      "C:\\Users\\lovej\\AppData\\Local\\Temp\\ipykernel_7928\\2807718075.py:2: FutureWarning: The behavior of `series[i:j]` with an integer-dtype index is deprecated. In a future version, this will be treated as *label-based* indexing, consistent with e.g. `series[i]` lookups. To retain the old behavior, use `series.iloc[i:j]`. To get the future behavior, use `series.loc[i:j]`.\n",
      "  train[feature] = combined_data[feature + \"_combined\"][:len(train)]\n",
      "C:\\Users\\lovej\\AppData\\Local\\Temp\\ipykernel_7928\\2807718075.py:3: FutureWarning: The behavior of `series[i:j]` with an integer-dtype index is deprecated. In a future version, this will be treated as *label-based* indexing, consistent with e.g. `series[i]` lookups. To retain the old behavior, use `series.iloc[i:j]`. To get the future behavior, use `series.loc[i:j]`.\n",
      "  test[feature] = combined_data[feature + \"_combined\"][len(train):]\n"
     ]
    }
   ],
   "source": [
    "for feature in categorical:\n",
    "    train[feature] = combined_data[feature + \"_combined\"][:len(train)]\n",
    "    test[feature] = combined_data[feature + \"_combined\"][len(train):]\n",
    "\n",
    "print(train.info(), test.info())"
   ]
  },
  {
   "cell_type": "markdown",
   "id": "57a5d4ef",
   "metadata": {},
   "source": []
  },
  {
   "cell_type": "code",
   "execution_count": 35,
   "id": "fa5e7e15",
   "metadata": {},
   "outputs": [],
   "source": [
    "x = train.drop(columns=[\"ID\", \"price\"])\n",
    "y = train[\"price\"]\n",
    "test_x = test.drop(columns=[\"ID\"])\n",
    "\n",
    "x_train, x_val, y_train, y_val = train_test_split(x, y, test_size=0.2)"
   ]
  },
  {
   "cell_type": "code",
   "execution_count": 40,
   "id": "63e02209",
   "metadata": {},
   "outputs": [
    {
     "data": {
      "text/html": [
       "<style>#sk-container-id-1 {color: black;background-color: white;}#sk-container-id-1 pre{padding: 0;}#sk-container-id-1 div.sk-toggleable {background-color: white;}#sk-container-id-1 label.sk-toggleable__label {cursor: pointer;display: block;width: 100%;margin-bottom: 0;padding: 0.3em;box-sizing: border-box;text-align: center;}#sk-container-id-1 label.sk-toggleable__label-arrow:before {content: \"▸\";float: left;margin-right: 0.25em;color: #696969;}#sk-container-id-1 label.sk-toggleable__label-arrow:hover:before {color: black;}#sk-container-id-1 div.sk-estimator:hover label.sk-toggleable__label-arrow:before {color: black;}#sk-container-id-1 div.sk-toggleable__content {max-height: 0;max-width: 0;overflow: hidden;text-align: left;background-color: #f0f8ff;}#sk-container-id-1 div.sk-toggleable__content pre {margin: 0.2em;color: black;border-radius: 0.25em;background-color: #f0f8ff;}#sk-container-id-1 input.sk-toggleable__control:checked~div.sk-toggleable__content {max-height: 200px;max-width: 100%;overflow: auto;}#sk-container-id-1 input.sk-toggleable__control:checked~label.sk-toggleable__label-arrow:before {content: \"▾\";}#sk-container-id-1 div.sk-estimator input.sk-toggleable__control:checked~label.sk-toggleable__label {background-color: #d4ebff;}#sk-container-id-1 div.sk-label input.sk-toggleable__control:checked~label.sk-toggleable__label {background-color: #d4ebff;}#sk-container-id-1 input.sk-hidden--visually {border: 0;clip: rect(1px 1px 1px 1px);clip: rect(1px, 1px, 1px, 1px);height: 1px;margin: -1px;overflow: hidden;padding: 0;position: absolute;width: 1px;}#sk-container-id-1 div.sk-estimator {font-family: monospace;background-color: #f0f8ff;border: 1px dotted black;border-radius: 0.25em;box-sizing: border-box;margin-bottom: 0.5em;}#sk-container-id-1 div.sk-estimator:hover {background-color: #d4ebff;}#sk-container-id-1 div.sk-parallel-item::after {content: \"\";width: 100%;border-bottom: 1px solid gray;flex-grow: 1;}#sk-container-id-1 div.sk-label:hover label.sk-toggleable__label {background-color: #d4ebff;}#sk-container-id-1 div.sk-serial::before {content: \"\";position: absolute;border-left: 1px solid gray;box-sizing: border-box;top: 0;bottom: 0;left: 50%;z-index: 0;}#sk-container-id-1 div.sk-serial {display: flex;flex-direction: column;align-items: center;background-color: white;padding-right: 0.2em;padding-left: 0.2em;position: relative;}#sk-container-id-1 div.sk-item {position: relative;z-index: 1;}#sk-container-id-1 div.sk-parallel {display: flex;align-items: stretch;justify-content: center;background-color: white;position: relative;}#sk-container-id-1 div.sk-item::before, #sk-container-id-1 div.sk-parallel-item::before {content: \"\";position: absolute;border-left: 1px solid gray;box-sizing: border-box;top: 0;bottom: 0;left: 50%;z-index: -1;}#sk-container-id-1 div.sk-parallel-item {display: flex;flex-direction: column;z-index: 1;position: relative;background-color: white;}#sk-container-id-1 div.sk-parallel-item:first-child::after {align-self: flex-end;width: 50%;}#sk-container-id-1 div.sk-parallel-item:last-child::after {align-self: flex-start;width: 50%;}#sk-container-id-1 div.sk-parallel-item:only-child::after {width: 0;}#sk-container-id-1 div.sk-dashed-wrapped {border: 1px dashed gray;margin: 0 0.4em 0.5em 0.4em;box-sizing: border-box;padding-bottom: 0.4em;background-color: white;}#sk-container-id-1 div.sk-label label {font-family: monospace;font-weight: bold;display: inline-block;line-height: 1.2em;}#sk-container-id-1 div.sk-label-container {text-align: center;}#sk-container-id-1 div.sk-container {/* jupyter's `normalize.less` sets `[hidden] { display: none; }` but bootstrap.min.css set `[hidden] { display: none !important; }` so we also need the `!important` here to be able to override the default hidden behavior on the sphinx rendered scikit-learn.org. See: https://github.com/scikit-learn/scikit-learn/issues/21755 */display: inline-block !important;position: relative;}#sk-container-id-1 div.sk-text-repr-fallback {display: none;}</style><div id=\"sk-container-id-1\" class=\"sk-top-container\"><div class=\"sk-text-repr-fallback\"><pre>RandomForestRegressor()</pre><b>In a Jupyter environment, please rerun this cell to show the HTML representation or trust the notebook. <br />On GitHub, the HTML representation is unable to render, please try loading this page with nbviewer.org.</b></div><div class=\"sk-container\" hidden><div class=\"sk-item\"><div class=\"sk-estimator sk-toggleable\"><input class=\"sk-toggleable__control sk-hidden--visually\" id=\"sk-estimator-id-1\" type=\"checkbox\" checked><label for=\"sk-estimator-id-1\" class=\"sk-toggleable__label sk-toggleable__label-arrow\">RandomForestRegressor</label><div class=\"sk-toggleable__content\"><pre>RandomForestRegressor()</pre></div></div></div></div></div>"
      ],
      "text/plain": [
       "RandomForestRegressor()"
      ]
     },
     "execution_count": 40,
     "metadata": {},
     "output_type": "execute_result"
    }
   ],
   "source": [
    "from sklearn.ensemble import RandomForestRegressor\n",
    "\n",
    "rr = RandomForestRegressor()\n",
    "rr.fit(x_train, y_train)"
   ]
  },
  {
   "cell_type": "code",
   "execution_count": 43,
   "id": "08bdcd08",
   "metadata": {},
   "outputs": [
    {
     "name": "stdout",
     "output_type": "stream",
     "text": [
      "val rmse 2870.60646499614\n"
     ]
    }
   ],
   "source": [
    "predict = rr.predict(x_val)\n",
    "print('val rmse', np.sqrt(mean_squared_error(y_val,predict)))"
   ]
  },
  {
   "cell_type": "code",
   "execution_count": 44,
   "id": "ccb6a362",
   "metadata": {},
   "outputs": [],
   "source": [
    "predict_test = rr.predict(test_x)"
   ]
  },
  {
   "cell_type": "code",
   "execution_count": 47,
   "id": "26004c04",
   "metadata": {},
   "outputs": [
    {
     "name": "stdout",
     "output_type": "stream",
     "text": [
      "   ID     price\n",
      "0   0   4372.05\n",
      "1   2  74755.15\n",
      "2  14  16659.77\n",
      "3  15  13723.39\n",
      "4  18  15531.22\n"
     ]
    }
   ],
   "source": [
    "# sumission = pd.DataFrame()\n",
    "# sumission['ID'] = test['ID']\n",
    "# sumission['price']  = pred_test\n",
    "# sumission.head()\n",
    "# # sumission.to_csv('00000000.csv',index=Fasle)\n",
    "\n",
    "submission = pd.DataFrame()\n",
    "submission[\"ID\"] = test[\"ID\"]\n",
    "submission[\"price\"] = predict_test\n",
    "print(submission.head())\n",
    "submission.to_csv(\"ex.csv\", index=False)"
   ]
  },
  {
   "cell_type": "code",
   "execution_count": 48,
   "id": "51cb22ac",
   "metadata": {},
   "outputs": [
    {
     "data": {
      "text/html": [
       "<div>\n",
       "<style scoped>\n",
       "    .dataframe tbody tr th:only-of-type {\n",
       "        vertical-align: middle;\n",
       "    }\n",
       "\n",
       "    .dataframe tbody tr th {\n",
       "        vertical-align: top;\n",
       "    }\n",
       "\n",
       "    .dataframe thead th {\n",
       "        text-align: right;\n",
       "    }\n",
       "</style>\n",
       "<table border=\"1\" class=\"dataframe\">\n",
       "  <thead>\n",
       "    <tr style=\"text-align: right;\">\n",
       "      <th></th>\n",
       "      <th>ID</th>\n",
       "      <th>price</th>\n",
       "    </tr>\n",
       "  </thead>\n",
       "  <tbody>\n",
       "    <tr>\n",
       "      <th>count</th>\n",
       "      <td>3296.000000</td>\n",
       "      <td>3296.000000</td>\n",
       "    </tr>\n",
       "    <tr>\n",
       "      <th>mean</th>\n",
       "      <td>6622.002124</td>\n",
       "      <td>24608.248690</td>\n",
       "    </tr>\n",
       "    <tr>\n",
       "      <th>std</th>\n",
       "      <td>3782.754723</td>\n",
       "      <td>11493.942779</td>\n",
       "    </tr>\n",
       "    <tr>\n",
       "      <th>min</th>\n",
       "      <td>0.000000</td>\n",
       "      <td>2932.470000</td>\n",
       "    </tr>\n",
       "    <tr>\n",
       "      <th>25%</th>\n",
       "      <td>3361.500000</td>\n",
       "      <td>17685.200000</td>\n",
       "    </tr>\n",
       "    <tr>\n",
       "      <th>50%</th>\n",
       "      <td>6680.500000</td>\n",
       "      <td>22267.205000</td>\n",
       "    </tr>\n",
       "    <tr>\n",
       "      <th>75%</th>\n",
       "      <td>9892.250000</td>\n",
       "      <td>28762.002500</td>\n",
       "    </tr>\n",
       "    <tr>\n",
       "      <th>max</th>\n",
       "      <td>13112.000000</td>\n",
       "      <td>137205.620000</td>\n",
       "    </tr>\n",
       "  </tbody>\n",
       "</table>\n",
       "</div>"
      ],
      "text/plain": [
       "                 ID          price\n",
       "count   3296.000000    3296.000000\n",
       "mean    6622.002124   24608.248690\n",
       "std     3782.754723   11493.942779\n",
       "min        0.000000    2932.470000\n",
       "25%     3361.500000   17685.200000\n",
       "50%     6680.500000   22267.205000\n",
       "75%     9892.250000   28762.002500\n",
       "max    13112.000000  137205.620000"
      ]
     },
     "execution_count": 48,
     "metadata": {},
     "output_type": "execute_result"
    }
   ],
   "source": [
    "submission.describe()"
   ]
  }
 ],
 "metadata": {
  "kernelspec": {
   "display_name": "Python 3 (ipykernel)",
   "language": "python",
   "name": "python3"
  },
  "language_info": {
   "codemirror_mode": {
    "name": "ipython",
    "version": 3
   },
   "file_extension": ".py",
   "mimetype": "text/x-python",
   "name": "python",
   "nbconvert_exporter": "python",
   "pygments_lexer": "ipython3",
   "version": "3.8.13"
  }
 },
 "nbformat": 4,
 "nbformat_minor": 5
}
