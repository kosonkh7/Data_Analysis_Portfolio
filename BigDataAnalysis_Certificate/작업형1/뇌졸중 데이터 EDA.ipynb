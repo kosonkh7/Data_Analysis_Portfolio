{
 "cells": [
  {
   "cell_type": "markdown",
   "id": "8a2283e3",
   "metadata": {},
   "source": [
    "# 뇌졸중(stroke) 발생 여부"
   ]
  },
  {
   "cell_type": "code",
   "execution_count": 2,
   "id": "507f74f7",
   "metadata": {},
   "outputs": [],
   "source": [
    "import pandas as pd\n",
    "import numpy as np"
   ]
  },
  {
   "cell_type": "code",
   "execution_count": 3,
   "id": "71f65ceb",
   "metadata": {},
   "outputs": [
    {
     "data": {
      "text/html": [
       "<div>\n",
       "<style scoped>\n",
       "    .dataframe tbody tr th:only-of-type {\n",
       "        vertical-align: middle;\n",
       "    }\n",
       "\n",
       "    .dataframe tbody tr th {\n",
       "        vertical-align: top;\n",
       "    }\n",
       "\n",
       "    .dataframe thead th {\n",
       "        text-align: right;\n",
       "    }\n",
       "</style>\n",
       "<table border=\"1\" class=\"dataframe\">\n",
       "  <thead>\n",
       "    <tr style=\"text-align: right;\">\n",
       "      <th></th>\n",
       "      <th>id</th>\n",
       "      <th>gender</th>\n",
       "      <th>age</th>\n",
       "      <th>hypertension</th>\n",
       "      <th>heart_disease</th>\n",
       "      <th>ever_married</th>\n",
       "      <th>work_type</th>\n",
       "      <th>Residence_type</th>\n",
       "      <th>avg_glucose_level</th>\n",
       "      <th>bmi</th>\n",
       "      <th>smoking_status</th>\n",
       "      <th>stroke</th>\n",
       "    </tr>\n",
       "  </thead>\n",
       "  <tbody>\n",
       "    <tr>\n",
       "      <th>0</th>\n",
       "      <td>1192</td>\n",
       "      <td>Female</td>\n",
       "      <td>31</td>\n",
       "      <td>0</td>\n",
       "      <td>0</td>\n",
       "      <td>No</td>\n",
       "      <td>Govt_job</td>\n",
       "      <td>Rural</td>\n",
       "      <td>70.66</td>\n",
       "      <td>27.2</td>\n",
       "      <td>never smoked</td>\n",
       "      <td>0</td>\n",
       "    </tr>\n",
       "    <tr>\n",
       "      <th>1</th>\n",
       "      <td>77</td>\n",
       "      <td>Female</td>\n",
       "      <td>13</td>\n",
       "      <td>0</td>\n",
       "      <td>0</td>\n",
       "      <td>No</td>\n",
       "      <td>children</td>\n",
       "      <td>Rural</td>\n",
       "      <td>85.81</td>\n",
       "      <td>18.6</td>\n",
       "      <td>Unknown</td>\n",
       "      <td>0</td>\n",
       "    </tr>\n",
       "    <tr>\n",
       "      <th>2</th>\n",
       "      <td>59200</td>\n",
       "      <td>Male</td>\n",
       "      <td>18</td>\n",
       "      <td>0</td>\n",
       "      <td>0</td>\n",
       "      <td>No</td>\n",
       "      <td>Private</td>\n",
       "      <td>Urban</td>\n",
       "      <td>60.56</td>\n",
       "      <td>33.0</td>\n",
       "      <td>never smoked</td>\n",
       "      <td>0</td>\n",
       "    </tr>\n",
       "    <tr>\n",
       "      <th>3</th>\n",
       "      <td>24905</td>\n",
       "      <td>Female</td>\n",
       "      <td>65</td>\n",
       "      <td>0</td>\n",
       "      <td>0</td>\n",
       "      <td>Yes</td>\n",
       "      <td>Private</td>\n",
       "      <td>Urban</td>\n",
       "      <td>205.77</td>\n",
       "      <td>46.0</td>\n",
       "      <td>formerly smoked</td>\n",
       "      <td>1</td>\n",
       "    </tr>\n",
       "    <tr>\n",
       "      <th>4</th>\n",
       "      <td>24257</td>\n",
       "      <td>Male</td>\n",
       "      <td>4</td>\n",
       "      <td>0</td>\n",
       "      <td>0</td>\n",
       "      <td>No</td>\n",
       "      <td>children</td>\n",
       "      <td>Rural</td>\n",
       "      <td>90.42</td>\n",
       "      <td>16.2</td>\n",
       "      <td>Unknown</td>\n",
       "      <td>0</td>\n",
       "    </tr>\n",
       "  </tbody>\n",
       "</table>\n",
       "</div>"
      ],
      "text/plain": [
       "      id  gender age  hypertension  heart_disease ever_married work_type  \\\n",
       "0   1192  Female  31             0              0           No  Govt_job   \n",
       "1     77  Female  13             0              0           No  children   \n",
       "2  59200    Male  18             0              0           No   Private   \n",
       "3  24905  Female  65             0              0          Yes   Private   \n",
       "4  24257    Male   4             0              0           No  children   \n",
       "\n",
       "  Residence_type  avg_glucose_level   bmi   smoking_status  stroke  \n",
       "0          Rural              70.66  27.2     never smoked       0  \n",
       "1          Rural              85.81  18.6          Unknown       0  \n",
       "2          Urban              60.56  33.0     never smoked       0  \n",
       "3          Urban             205.77  46.0  formerly smoked       1  \n",
       "4          Rural              90.42  16.2          Unknown       0  "
      ]
     },
     "execution_count": 3,
     "metadata": {},
     "output_type": "execute_result"
    }
   ],
   "source": [
    "data = pd.read_csv('https://raw.githubusercontent.com/Datamanim/datarepo/main/stroke_/train.csv')\n",
    "data.head()"
   ]
  },
  {
   "cell_type": "code",
   "execution_count": 4,
   "id": "94303d03",
   "metadata": {},
   "outputs": [
    {
     "data": {
      "text/plain": [
       "id                    0\n",
       "gender                0\n",
       "age                   0\n",
       "hypertension          0\n",
       "heart_disease         0\n",
       "ever_married          0\n",
       "work_type             0\n",
       "Residence_type        0\n",
       "avg_glucose_level     0\n",
       "bmi                  52\n",
       "smoking_status        0\n",
       "stroke                0\n",
       "dtype: int64"
      ]
     },
     "execution_count": 4,
     "metadata": {},
     "output_type": "execute_result"
    }
   ],
   "source": [
    "data.isnull().sum()"
   ]
  },
  {
   "cell_type": "code",
   "execution_count": 5,
   "id": "c5139ccf",
   "metadata": {},
   "outputs": [
    {
     "name": "stdout",
     "output_type": "stream",
     "text": [
      "<class 'pandas.core.frame.DataFrame'>\n",
      "RangeIndex: 1137 entries, 0 to 1136\n",
      "Data columns (total 12 columns):\n",
      " #   Column             Non-Null Count  Dtype  \n",
      "---  ------             --------------  -----  \n",
      " 0   id                 1137 non-null   int64  \n",
      " 1   gender             1137 non-null   object \n",
      " 2   age                1137 non-null   object \n",
      " 3   hypertension       1137 non-null   int64  \n",
      " 4   heart_disease      1137 non-null   int64  \n",
      " 5   ever_married       1137 non-null   object \n",
      " 6   work_type          1137 non-null   object \n",
      " 7   Residence_type     1137 non-null   object \n",
      " 8   avg_glucose_level  1137 non-null   float64\n",
      " 9   bmi                1085 non-null   float64\n",
      " 10  smoking_status     1137 non-null   object \n",
      " 11  stroke             1137 non-null   int64  \n",
      "dtypes: float64(2), int64(4), object(6)\n",
      "memory usage: 106.7+ KB\n"
     ]
    }
   ],
   "source": [
    "data.info()"
   ]
  },
  {
   "cell_type": "markdown",
   "id": "b19b3918",
   "metadata": {},
   "source": [
    "Q1. 성별이 Male인 환자들의 age의 평균값은 ?"
   ]
  },
  {
   "cell_type": "code",
   "execution_count": 6,
   "id": "7e3fccfe",
   "metadata": {},
   "outputs": [
    {
     "data": {
      "text/html": [
       "<div>\n",
       "<style scoped>\n",
       "    .dataframe tbody tr th:only-of-type {\n",
       "        vertical-align: middle;\n",
       "    }\n",
       "\n",
       "    .dataframe tbody tr th {\n",
       "        vertical-align: top;\n",
       "    }\n",
       "\n",
       "    .dataframe thead th {\n",
       "        text-align: right;\n",
       "    }\n",
       "</style>\n",
       "<table border=\"1\" class=\"dataframe\">\n",
       "  <thead>\n",
       "    <tr style=\"text-align: right;\">\n",
       "      <th></th>\n",
       "      <th>id</th>\n",
       "      <th>gender</th>\n",
       "      <th>age</th>\n",
       "      <th>hypertension</th>\n",
       "      <th>heart_disease</th>\n",
       "      <th>ever_married</th>\n",
       "      <th>work_type</th>\n",
       "      <th>Residence_type</th>\n",
       "      <th>avg_glucose_level</th>\n",
       "      <th>bmi</th>\n",
       "      <th>smoking_status</th>\n",
       "      <th>stroke</th>\n",
       "    </tr>\n",
       "  </thead>\n",
       "  <tbody>\n",
       "    <tr>\n",
       "      <th>586</th>\n",
       "      <td>12363</td>\n",
       "      <td>Male</td>\n",
       "      <td>*82</td>\n",
       "      <td>0</td>\n",
       "      <td>1</td>\n",
       "      <td>Yes</td>\n",
       "      <td>Govt_job</td>\n",
       "      <td>Urban</td>\n",
       "      <td>74.1</td>\n",
       "      <td>28.8</td>\n",
       "      <td>Unknown</td>\n",
       "      <td>1</td>\n",
       "    </tr>\n",
       "  </tbody>\n",
       "</table>\n",
       "</div>"
      ],
      "text/plain": [
       "        id gender  age  hypertension  heart_disease ever_married work_type  \\\n",
       "586  12363   Male  *82             0              1          Yes  Govt_job   \n",
       "\n",
       "    Residence_type  avg_glucose_level   bmi smoking_status  stroke  \n",
       "586          Urban               74.1  28.8        Unknown       1  "
      ]
     },
     "execution_count": 6,
     "metadata": {},
     "output_type": "execute_result"
    }
   ],
   "source": [
    "data[data.age.str.startswith('*')]"
   ]
  },
  {
   "cell_type": "code",
   "execution_count": 7,
   "id": "a2cc7797",
   "metadata": {},
   "outputs": [
    {
     "data": {
      "text/plain": [
       "586    82\n",
       "Name: age, dtype: int64"
      ]
     },
     "execution_count": 7,
     "metadata": {},
     "output_type": "execute_result"
    }
   ],
   "source": [
    "data[data.age.str.startswith('*')].age.replace('*82', 82)"
   ]
  },
  {
   "cell_type": "code",
   "execution_count": 8,
   "id": "17bdd0a7",
   "metadata": {},
   "outputs": [],
   "source": [
    "data.loc[data.age.str.startswith('*'), 'age'] = 82"
   ]
  },
  {
   "cell_type": "code",
   "execution_count": 9,
   "id": "d5400292",
   "metadata": {},
   "outputs": [],
   "source": [
    "data.age = data.copy().age.astype(int)"
   ]
  },
  {
   "cell_type": "code",
   "execution_count": 10,
   "id": "9c1d0d79",
   "metadata": {},
   "outputs": [
    {
     "data": {
      "text/plain": [
       "44.68623481781376"
      ]
     },
     "execution_count": 10,
     "metadata": {},
     "output_type": "execute_result"
    }
   ],
   "source": [
    "data[data['gender']=='Male']['age'].mean()"
   ]
  },
  {
   "cell_type": "markdown",
   "id": "a338a7f0",
   "metadata": {},
   "source": [
    "Q2. bmi컬럼의 결측치를 bmi컬럼의 결측치를 제외한 나머지 값들의 중앙값으로 채웠을 경우 bmi 컬럼의 평균을 소숫점 이하 3자리 까지 구하여라"
   ]
  },
  {
   "cell_type": "code",
   "execution_count": 11,
   "id": "b089ba5b",
   "metadata": {},
   "outputs": [
    {
     "data": {
      "text/plain": [
       "29.166"
      ]
     },
     "execution_count": 11,
     "metadata": {},
     "output_type": "execute_result"
    }
   ],
   "source": [
    "round(data.bmi.fillna(data.bmi.median()).mean(), 3)"
   ]
  },
  {
   "cell_type": "markdown",
   "id": "5dcc3eb6",
   "metadata": {},
   "source": [
    "Q3. bmi컬럼의 각 결측치들을 직전의 행의 bmi값으로 채웠을 경우 bmi 컬럼의 평균을 소숫점 이하 3자리 까지 구하여라"
   ]
  },
  {
   "cell_type": "code",
   "execution_count": 12,
   "id": "bd42f21c",
   "metadata": {},
   "outputs": [
    {
     "data": {
      "text/plain": [
       "29.188"
      ]
     },
     "execution_count": 12,
     "metadata": {},
     "output_type": "execute_result"
    }
   ],
   "source": [
    "round(data.bmi.fillna(method='ffill').mean(), 3)"
   ]
  },
  {
   "cell_type": "markdown",
   "id": "8cc69a94",
   "metadata": {},
   "source": [
    "Q4. bmi컬럼의 각 결측치들을 결측치를 가진 환자 나이대(10단위)의 평균 bmi 값으로 대체한 후 대체된 bmi 컬럼의 평균을 소숫점 이하 3자리 까지 구하여라"
   ]
  },
  {
   "cell_type": "code",
   "execution_count": 18,
   "id": "3bb052bc",
   "metadata": {},
   "outputs": [
    {
     "data": {
      "text/html": [
       "<div>\n",
       "<style scoped>\n",
       "    .dataframe tbody tr th:only-of-type {\n",
       "        vertical-align: middle;\n",
       "    }\n",
       "\n",
       "    .dataframe tbody tr th {\n",
       "        vertical-align: top;\n",
       "    }\n",
       "\n",
       "    .dataframe thead th {\n",
       "        text-align: right;\n",
       "    }\n",
       "</style>\n",
       "<table border=\"1\" class=\"dataframe\">\n",
       "  <thead>\n",
       "    <tr style=\"text-align: right;\">\n",
       "      <th></th>\n",
       "      <th>id</th>\n",
       "      <th>gender</th>\n",
       "      <th>age</th>\n",
       "      <th>hypertension</th>\n",
       "      <th>heart_disease</th>\n",
       "      <th>ever_married</th>\n",
       "      <th>work_type</th>\n",
       "      <th>Residence_type</th>\n",
       "      <th>avg_glucose_level</th>\n",
       "      <th>bmi</th>\n",
       "      <th>smoking_status</th>\n",
       "      <th>stroke</th>\n",
       "      <th>age_group</th>\n",
       "    </tr>\n",
       "  </thead>\n",
       "  <tbody>\n",
       "    <tr>\n",
       "      <th>0</th>\n",
       "      <td>1192</td>\n",
       "      <td>Female</td>\n",
       "      <td>31</td>\n",
       "      <td>0</td>\n",
       "      <td>0</td>\n",
       "      <td>No</td>\n",
       "      <td>Govt_job</td>\n",
       "      <td>Rural</td>\n",
       "      <td>70.66</td>\n",
       "      <td>27.2</td>\n",
       "      <td>never smoked</td>\n",
       "      <td>0</td>\n",
       "      <td>30</td>\n",
       "    </tr>\n",
       "    <tr>\n",
       "      <th>1</th>\n",
       "      <td>77</td>\n",
       "      <td>Female</td>\n",
       "      <td>13</td>\n",
       "      <td>0</td>\n",
       "      <td>0</td>\n",
       "      <td>No</td>\n",
       "      <td>children</td>\n",
       "      <td>Rural</td>\n",
       "      <td>85.81</td>\n",
       "      <td>18.6</td>\n",
       "      <td>Unknown</td>\n",
       "      <td>0</td>\n",
       "      <td>10</td>\n",
       "    </tr>\n",
       "    <tr>\n",
       "      <th>2</th>\n",
       "      <td>59200</td>\n",
       "      <td>Male</td>\n",
       "      <td>18</td>\n",
       "      <td>0</td>\n",
       "      <td>0</td>\n",
       "      <td>No</td>\n",
       "      <td>Private</td>\n",
       "      <td>Urban</td>\n",
       "      <td>60.56</td>\n",
       "      <td>33.0</td>\n",
       "      <td>never smoked</td>\n",
       "      <td>0</td>\n",
       "      <td>10</td>\n",
       "    </tr>\n",
       "    <tr>\n",
       "      <th>3</th>\n",
       "      <td>24905</td>\n",
       "      <td>Female</td>\n",
       "      <td>65</td>\n",
       "      <td>0</td>\n",
       "      <td>0</td>\n",
       "      <td>Yes</td>\n",
       "      <td>Private</td>\n",
       "      <td>Urban</td>\n",
       "      <td>205.77</td>\n",
       "      <td>46.0</td>\n",
       "      <td>formerly smoked</td>\n",
       "      <td>1</td>\n",
       "      <td>60</td>\n",
       "    </tr>\n",
       "    <tr>\n",
       "      <th>4</th>\n",
       "      <td>24257</td>\n",
       "      <td>Male</td>\n",
       "      <td>4</td>\n",
       "      <td>0</td>\n",
       "      <td>0</td>\n",
       "      <td>No</td>\n",
       "      <td>children</td>\n",
       "      <td>Rural</td>\n",
       "      <td>90.42</td>\n",
       "      <td>16.2</td>\n",
       "      <td>Unknown</td>\n",
       "      <td>0</td>\n",
       "      <td>0</td>\n",
       "    </tr>\n",
       "  </tbody>\n",
       "</table>\n",
       "</div>"
      ],
      "text/plain": [
       "      id  gender  age  hypertension  heart_disease ever_married work_type  \\\n",
       "0   1192  Female   31             0              0           No  Govt_job   \n",
       "1     77  Female   13             0              0           No  children   \n",
       "2  59200    Male   18             0              0           No   Private   \n",
       "3  24905  Female   65             0              0          Yes   Private   \n",
       "4  24257    Male    4             0              0           No  children   \n",
       "\n",
       "  Residence_type  avg_glucose_level   bmi   smoking_status  stroke  age_group  \n",
       "0          Rural              70.66  27.2     never smoked       0         30  \n",
       "1          Rural              85.81  18.6          Unknown       0         10  \n",
       "2          Urban              60.56  33.0     never smoked       0         10  \n",
       "3          Urban             205.77  46.0  formerly smoked       1         60  \n",
       "4          Rural              90.42  16.2          Unknown       0          0  "
      ]
     },
     "execution_count": 18,
     "metadata": {},
     "output_type": "execute_result"
    }
   ],
   "source": [
    "data['age_group'] = (data['age']/10).astype(int)*10\n",
    "data.head()"
   ]
  },
  {
   "cell_type": "code",
   "execution_count": 20,
   "id": "b67a55fa",
   "metadata": {},
   "outputs": [
    {
     "data": {
      "text/plain": [
       "{0, 10, 20, 30, 40, 50, 60, 70, 80}"
      ]
     },
     "execution_count": 20,
     "metadata": {},
     "output_type": "execute_result"
    }
   ],
   "source": [
    "set(data['age_group'].unique())"
   ]
  },
  {
   "cell_type": "code",
   "execution_count": 22,
   "id": "e203b007",
   "metadata": {},
   "outputs": [
    {
     "data": {
      "text/plain": [
       "{0: 18.960784313725487,\n",
       " 70: 30.447727272727274,\n",
       " 40: 31.427096774193554,\n",
       " 10: 24.47722772277227,\n",
       " 80: 28.566666666666666,\n",
       " 50: 31.894086021505373,\n",
       " 20: 28.05274725274725,\n",
       " 60: 31.615873015873017,\n",
       " 30: 31.751111111111108}"
      ]
     },
     "execution_count": 22,
     "metadata": {},
     "output_type": "execute_result"
    }
   ],
   "source": [
    "bmi_mean = {}\n",
    "for i in set(data['age_group'].unique()):\n",
    "    bmi_mean[i] = data[(data['age_group']==i) & (data['bmi'].notnull())]['bmi'].mean()\n",
    "bmi_mean"
   ]
  },
  {
   "cell_type": "code",
   "execution_count": 38,
   "id": "cdb9acda",
   "metadata": {},
   "outputs": [
    {
     "data": {
      "text/plain": [
       "Int64Index([], dtype='int64')"
      ]
     },
     "execution_count": 38,
     "metadata": {},
     "output_type": "execute_result"
    }
   ],
   "source": [
    "data[data.bmi.isnull()==True].index"
   ]
  },
  {
   "cell_type": "code",
   "execution_count": 36,
   "id": "a57d9269",
   "metadata": {},
   "outputs": [],
   "source": [
    "for index in data[data.bmi.isnull()==True].index:\n",
    "    data.loc[index, 'bmi'] = bmi_mean[data.iloc[index]['age_group']]"
   ]
  },
  {
   "cell_type": "code",
   "execution_count": 39,
   "id": "81bef9f4",
   "metadata": {},
   "outputs": [
    {
     "data": {
      "text/plain": [
       "29.263"
      ]
     },
     "execution_count": 39,
     "metadata": {},
     "output_type": "execute_result"
    }
   ],
   "source": [
    "round(data.bmi.mean(), 3)"
   ]
  },
  {
   "cell_type": "code",
   "execution_count": 40,
   "id": "ad2ae376",
   "metadata": {},
   "outputs": [],
   "source": [
    "# 답안 예시\n",
    "\n",
    "# import pandas as pd\n",
    "# df = pd.read_csv('https://raw.githubusercontent.com/Datamanim/datarepo/main/stroke_/train.csv')\n",
    "# # Noise 데이터 int형 변환\n",
    "# df['age'] = df['age'].str.replace('*','').astype('int')\n",
    "\n",
    "# # 결측치 제외 나이대별 평균값 계산 및 dictionary 형태로 변환\n",
    "# mean = df[df.bmi.notnull()].groupby(df.age//10 *10).bmi.mean()\n",
    "# dic = { x:y for x,y in mean.items()}\n",
    "\n",
    "\n",
    "# idx =df.loc[df.bmi.isnull(),['age','bmi']].index\n",
    "# # 결측치 매핑\n",
    "# df.loc[df.bmi.isnull(),'bmi']  =(df[df.bmi.isnull()].age//10*10).map(lambda x : dic[x])\n",
    "\n",
    "# result = df.bmi.mean()\n",
    "# print(result)"
   ]
  },
  {
   "cell_type": "markdown",
   "id": "f2131b6a",
   "metadata": {},
   "source": [
    "Q5. avg_glucose_level 컬럼의 값이 200이상인 데이터를 모두 199로 변경하고 stroke값이 1인 데이터의 avg_glucose_level값의 평균을 소수점이하 3자리 까지 구하여라"
   ]
  },
  {
   "cell_type": "code",
   "execution_count": 43,
   "id": "f6e602e1",
   "metadata": {},
   "outputs": [],
   "source": [
    "data.loc[data[data['avg_glucose_level']>=200].index, 'avg_glucose_level'] = 199"
   ]
  },
  {
   "cell_type": "code",
   "execution_count": 46,
   "id": "76a249b2",
   "metadata": {},
   "outputs": [
    {
     "data": {
      "text/plain": [
       "125.188"
      ]
     },
     "execution_count": 46,
     "metadata": {},
     "output_type": "execute_result"
    }
   ],
   "source": [
    "round(data[data.stroke==1]['avg_glucose_level'].mean(), 3)"
   ]
  },
  {
   "cell_type": "code",
   "execution_count": null,
   "id": "857f6004",
   "metadata": {},
   "outputs": [],
   "source": []
  }
 ],
 "metadata": {
  "kernelspec": {
   "display_name": "Python 3 (ipykernel)",
   "language": "python",
   "name": "python3"
  },
  "language_info": {
   "codemirror_mode": {
    "name": "ipython",
    "version": 3
   },
   "file_extension": ".py",
   "mimetype": "text/x-python",
   "name": "python",
   "nbconvert_exporter": "python",
   "pygments_lexer": "ipython3",
   "version": "3.8.13"
  }
 },
 "nbformat": 4,
 "nbformat_minor": 5
}
