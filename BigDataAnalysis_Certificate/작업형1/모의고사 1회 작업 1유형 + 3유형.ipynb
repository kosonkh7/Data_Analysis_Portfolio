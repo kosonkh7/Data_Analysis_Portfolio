{
 "cells": [
  {
   "cell_type": "markdown",
   "id": "e347e817",
   "metadata": {},
   "source": [
    "### 데이터 설명 : 은행의 전화 마케팅에 대해 고객의 반응 여부"
   ]
  },
  {
   "cell_type": "code",
   "execution_count": 4,
   "id": "7c816a92",
   "metadata": {},
   "outputs": [
    {
     "data": {
      "text/html": [
       "<div>\n",
       "<style scoped>\n",
       "    .dataframe tbody tr th:only-of-type {\n",
       "        vertical-align: middle;\n",
       "    }\n",
       "\n",
       "    .dataframe tbody tr th {\n",
       "        vertical-align: top;\n",
       "    }\n",
       "\n",
       "    .dataframe thead th {\n",
       "        text-align: right;\n",
       "    }\n",
       "</style>\n",
       "<table border=\"1\" class=\"dataframe\">\n",
       "  <thead>\n",
       "    <tr style=\"text-align: right;\">\n",
       "      <th></th>\n",
       "      <th>ID</th>\n",
       "      <th>age</th>\n",
       "      <th>job</th>\n",
       "      <th>marital</th>\n",
       "      <th>education</th>\n",
       "      <th>default</th>\n",
       "      <th>balance</th>\n",
       "      <th>housing</th>\n",
       "      <th>loan</th>\n",
       "      <th>contact</th>\n",
       "      <th>day</th>\n",
       "      <th>month</th>\n",
       "      <th>campaign</th>\n",
       "      <th>pdays</th>\n",
       "      <th>previous</th>\n",
       "      <th>poutcome</th>\n",
       "      <th>y</th>\n",
       "    </tr>\n",
       "  </thead>\n",
       "  <tbody>\n",
       "    <tr>\n",
       "      <th>0</th>\n",
       "      <td>13829</td>\n",
       "      <td>29</td>\n",
       "      <td>technician</td>\n",
       "      <td>single</td>\n",
       "      <td>tertiary</td>\n",
       "      <td>no</td>\n",
       "      <td>18254</td>\n",
       "      <td>no</td>\n",
       "      <td>no</td>\n",
       "      <td>cellular</td>\n",
       "      <td>11</td>\n",
       "      <td>may</td>\n",
       "      <td>2</td>\n",
       "      <td>-1</td>\n",
       "      <td>0</td>\n",
       "      <td>unknown</td>\n",
       "      <td>no</td>\n",
       "    </tr>\n",
       "    <tr>\n",
       "      <th>1</th>\n",
       "      <td>22677</td>\n",
       "      <td>26</td>\n",
       "      <td>services</td>\n",
       "      <td>single</td>\n",
       "      <td>secondary</td>\n",
       "      <td>no</td>\n",
       "      <td>512</td>\n",
       "      <td>yes</td>\n",
       "      <td>yes</td>\n",
       "      <td>unknown</td>\n",
       "      <td>5</td>\n",
       "      <td>jun</td>\n",
       "      <td>3</td>\n",
       "      <td>-1</td>\n",
       "      <td>0</td>\n",
       "      <td>unknown</td>\n",
       "      <td>no</td>\n",
       "    </tr>\n",
       "    <tr>\n",
       "      <th>2</th>\n",
       "      <td>10541</td>\n",
       "      <td>30</td>\n",
       "      <td>management</td>\n",
       "      <td>single</td>\n",
       "      <td>secondary</td>\n",
       "      <td>no</td>\n",
       "      <td>135</td>\n",
       "      <td>no</td>\n",
       "      <td>no</td>\n",
       "      <td>cellular</td>\n",
       "      <td>14</td>\n",
       "      <td>aug</td>\n",
       "      <td>2</td>\n",
       "      <td>-1</td>\n",
       "      <td>0</td>\n",
       "      <td>unknown</td>\n",
       "      <td>no</td>\n",
       "    </tr>\n",
       "    <tr>\n",
       "      <th>3</th>\n",
       "      <td>13689</td>\n",
       "      <td>41</td>\n",
       "      <td>technician</td>\n",
       "      <td>married</td>\n",
       "      <td>unknown</td>\n",
       "      <td>no</td>\n",
       "      <td>30</td>\n",
       "      <td>yes</td>\n",
       "      <td>no</td>\n",
       "      <td>cellular</td>\n",
       "      <td>10</td>\n",
       "      <td>jul</td>\n",
       "      <td>1</td>\n",
       "      <td>-1</td>\n",
       "      <td>0</td>\n",
       "      <td>unknown</td>\n",
       "      <td>no</td>\n",
       "    </tr>\n",
       "    <tr>\n",
       "      <th>4</th>\n",
       "      <td>11304</td>\n",
       "      <td>27</td>\n",
       "      <td>admin.</td>\n",
       "      <td>single</td>\n",
       "      <td>secondary</td>\n",
       "      <td>no</td>\n",
       "      <td>321</td>\n",
       "      <td>no</td>\n",
       "      <td>yes</td>\n",
       "      <td>unknown</td>\n",
       "      <td>2</td>\n",
       "      <td>sep</td>\n",
       "      <td>1</td>\n",
       "      <td>-1</td>\n",
       "      <td>0</td>\n",
       "      <td>unknown</td>\n",
       "      <td>no</td>\n",
       "    </tr>\n",
       "  </tbody>\n",
       "</table>\n",
       "</div>"
      ],
      "text/plain": [
       "      ID  age         job  marital  education default  balance housing loan  \\\n",
       "0  13829   29  technician   single   tertiary      no    18254      no   no   \n",
       "1  22677   26    services   single  secondary      no      512     yes  yes   \n",
       "2  10541   30  management   single  secondary      no      135      no   no   \n",
       "3  13689   41  technician  married    unknown      no       30     yes   no   \n",
       "4  11304   27      admin.   single  secondary      no      321      no  yes   \n",
       "\n",
       "    contact  day month  campaign  pdays  previous poutcome   y  \n",
       "0  cellular   11   may         2     -1         0  unknown  no  \n",
       "1   unknown    5   jun         3     -1         0  unknown  no  \n",
       "2  cellular   14   aug         2     -1         0  unknown  no  \n",
       "3  cellular   10   jul         1     -1         0  unknown  no  \n",
       "4   unknown    2   sep         1     -1         0  unknown  no  "
      ]
     },
     "execution_count": 4,
     "metadata": {},
     "output_type": "execute_result"
    }
   ],
   "source": [
    "import pandas as pd\n",
    "data1 = pd.read_csv('https://raw.githubusercontent.com/Datamanim/datarepo/main/bank/train.csv')\n",
    "data1.head()"
   ]
  },
  {
   "cell_type": "markdown",
   "id": "7c1a0456",
   "metadata": {},
   "source": [
    "Q1. 마케팅 응답 고객들의 나이를 10살 단위로 변환 했을 때, 가장 많은 인원을 가진 나이대는? (0-9 : 0, 10-19 : 10)"
   ]
  },
  {
   "cell_type": "code",
   "execution_count": 12,
   "id": "6549285f",
   "metadata": {},
   "outputs": [
    {
     "data": {
      "text/plain": [
       "0        2\n",
       "1        2\n",
       "2        3\n",
       "3        4\n",
       "4        2\n",
       "        ..\n",
       "12865    4\n",
       "12866    3\n",
       "12867    3\n",
       "12868    4\n",
       "12869    2\n",
       "Name: age_, Length: 12870, dtype: int64"
      ]
     },
     "execution_count": 12,
     "metadata": {},
     "output_type": "execute_result"
    }
   ],
   "source": [
    "# import math, math.floor() 사용?\n",
    "\n",
    "data1['age_'] = data1['age'] // 10\n",
    "data1['age_']"
   ]
  },
  {
   "cell_type": "code",
   "execution_count": 10,
   "id": "101d94b7",
   "metadata": {},
   "outputs": [
    {
     "data": {
      "text/plain": [
       "3    5056\n",
       "4    3198\n",
       "5    2244\n",
       "2    1638\n",
       "6     460\n",
       "7     193\n",
       "8      57\n",
       "1      18\n",
       "9       6\n",
       "Name: age_, dtype: int64"
      ]
     },
     "execution_count": 10,
     "metadata": {},
     "output_type": "execute_result"
    }
   ],
   "source": [
    "data1['age_'].value_counts()"
   ]
  },
  {
   "cell_type": "code",
   "execution_count": 11,
   "id": "a81f351b",
   "metadata": {},
   "outputs": [
    {
     "name": "stdout",
     "output_type": "stream",
     "text": [
      "30\n"
     ]
    }
   ],
   "source": [
    "print(30)"
   ]
  },
  {
   "cell_type": "markdown",
   "id": "347b27e9",
   "metadata": {},
   "source": [
    "Q2. 마케팅 응답 고객들의 나이를 10살 단위로 변환 했을 때, 가장 많은 나이대 구간의 인원은 몇명인가?"
   ]
  },
  {
   "cell_type": "code",
   "execution_count": 14,
   "id": "1d27443c",
   "metadata": {},
   "outputs": [
    {
     "name": "stdout",
     "output_type": "stream",
     "text": [
      "5056\n"
     ]
    }
   ],
   "source": [
    "print(5056)"
   ]
  },
  {
   "cell_type": "markdown",
   "id": "0c1b6f07",
   "metadata": {},
   "source": [
    "Q3. 나이가 25살 이상 29살 미만인 응답 고객들중 housing컬럼의 값이 yes인 고객의 수는?"
   ]
  },
  {
   "cell_type": "code",
   "execution_count": 17,
   "id": "64845755",
   "metadata": {},
   "outputs": [
    {
     "data": {
      "text/plain": [
       "504"
      ]
     },
     "execution_count": 17,
     "metadata": {},
     "output_type": "execute_result"
    }
   ],
   "source": [
    "len(data1[(data1['age']>=25) & (data1['age']<29) & (data1['housing']=='yes')])"
   ]
  },
  {
   "cell_type": "markdown",
   "id": "39da6f38",
   "metadata": {},
   "source": [
    "Q4. numeric한 값을 가지지 않은 컬럼들중 unique한 값을 가장 많이 가지는 컬럼은?"
   ]
  },
  {
   "cell_type": "code",
   "execution_count": 22,
   "id": "120e32b0",
   "metadata": {},
   "outputs": [
    {
     "data": {
      "text/plain": [
       "job          12\n",
       "marital       3\n",
       "education     4\n",
       "default       2\n",
       "housing       2\n",
       "loan          2\n",
       "contact       3\n",
       "month        12\n",
       "poutcome      4\n",
       "y             2\n",
       "dtype: int64"
      ]
     },
     "execution_count": 22,
     "metadata": {},
     "output_type": "execute_result"
    }
   ],
   "source": [
    "condition = data1.columns[data1.dtypes =='object']\n",
    "data1[condition].nunique()"
   ]
  },
  {
   "cell_type": "code",
   "execution_count": 24,
   "id": "97e8f421",
   "metadata": {},
   "outputs": [
    {
     "name": "stdout",
     "output_type": "stream",
     "text": [
      "job month\n"
     ]
    }
   ],
   "source": [
    "print('job', 'month')"
   ]
  },
  {
   "cell_type": "code",
   "execution_count": 31,
   "id": "3534df97",
   "metadata": {},
   "outputs": [
    {
     "data": {
      "text/plain": [
       "job          12\n",
       "marital       3\n",
       "education     4\n",
       "default       2\n",
       "housing       2\n",
       "loan          2\n",
       "contact       3\n",
       "month        12\n",
       "poutcome      4\n",
       "y             2\n",
       "dtype: int64"
      ]
     },
     "execution_count": 31,
     "metadata": {},
     "output_type": "execute_result"
    }
   ],
   "source": [
    "# 다른 풀이\n",
    "data1.select_dtypes(include='object').nunique()"
   ]
  },
  {
   "cell_type": "markdown",
   "id": "156da72e",
   "metadata": {},
   "source": [
    "Q5. balance 컬럼값들의 평균값 이상을 가지는 데이터를 ID값을 기준으로 내림차순 정렬했을때 상위 100개 데이터의 balance값의 평균은?"
   ]
  },
  {
   "cell_type": "code",
   "execution_count": 39,
   "id": "79e78959",
   "metadata": {},
   "outputs": [
    {
     "data": {
      "text/plain": [
       "3473.73"
      ]
     },
     "execution_count": 39,
     "metadata": {},
     "output_type": "execute_result"
    }
   ],
   "source": [
    "data1[data1['balance']>=data1['balance'].mean()].sort_values(by=['ID'], ascending=False)[:100].balance.mean()"
   ]
  },
  {
   "cell_type": "markdown",
   "id": "b3a25906",
   "metadata": {},
   "source": [
    "Q6. 가장 많은 광고를 집행했던 날짜는 언제인가? (데이터 그대로 일(숫자),달(영문)으로 표기)"
   ]
  },
  {
   "cell_type": "code",
   "execution_count": 47,
   "id": "dd6506dd",
   "metadata": {},
   "outputs": [
    {
     "data": {
      "text/plain": [
       "day  month\n",
       "15   may      301\n",
       "14   may      283\n",
       "13   may      257\n",
       "7    may      239\n",
       "21   nov      221\n",
       "             ... \n",
       "4    oct        1\n",
       "30   dec        1\n",
       "     aug        1\n",
       "19   mar        1\n",
       "21   jun        1\n",
       "Length: 303, dtype: int64"
      ]
     },
     "execution_count": 47,
     "metadata": {},
     "output_type": "execute_result"
    }
   ],
   "source": [
    "data1.groupby(['day', 'month']).size().sort_values(ascending=False)"
   ]
  },
  {
   "cell_type": "code",
   "execution_count": 48,
   "id": "94f5bc89",
   "metadata": {},
   "outputs": [
    {
     "data": {
      "text/plain": [
       "(15, 'may')"
      ]
     },
     "execution_count": 48,
     "metadata": {},
     "output_type": "execute_result"
    }
   ],
   "source": [
    "data1.groupby(['day', 'month']).size().sort_values(ascending=False).index[0]"
   ]
  },
  {
   "cell_type": "markdown",
   "id": "6e351f50",
   "metadata": {},
   "source": [
    "Q7. 데이터의 job이 unknown 상태인 고객들의 age 컬럼 값의 정규성을 검정하고자 한다. 샤피로 검정의 p-value값을 구하여라"
   ]
  },
  {
   "cell_type": "code",
   "execution_count": 52,
   "id": "1aaac346",
   "metadata": {},
   "outputs": [
    {
     "data": {
      "text/plain": [
       "ShapiroResult(statistic=0.9784722924232483, pvalue=0.19612720608711243)"
      ]
     },
     "execution_count": 52,
     "metadata": {},
     "output_type": "execute_result"
    }
   ],
   "source": [
    "from scipy.stats import shapiro\n",
    "\n",
    "shapiro(data1[data1.job=='unknown'].age)"
   ]
  },
  {
   "cell_type": "markdown",
   "id": "e0731518",
   "metadata": {},
   "source": [
    "Q8. age와 balance의 상관계수를 구하여라 "
   ]
  },
  {
   "cell_type": "code",
   "execution_count": 54,
   "id": "2667aa3d",
   "metadata": {},
   "outputs": [
    {
     "data": {
      "text/html": [
       "<div>\n",
       "<style scoped>\n",
       "    .dataframe tbody tr th:only-of-type {\n",
       "        vertical-align: middle;\n",
       "    }\n",
       "\n",
       "    .dataframe tbody tr th {\n",
       "        vertical-align: top;\n",
       "    }\n",
       "\n",
       "    .dataframe thead th {\n",
       "        text-align: right;\n",
       "    }\n",
       "</style>\n",
       "<table border=\"1\" class=\"dataframe\">\n",
       "  <thead>\n",
       "    <tr style=\"text-align: right;\">\n",
       "      <th></th>\n",
       "      <th>age</th>\n",
       "      <th>balance</th>\n",
       "    </tr>\n",
       "  </thead>\n",
       "  <tbody>\n",
       "    <tr>\n",
       "      <th>age</th>\n",
       "      <td>1.000000</td>\n",
       "      <td>0.101987</td>\n",
       "    </tr>\n",
       "    <tr>\n",
       "      <th>balance</th>\n",
       "      <td>0.101987</td>\n",
       "      <td>1.000000</td>\n",
       "    </tr>\n",
       "  </tbody>\n",
       "</table>\n",
       "</div>"
      ],
      "text/plain": [
       "              age   balance\n",
       "age      1.000000  0.101987\n",
       "balance  0.101987  1.000000"
      ]
     },
     "execution_count": 54,
     "metadata": {},
     "output_type": "execute_result"
    }
   ],
   "source": [
    "data1[['age', 'balance']].corr()"
   ]
  },
  {
   "cell_type": "code",
   "execution_count": 56,
   "id": "57443f08",
   "metadata": {},
   "outputs": [
    {
     "data": {
      "text/plain": [
       "0.10198734763981462"
      ]
     },
     "execution_count": 56,
     "metadata": {},
     "output_type": "execute_result"
    }
   ],
   "source": [
    "data1[['age', 'balance']].corr().iloc[1, 0]"
   ]
  },
  {
   "cell_type": "markdown",
   "id": "9482d72e",
   "metadata": {},
   "source": [
    "Q9. y 변수와 education 변수는 독립인지 카이제곱검정을 통해 확인하려한다. p-value값을 출력하라"
   ]
  },
  {
   "cell_type": "code",
   "execution_count": 57,
   "id": "02dca3d4",
   "metadata": {},
   "outputs": [],
   "source": [
    "from scipy.stats import chi2_contingency"
   ]
  },
  {
   "cell_type": "code",
   "execution_count": 63,
   "id": "873f0bec",
   "metadata": {},
   "outputs": [
    {
     "data": {
      "text/html": [
       "<div>\n",
       "<style scoped>\n",
       "    .dataframe tbody tr th:only-of-type {\n",
       "        vertical-align: middle;\n",
       "    }\n",
       "\n",
       "    .dataframe tbody tr th {\n",
       "        vertical-align: top;\n",
       "    }\n",
       "\n",
       "    .dataframe thead th {\n",
       "        text-align: right;\n",
       "    }\n",
       "</style>\n",
       "<table border=\"1\" class=\"dataframe\">\n",
       "  <thead>\n",
       "    <tr style=\"text-align: right;\">\n",
       "      <th>education</th>\n",
       "      <th>primary</th>\n",
       "      <th>secondary</th>\n",
       "      <th>tertiary</th>\n",
       "      <th>unknown</th>\n",
       "    </tr>\n",
       "    <tr>\n",
       "      <th>y</th>\n",
       "      <th></th>\n",
       "      <th></th>\n",
       "      <th></th>\n",
       "      <th></th>\n",
       "    </tr>\n",
       "  </thead>\n",
       "  <tbody>\n",
       "    <tr>\n",
       "      <th>no</th>\n",
       "      <td>1424</td>\n",
       "      <td>4555</td>\n",
       "      <td>2559</td>\n",
       "      <td>365</td>\n",
       "    </tr>\n",
       "    <tr>\n",
       "      <th>yes</th>\n",
       "      <td>456</td>\n",
       "      <td>1813</td>\n",
       "      <td>1516</td>\n",
       "      <td>182</td>\n",
       "    </tr>\n",
       "  </tbody>\n",
       "</table>\n",
       "</div>"
      ],
      "text/plain": [
       "education  primary  secondary  tertiary  unknown\n",
       "y                                               \n",
       "no            1424       4555      2559      365\n",
       "yes            456       1813      1516      182"
      ]
     },
     "execution_count": 63,
     "metadata": {},
     "output_type": "execute_result"
    }
   ],
   "source": [
    "table = pd.crosstab(data1.y, data1.education)\n",
    "table"
   ]
  },
  {
   "cell_type": "code",
   "execution_count": 64,
   "id": "8d8d9334",
   "metadata": {},
   "outputs": [
    {
     "name": "stdout",
     "output_type": "stream",
     "text": [
      "(133.87601246919445, 7.901201277473551e-29, 3, array([[1300.51592852, 4405.15182595, 2818.93745144,  378.39479409],\n",
      "       [ 579.48407148, 1962.84817405, 1256.06254856,  168.60520591]]))\n"
     ]
    }
   ],
   "source": [
    "print(chi2_contingency(table))"
   ]
  },
  {
   "cell_type": "code",
   "execution_count": 65,
   "id": "ff2edde9",
   "metadata": {},
   "outputs": [
    {
     "data": {
      "text/plain": [
       "7.901201277473551e-29"
      ]
     },
     "execution_count": 65,
     "metadata": {},
     "output_type": "execute_result"
    }
   ],
   "source": [
    "statistics, pvalue, ddof, ef = chi2_contingency(table)\n",
    "pvalue"
   ]
  },
  {
   "cell_type": "markdown",
   "id": "a10ddc34",
   "metadata": {},
   "source": [
    "Q10. 각 job에 따라 divorced/married 인원의 비율을 확인 했을 때 그 값이 가장 높은 값은?"
   ]
  },
  {
   "cell_type": "code",
   "execution_count": 77,
   "id": "29451536",
   "metadata": {},
   "outputs": [
    {
     "data": {
      "text/plain": [
       "job            marital \n",
       "admin.         divorced     207\n",
       "               married      762\n",
       "               single       495\n",
       "blue-collar    divorced     205\n",
       "               married     1775\n",
       "               single       591\n",
       "entrepreneur   divorced      44\n",
       "               married      272\n",
       "               single        67\n",
       "housemaid      divorced      49\n",
       "               married      245\n",
       "               single        40\n",
       "management     divorced     323\n",
       "               married     1580\n",
       "               single       955\n",
       "retired        divorced     157\n",
       "               married      572\n",
       "               single        41\n",
       "self-employed  divorced      39\n",
       "               married      284\n",
       "               single       131\n",
       "services       divorced     138\n",
       "               married      584\n",
       "               single       321\n",
       "student        married       24\n",
       "               single       334\n",
       "technician     divorced     246\n",
       "               married     1115\n",
       "               single       780\n",
       "unemployed     divorced      62\n",
       "               married      219\n",
       "               single       133\n",
       "unknown        divorced       5\n",
       "               married       58\n",
       "               single        17\n",
       "dtype: int64"
      ]
     },
     "execution_count": 77,
     "metadata": {},
     "output_type": "execute_result"
    }
   ],
   "source": [
    "data1.groupby(['job', 'marital']).size()"
   ]
  },
  {
   "cell_type": "code",
   "execution_count": 82,
   "id": "4b2f53dd",
   "metadata": {},
   "outputs": [
    {
     "data": {
      "text/plain": [
       "job            marital \n",
       "admin.         divorced     207\n",
       "               married      762\n",
       "blue-collar    divorced     205\n",
       "               married     1775\n",
       "entrepreneur   divorced      44\n",
       "               married      272\n",
       "housemaid      divorced      49\n",
       "               married      245\n",
       "management     divorced     323\n",
       "               married     1580\n",
       "retired        divorced     157\n",
       "               married      572\n",
       "self-employed  divorced      39\n",
       "               married      284\n",
       "services       divorced     138\n",
       "               married      584\n",
       "student        married       24\n",
       "technician     divorced     246\n",
       "               married     1115\n",
       "unemployed     divorced      62\n",
       "               married      219\n",
       "unknown        divorced       5\n",
       "               married       58\n",
       "dtype: int64"
      ]
     },
     "execution_count": 82,
     "metadata": {},
     "output_type": "execute_result"
    }
   ],
   "source": [
    "data1[(data1.marital=='divorced') | (data1.marital=='married')].groupby(['job', 'marital']).size()"
   ]
  },
  {
   "cell_type": "code",
   "execution_count": 86,
   "id": "b3174330",
   "metadata": {},
   "outputs": [
    {
     "data": {
      "text/html": [
       "<div>\n",
       "<style scoped>\n",
       "    .dataframe tbody tr th:only-of-type {\n",
       "        vertical-align: middle;\n",
       "    }\n",
       "\n",
       "    .dataframe tbody tr th {\n",
       "        vertical-align: top;\n",
       "    }\n",
       "\n",
       "    .dataframe thead th {\n",
       "        text-align: right;\n",
       "    }\n",
       "</style>\n",
       "<table border=\"1\" class=\"dataframe\">\n",
       "  <thead>\n",
       "    <tr style=\"text-align: right;\">\n",
       "      <th>marital</th>\n",
       "      <th>divorced</th>\n",
       "      <th>married</th>\n",
       "      <th>single</th>\n",
       "    </tr>\n",
       "    <tr>\n",
       "      <th>job</th>\n",
       "      <th></th>\n",
       "      <th></th>\n",
       "      <th></th>\n",
       "    </tr>\n",
       "  </thead>\n",
       "  <tbody>\n",
       "    <tr>\n",
       "      <th>admin.</th>\n",
       "      <td>207.0</td>\n",
       "      <td>762.0</td>\n",
       "      <td>495.0</td>\n",
       "    </tr>\n",
       "    <tr>\n",
       "      <th>blue-collar</th>\n",
       "      <td>205.0</td>\n",
       "      <td>1775.0</td>\n",
       "      <td>591.0</td>\n",
       "    </tr>\n",
       "    <tr>\n",
       "      <th>entrepreneur</th>\n",
       "      <td>44.0</td>\n",
       "      <td>272.0</td>\n",
       "      <td>67.0</td>\n",
       "    </tr>\n",
       "    <tr>\n",
       "      <th>housemaid</th>\n",
       "      <td>49.0</td>\n",
       "      <td>245.0</td>\n",
       "      <td>40.0</td>\n",
       "    </tr>\n",
       "    <tr>\n",
       "      <th>management</th>\n",
       "      <td>323.0</td>\n",
       "      <td>1580.0</td>\n",
       "      <td>955.0</td>\n",
       "    </tr>\n",
       "    <tr>\n",
       "      <th>retired</th>\n",
       "      <td>157.0</td>\n",
       "      <td>572.0</td>\n",
       "      <td>41.0</td>\n",
       "    </tr>\n",
       "    <tr>\n",
       "      <th>self-employed</th>\n",
       "      <td>39.0</td>\n",
       "      <td>284.0</td>\n",
       "      <td>131.0</td>\n",
       "    </tr>\n",
       "    <tr>\n",
       "      <th>services</th>\n",
       "      <td>138.0</td>\n",
       "      <td>584.0</td>\n",
       "      <td>321.0</td>\n",
       "    </tr>\n",
       "    <tr>\n",
       "      <th>student</th>\n",
       "      <td>NaN</td>\n",
       "      <td>24.0</td>\n",
       "      <td>334.0</td>\n",
       "    </tr>\n",
       "    <tr>\n",
       "      <th>technician</th>\n",
       "      <td>246.0</td>\n",
       "      <td>1115.0</td>\n",
       "      <td>780.0</td>\n",
       "    </tr>\n",
       "    <tr>\n",
       "      <th>unemployed</th>\n",
       "      <td>62.0</td>\n",
       "      <td>219.0</td>\n",
       "      <td>133.0</td>\n",
       "    </tr>\n",
       "    <tr>\n",
       "      <th>unknown</th>\n",
       "      <td>5.0</td>\n",
       "      <td>58.0</td>\n",
       "      <td>17.0</td>\n",
       "    </tr>\n",
       "  </tbody>\n",
       "</table>\n",
       "</div>"
      ],
      "text/plain": [
       "marital        divorced  married  single\n",
       "job                                     \n",
       "admin.            207.0    762.0   495.0\n",
       "blue-collar       205.0   1775.0   591.0\n",
       "entrepreneur       44.0    272.0    67.0\n",
       "housemaid          49.0    245.0    40.0\n",
       "management        323.0   1580.0   955.0\n",
       "retired           157.0    572.0    41.0\n",
       "self-employed      39.0    284.0   131.0\n",
       "services          138.0    584.0   321.0\n",
       "student             NaN     24.0   334.0\n",
       "technician        246.0   1115.0   780.0\n",
       "unemployed         62.0    219.0   133.0\n",
       "unknown             5.0     58.0    17.0"
      ]
     },
     "execution_count": 86,
     "metadata": {},
     "output_type": "execute_result"
    }
   ],
   "source": [
    "# 일일이 나누거나, 반복문을 짤 수도 있었지만, 답안 예시를 참고해보자\n",
    "\n",
    "t = data1.groupby(['job','marital']).size().reset_index()\n",
    "pivotdf = t.pivot_table(index='job',columns='marital')[0]\n",
    "pivotdf"
   ]
  },
  {
   "cell_type": "code",
   "execution_count": 89,
   "id": "84b14a8d",
   "metadata": {},
   "outputs": [
    {
     "data": {
      "text/html": [
       "<div>\n",
       "<style scoped>\n",
       "    .dataframe tbody tr th:only-of-type {\n",
       "        vertical-align: middle;\n",
       "    }\n",
       "\n",
       "    .dataframe tbody tr th {\n",
       "        vertical-align: top;\n",
       "    }\n",
       "\n",
       "    .dataframe thead th {\n",
       "        text-align: right;\n",
       "    }\n",
       "</style>\n",
       "<table border=\"1\" class=\"dataframe\">\n",
       "  <thead>\n",
       "    <tr style=\"text-align: right;\">\n",
       "      <th>marital</th>\n",
       "      <th>divorced</th>\n",
       "      <th>married</th>\n",
       "      <th>single</th>\n",
       "      <th>ratio</th>\n",
       "    </tr>\n",
       "    <tr>\n",
       "      <th>job</th>\n",
       "      <th></th>\n",
       "      <th></th>\n",
       "      <th></th>\n",
       "      <th></th>\n",
       "    </tr>\n",
       "  </thead>\n",
       "  <tbody>\n",
       "    <tr>\n",
       "      <th>unemployed</th>\n",
       "      <td>62.0</td>\n",
       "      <td>219.0</td>\n",
       "      <td>133.0</td>\n",
       "      <td>0.283105</td>\n",
       "    </tr>\n",
       "    <tr>\n",
       "      <th>retired</th>\n",
       "      <td>157.0</td>\n",
       "      <td>572.0</td>\n",
       "      <td>41.0</td>\n",
       "      <td>0.274476</td>\n",
       "    </tr>\n",
       "    <tr>\n",
       "      <th>admin.</th>\n",
       "      <td>207.0</td>\n",
       "      <td>762.0</td>\n",
       "      <td>495.0</td>\n",
       "      <td>0.271654</td>\n",
       "    </tr>\n",
       "    <tr>\n",
       "      <th>services</th>\n",
       "      <td>138.0</td>\n",
       "      <td>584.0</td>\n",
       "      <td>321.0</td>\n",
       "      <td>0.236301</td>\n",
       "    </tr>\n",
       "    <tr>\n",
       "      <th>technician</th>\n",
       "      <td>246.0</td>\n",
       "      <td>1115.0</td>\n",
       "      <td>780.0</td>\n",
       "      <td>0.220628</td>\n",
       "    </tr>\n",
       "    <tr>\n",
       "      <th>management</th>\n",
       "      <td>323.0</td>\n",
       "      <td>1580.0</td>\n",
       "      <td>955.0</td>\n",
       "      <td>0.204430</td>\n",
       "    </tr>\n",
       "    <tr>\n",
       "      <th>housemaid</th>\n",
       "      <td>49.0</td>\n",
       "      <td>245.0</td>\n",
       "      <td>40.0</td>\n",
       "      <td>0.200000</td>\n",
       "    </tr>\n",
       "    <tr>\n",
       "      <th>entrepreneur</th>\n",
       "      <td>44.0</td>\n",
       "      <td>272.0</td>\n",
       "      <td>67.0</td>\n",
       "      <td>0.161765</td>\n",
       "    </tr>\n",
       "    <tr>\n",
       "      <th>self-employed</th>\n",
       "      <td>39.0</td>\n",
       "      <td>284.0</td>\n",
       "      <td>131.0</td>\n",
       "      <td>0.137324</td>\n",
       "    </tr>\n",
       "    <tr>\n",
       "      <th>blue-collar</th>\n",
       "      <td>205.0</td>\n",
       "      <td>1775.0</td>\n",
       "      <td>591.0</td>\n",
       "      <td>0.115493</td>\n",
       "    </tr>\n",
       "    <tr>\n",
       "      <th>unknown</th>\n",
       "      <td>5.0</td>\n",
       "      <td>58.0</td>\n",
       "      <td>17.0</td>\n",
       "      <td>0.086207</td>\n",
       "    </tr>\n",
       "    <tr>\n",
       "      <th>student</th>\n",
       "      <td>0.0</td>\n",
       "      <td>24.0</td>\n",
       "      <td>334.0</td>\n",
       "      <td>0.000000</td>\n",
       "    </tr>\n",
       "  </tbody>\n",
       "</table>\n",
       "</div>"
      ],
      "text/plain": [
       "marital        divorced  married  single     ratio\n",
       "job                                               \n",
       "unemployed         62.0    219.0   133.0  0.283105\n",
       "retired           157.0    572.0    41.0  0.274476\n",
       "admin.            207.0    762.0   495.0  0.271654\n",
       "services          138.0    584.0   321.0  0.236301\n",
       "technician        246.0   1115.0   780.0  0.220628\n",
       "management        323.0   1580.0   955.0  0.204430\n",
       "housemaid          49.0    245.0    40.0  0.200000\n",
       "entrepreneur       44.0    272.0    67.0  0.161765\n",
       "self-employed      39.0    284.0   131.0  0.137324\n",
       "blue-collar       205.0   1775.0   591.0  0.115493\n",
       "unknown             5.0     58.0    17.0  0.086207\n",
       "student             0.0     24.0   334.0  0.000000"
      ]
     },
     "execution_count": 89,
     "metadata": {},
     "output_type": "execute_result"
    }
   ],
   "source": [
    "pivotdf = pivotdf.fillna(0)\n",
    "pivotdf['ratio'] = pivotdf['divorced'] / pivotdf['married']\n",
    "\n",
    "pivotdf.sort_values('ratio', ascending=False)"
   ]
  },
  {
   "cell_type": "code",
   "execution_count": 90,
   "id": "c296e420",
   "metadata": {},
   "outputs": [
    {
     "name": "stdout",
     "output_type": "stream",
     "text": [
      "0.2831050228310502\n"
     ]
    }
   ],
   "source": [
    "pivotdf.sort_values('ratio')\n",
    "\n",
    "result = pivotdf.sort_values('ratio').ratio.values[-1]\n",
    "print(result)"
   ]
  },
  {
   "cell_type": "code",
   "execution_count": null,
   "id": "acba4957",
   "metadata": {},
   "outputs": [],
   "source": []
  },
  {
   "cell_type": "code",
   "execution_count": null,
   "id": "1ed54159",
   "metadata": {},
   "outputs": [],
   "source": []
  }
 ],
 "metadata": {
  "kernelspec": {
   "display_name": "Python 3 (ipykernel)",
   "language": "python",
   "name": "python3"
  },
  "language_info": {
   "codemirror_mode": {
    "name": "ipython",
    "version": 3
   },
   "file_extension": ".py",
   "mimetype": "text/x-python",
   "name": "python",
   "nbconvert_exporter": "python",
   "pygments_lexer": "ipython3",
   "version": "3.8.13"
  }
 },
 "nbformat": 4,
 "nbformat_minor": 5
}
