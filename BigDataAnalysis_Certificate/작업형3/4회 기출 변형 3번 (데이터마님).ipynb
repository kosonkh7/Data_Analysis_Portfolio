{
 "cells": [
  {
   "cell_type": "markdown",
   "id": "d15b91ec",
   "metadata": {},
   "source": [
    "# 카이제곱 독립성 검정 chi_contingency"
   ]
  },
  {
   "cell_type": "markdown",
   "id": "c054622a",
   "metadata": {},
   "source": [
    "# 3-1\n",
    "어느 대학교의 신입생의 학과별 성별에 대한 데이터이다.\n",
    "\n",
    "이 데이터를 바탕으로, 학생들의 학과와 성별이 서로 독립적인지 여부를 확인하기 위해 카이제곱 독립성 검정을 실시 하려한다."
   ]
  },
  {
   "cell_type": "code",
   "execution_count": 1,
   "id": "ba98d550",
   "metadata": {},
   "outputs": [
    {
     "data": {
      "text/html": [
       "<div>\n",
       "<style scoped>\n",
       "    .dataframe tbody tr th:only-of-type {\n",
       "        vertical-align: middle;\n",
       "    }\n",
       "\n",
       "    .dataframe tbody tr th {\n",
       "        vertical-align: top;\n",
       "    }\n",
       "\n",
       "    .dataframe thead th {\n",
       "        text-align: right;\n",
       "    }\n",
       "</style>\n",
       "<table border=\"1\" class=\"dataframe\">\n",
       "  <thead>\n",
       "    <tr style=\"text-align: right;\">\n",
       "      <th></th>\n",
       "      <th>학번</th>\n",
       "      <th>학과</th>\n",
       "      <th>성별</th>\n",
       "    </tr>\n",
       "  </thead>\n",
       "  <tbody>\n",
       "    <tr>\n",
       "      <th>0</th>\n",
       "      <td>DFSKJK_1</td>\n",
       "      <td>경영학과</td>\n",
       "      <td>여</td>\n",
       "    </tr>\n",
       "    <tr>\n",
       "      <th>1</th>\n",
       "      <td>DFSKJK_2</td>\n",
       "      <td>사회학과</td>\n",
       "      <td>여</td>\n",
       "    </tr>\n",
       "    <tr>\n",
       "      <th>2</th>\n",
       "      <td>DFSKJK_3</td>\n",
       "      <td>기계공학과</td>\n",
       "      <td>여</td>\n",
       "    </tr>\n",
       "    <tr>\n",
       "      <th>3</th>\n",
       "      <td>DFSKJK_4</td>\n",
       "      <td>경제학과</td>\n",
       "      <td>남</td>\n",
       "    </tr>\n",
       "    <tr>\n",
       "      <th>4</th>\n",
       "      <td>DFSKJK_5</td>\n",
       "      <td>기계공학과</td>\n",
       "      <td>여</td>\n",
       "    </tr>\n",
       "    <tr>\n",
       "      <th>...</th>\n",
       "      <td>...</td>\n",
       "      <td>...</td>\n",
       "      <td>...</td>\n",
       "    </tr>\n",
       "    <tr>\n",
       "      <th>1017</th>\n",
       "      <td>DFSKJK_1018</td>\n",
       "      <td>사회학과</td>\n",
       "      <td>여</td>\n",
       "    </tr>\n",
       "    <tr>\n",
       "      <th>1018</th>\n",
       "      <td>DFSKJK_1019</td>\n",
       "      <td>기계공학과</td>\n",
       "      <td>여</td>\n",
       "    </tr>\n",
       "    <tr>\n",
       "      <th>1019</th>\n",
       "      <td>DFSKJK_1020</td>\n",
       "      <td>경제학과</td>\n",
       "      <td>여</td>\n",
       "    </tr>\n",
       "    <tr>\n",
       "      <th>1020</th>\n",
       "      <td>DFSKJK_1021</td>\n",
       "      <td>경영학과</td>\n",
       "      <td>남</td>\n",
       "    </tr>\n",
       "    <tr>\n",
       "      <th>1021</th>\n",
       "      <td>DFSKJK_1022</td>\n",
       "      <td>경제학과</td>\n",
       "      <td>여</td>\n",
       "    </tr>\n",
       "  </tbody>\n",
       "</table>\n",
       "<p>1022 rows × 3 columns</p>\n",
       "</div>"
      ],
      "text/plain": [
       "               학번     학과 성별\n",
       "0        DFSKJK_1   경영학과  여\n",
       "1        DFSKJK_2   사회학과  여\n",
       "2        DFSKJK_3  기계공학과  여\n",
       "3        DFSKJK_4   경제학과  남\n",
       "4        DFSKJK_5  기계공학과  여\n",
       "...           ...    ... ..\n",
       "1017  DFSKJK_1018   사회학과  여\n",
       "1018  DFSKJK_1019  기계공학과  여\n",
       "1019  DFSKJK_1020   경제학과  여\n",
       "1020  DFSKJK_1021   경영학과  남\n",
       "1021  DFSKJK_1022   경제학과  여\n",
       "\n",
       "[1022 rows x 3 columns]"
      ]
     },
     "execution_count": 1,
     "metadata": {},
     "output_type": "execute_result"
    }
   ],
   "source": [
    "import pandas as pd \n",
    "data1= pd.read_csv('https://raw.githubusercontent.com/Datamanim/datarepo/main/krdatacertificate/e4_p3_1_.csv')\n",
    "data1"
   ]
  },
  {
   "cell_type": "markdown",
   "id": "0679f60d",
   "metadata": {},
   "source": [
    "## 3-1-a\n",
    "학과 평균 인원에 대한 값을 소숫점 이하 3자리까지 구하여라"
   ]
  },
  {
   "cell_type": "code",
   "execution_count": 6,
   "id": "3a33c910",
   "metadata": {},
   "outputs": [
    {
     "name": "stdout",
     "output_type": "stream",
     "text": [
      "170.333\n"
     ]
    }
   ],
   "source": [
    "mean = data1.groupby('학과').count().mean()[0]\n",
    "print(round(mean, 3))"
   ]
  },
  {
   "cell_type": "markdown",
   "id": "877b4199",
   "metadata": {},
   "source": [
    "## 3-1-b 카이제곱검정 독립성 검정\n",
    "카이제곱검정 독립성 검정 통계량을 소숫점 이하 3자리까지 구하여라\n",
    "\n",
    "독립성검정 -> 우선 교차표부터 만들기 pd,crosstab() -> 괄호 안에 파라미터로 독립성 검정 하고 싶은 컬럼 넣으면 된다."
   ]
  },
  {
   "cell_type": "code",
   "execution_count": 12,
   "id": "036a22f3",
   "metadata": {},
   "outputs": [],
   "source": [
    "from scipy.stats import chi2_contingency"
   ]
  },
  {
   "cell_type": "code",
   "execution_count": 13,
   "id": "2836d967",
   "metadata": {},
   "outputs": [],
   "source": [
    "# print(scipy.stats.__all__)"
   ]
  },
  {
   "cell_type": "code",
   "execution_count": 14,
   "id": "483c3528",
   "metadata": {},
   "outputs": [
    {
     "name": "stdout",
     "output_type": "stream",
     "text": [
      "Help on function chi2_contingency in module scipy.stats.contingency:\n",
      "\n",
      "chi2_contingency(observed, correction=True, lambda_=None)\n",
      "    Chi-square test of independence of variables in a contingency table.\n",
      "    \n",
      "    This function computes the chi-square statistic and p-value for the\n",
      "    hypothesis test of independence of the observed frequencies in the\n",
      "    contingency table [1]_ `observed`.  The expected frequencies are computed\n",
      "    based on the marginal sums under the assumption of independence; see\n",
      "    `scipy.stats.contingency.expected_freq`.  The number of degrees of\n",
      "    freedom is (expressed using numpy functions and attributes)::\n",
      "    \n",
      "        dof = observed.size - sum(observed.shape) + observed.ndim - 1\n",
      "    \n",
      "    \n",
      "    Parameters\n",
      "    ----------\n",
      "    observed : array_like\n",
      "        The contingency table. The table contains the observed frequencies\n",
      "        (i.e. number of occurrences) in each category.  In the two-dimensional\n",
      "        case, the table is often described as an \"R x C table\".\n",
      "    correction : bool, optional\n",
      "        If True, *and* the degrees of freedom is 1, apply Yates' correction\n",
      "        for continuity.  The effect of the correction is to adjust each\n",
      "        observed value by 0.5 towards the corresponding expected value.\n",
      "    lambda_ : float or str, optional\n",
      "        By default, the statistic computed in this test is Pearson's\n",
      "        chi-squared statistic [2]_.  `lambda_` allows a statistic from the\n",
      "        Cressie-Read power divergence family [3]_ to be used instead.  See\n",
      "        `scipy.stats.power_divergence` for details.\n",
      "    \n",
      "    Returns\n",
      "    -------\n",
      "    chi2 : float\n",
      "        The test statistic.\n",
      "    p : float\n",
      "        The p-value of the test\n",
      "    dof : int\n",
      "        Degrees of freedom\n",
      "    expected : ndarray, same shape as `observed`\n",
      "        The expected frequencies, based on the marginal sums of the table.\n",
      "    \n",
      "    See Also\n",
      "    --------\n",
      "    scipy.stats.contingency.expected_freq\n",
      "    scipy.stats.fisher_exact\n",
      "    scipy.stats.chisquare\n",
      "    scipy.stats.power_divergence\n",
      "    scipy.stats.barnard_exact\n",
      "    scipy.stats.boschloo_exact\n",
      "    \n",
      "    Notes\n",
      "    -----\n",
      "    An often quoted guideline for the validity of this calculation is that\n",
      "    the test should be used only if the observed and expected frequencies\n",
      "    in each cell are at least 5.\n",
      "    \n",
      "    This is a test for the independence of different categories of a\n",
      "    population. The test is only meaningful when the dimension of\n",
      "    `observed` is two or more.  Applying the test to a one-dimensional\n",
      "    table will always result in `expected` equal to `observed` and a\n",
      "    chi-square statistic equal to 0.\n",
      "    \n",
      "    This function does not handle masked arrays, because the calculation\n",
      "    does not make sense with missing values.\n",
      "    \n",
      "    Like stats.chisquare, this function computes a chi-square statistic;\n",
      "    the convenience this function provides is to figure out the expected\n",
      "    frequencies and degrees of freedom from the given contingency table.\n",
      "    If these were already known, and if the Yates' correction was not\n",
      "    required, one could use stats.chisquare.  That is, if one calls::\n",
      "    \n",
      "        chi2, p, dof, ex = chi2_contingency(obs, correction=False)\n",
      "    \n",
      "    then the following is true::\n",
      "    \n",
      "        (chi2, p) == stats.chisquare(obs.ravel(), f_exp=ex.ravel(),\n",
      "                                     ddof=obs.size - 1 - dof)\n",
      "    \n",
      "    The `lambda_` argument was added in version 0.13.0 of scipy.\n",
      "    \n",
      "    References\n",
      "    ----------\n",
      "    .. [1] \"Contingency table\",\n",
      "           https://en.wikipedia.org/wiki/Contingency_table\n",
      "    .. [2] \"Pearson's chi-squared test\",\n",
      "           https://en.wikipedia.org/wiki/Pearson%27s_chi-squared_test\n",
      "    .. [3] Cressie, N. and Read, T. R. C., \"Multinomial Goodness-of-Fit\n",
      "           Tests\", J. Royal Stat. Soc. Series B, Vol. 46, No. 3 (1984),\n",
      "           pp. 440-464.\n",
      "    \n",
      "    Examples\n",
      "    --------\n",
      "    A two-way example (2 x 3):\n",
      "    \n",
      "    >>> from scipy.stats import chi2_contingency\n",
      "    >>> obs = np.array([[10, 10, 20], [20, 20, 20]])\n",
      "    >>> chi2_contingency(obs)\n",
      "    (2.7777777777777777,\n",
      "     0.24935220877729619,\n",
      "     2,\n",
      "     array([[ 12.,  12.,  16.],\n",
      "            [ 18.,  18.,  24.]]))\n",
      "    \n",
      "    Perform the test using the log-likelihood ratio (i.e. the \"G-test\")\n",
      "    instead of Pearson's chi-squared statistic.\n",
      "    \n",
      "    >>> g, p, dof, expctd = chi2_contingency(obs, lambda_=\"log-likelihood\")\n",
      "    >>> g, p\n",
      "    (2.7688587616781319, 0.25046668010954165)\n",
      "    \n",
      "    A four-way example (2 x 2 x 2 x 2):\n",
      "    \n",
      "    >>> obs = np.array(\n",
      "    ...     [[[[12, 17],\n",
      "    ...        [11, 16]],\n",
      "    ...       [[11, 12],\n",
      "    ...        [15, 16]]],\n",
      "    ...      [[[23, 15],\n",
      "    ...        [30, 22]],\n",
      "    ...       [[14, 17],\n",
      "    ...        [15, 16]]]])\n",
      "    >>> chi2_contingency(obs)\n",
      "    (8.7584514426741897,\n",
      "     0.64417725029295503,\n",
      "     11,\n",
      "     array([[[[ 14.15462386,  14.15462386],\n",
      "              [ 16.49423111,  16.49423111]],\n",
      "             [[ 11.2461395 ,  11.2461395 ],\n",
      "              [ 13.10500554,  13.10500554]]],\n",
      "            [[[ 19.5591166 ,  19.5591166 ],\n",
      "              [ 22.79202844,  22.79202844]],\n",
      "             [[ 15.54012004,  15.54012004],\n",
      "              [ 18.10873492,  18.10873492]]]]))\n",
      "\n"
     ]
    }
   ],
   "source": [
    "help(scipy.stats.chi2_contingency)"
   ]
  },
  {
   "cell_type": "code",
   "execution_count": 15,
   "id": "c000ebff",
   "metadata": {},
   "outputs": [],
   "source": [
    "crosstab = pd.crosstab(data1['학과'], data1['성별'])"
   ]
  },
  {
   "cell_type": "code",
   "execution_count": 16,
   "id": "f82a1ee0",
   "metadata": {},
   "outputs": [
    {
     "data": {
      "text/html": [
       "<div>\n",
       "<style scoped>\n",
       "    .dataframe tbody tr th:only-of-type {\n",
       "        vertical-align: middle;\n",
       "    }\n",
       "\n",
       "    .dataframe tbody tr th {\n",
       "        vertical-align: top;\n",
       "    }\n",
       "\n",
       "    .dataframe thead th {\n",
       "        text-align: right;\n",
       "    }\n",
       "</style>\n",
       "<table border=\"1\" class=\"dataframe\">\n",
       "  <thead>\n",
       "    <tr style=\"text-align: right;\">\n",
       "      <th>성별</th>\n",
       "      <th>남</th>\n",
       "      <th>여</th>\n",
       "    </tr>\n",
       "    <tr>\n",
       "      <th>학과</th>\n",
       "      <th></th>\n",
       "      <th></th>\n",
       "    </tr>\n",
       "  </thead>\n",
       "  <tbody>\n",
       "    <tr>\n",
       "      <th>경영학과</th>\n",
       "      <td>150</td>\n",
       "      <td>171</td>\n",
       "    </tr>\n",
       "    <tr>\n",
       "      <th>경제학과</th>\n",
       "      <td>79</td>\n",
       "      <td>91</td>\n",
       "    </tr>\n",
       "    <tr>\n",
       "      <th>기계공학과</th>\n",
       "      <td>125</td>\n",
       "      <td>119</td>\n",
       "    </tr>\n",
       "    <tr>\n",
       "      <th>사회학과</th>\n",
       "      <td>48</td>\n",
       "      <td>51</td>\n",
       "    </tr>\n",
       "    <tr>\n",
       "      <th>의학과</th>\n",
       "      <td>32</td>\n",
       "      <td>27</td>\n",
       "    </tr>\n",
       "    <tr>\n",
       "      <th>전자공학과</th>\n",
       "      <td>74</td>\n",
       "      <td>55</td>\n",
       "    </tr>\n",
       "  </tbody>\n",
       "</table>\n",
       "</div>"
      ],
      "text/plain": [
       "성별       남    여\n",
       "학과             \n",
       "경영학과   150  171\n",
       "경제학과    79   91\n",
       "기계공학과  125  119\n",
       "사회학과    48   51\n",
       "의학과     32   27\n",
       "전자공학과   74   55"
      ]
     },
     "execution_count": 16,
     "metadata": {},
     "output_type": "execute_result"
    }
   ],
   "source": [
    "crosstab"
   ]
  },
  {
   "cell_type": "code",
   "execution_count": 17,
   "id": "32fdab06",
   "metadata": {},
   "outputs": [],
   "source": [
    "statistic, p_value, dof, expected = chi2_contingency(crosstab)"
   ]
  },
  {
   "cell_type": "code",
   "execution_count": 18,
   "id": "6763b094",
   "metadata": {},
   "outputs": [
    {
     "data": {
      "text/plain": [
       "5.646"
      ]
     },
     "execution_count": 18,
     "metadata": {},
     "output_type": "execute_result"
    }
   ],
   "source": [
    "round(statistic, 3)"
   ]
  },
  {
   "cell_type": "markdown",
   "id": "edb0d4f2",
   "metadata": {},
   "source": [
    "## 3-1-c\n",
    "카이제곱검정 독립성 검정의 pvalue를 소숫점 이하 3자리까지 구하여라. 유의수준 0.05하에서 귀무가설과 대립가설중 유의한 것을 출력하라"
   ]
  },
  {
   "cell_type": "code",
   "execution_count": 19,
   "id": "bb82238b",
   "metadata": {},
   "outputs": [
    {
     "data": {
      "text/plain": [
       "0.3421500573497989"
      ]
     },
     "execution_count": 19,
     "metadata": {},
     "output_type": "execute_result"
    }
   ],
   "source": [
    "p_value"
   ]
  },
  {
   "cell_type": "code",
   "execution_count": 20,
   "id": "0f4a6799",
   "metadata": {},
   "outputs": [
    {
     "name": "stdout",
     "output_type": "stream",
     "text": [
      "귀무\n"
     ]
    }
   ],
   "source": [
    "print('귀무')"
   ]
  },
  {
   "cell_type": "code",
   "execution_count": null,
   "id": "d9acb567",
   "metadata": {},
   "outputs": [],
   "source": []
  }
 ],
 "metadata": {
  "kernelspec": {
   "display_name": "Python 3 (ipykernel)",
   "language": "python",
   "name": "python3"
  },
  "language_info": {
   "codemirror_mode": {
    "name": "ipython",
    "version": 3
   },
   "file_extension": ".py",
   "mimetype": "text/x-python",
   "name": "python",
   "nbconvert_exporter": "python",
   "pygments_lexer": "ipython3",
   "version": "3.8.13"
  }
 },
 "nbformat": 4,
 "nbformat_minor": 5
}
