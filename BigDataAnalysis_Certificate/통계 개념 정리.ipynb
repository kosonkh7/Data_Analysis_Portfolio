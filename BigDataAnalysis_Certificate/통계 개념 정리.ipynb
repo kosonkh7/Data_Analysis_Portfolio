{
 "cells": [
  {
   "cell_type": "markdown",
   "id": "0c59756b",
   "metadata": {},
   "source": [
    "### 라이브러리 및 데이터 로드"
   ]
  },
  {
   "cell_type": "code",
   "execution_count": 1,
   "id": "5f6fb712",
   "metadata": {},
   "outputs": [],
   "source": [
    "import pandas as pd\n",
    "import numpy as np\n",
    "from sklearn.datasets import load_wine"
   ]
  },
  {
   "cell_type": "code",
   "execution_count": 2,
   "id": "59f68351",
   "metadata": {},
   "outputs": [
    {
     "data": {
      "text/html": [
       "<div>\n",
       "<style scoped>\n",
       "    .dataframe tbody tr th:only-of-type {\n",
       "        vertical-align: middle;\n",
       "    }\n",
       "\n",
       "    .dataframe tbody tr th {\n",
       "        vertical-align: top;\n",
       "    }\n",
       "\n",
       "    .dataframe thead tr th {\n",
       "        text-align: left;\n",
       "    }\n",
       "</style>\n",
       "<table border=\"1\" class=\"dataframe\">\n",
       "  <thead>\n",
       "    <tr>\n",
       "      <th></th>\n",
       "      <th>alcohol</th>\n",
       "      <th>malic_acid</th>\n",
       "      <th>ash</th>\n",
       "      <th>alcalinity_of_ash</th>\n",
       "      <th>magnesium</th>\n",
       "      <th>total_phenols</th>\n",
       "      <th>flavanoids</th>\n",
       "      <th>nonflavanoid_phenols</th>\n",
       "      <th>proanthocyanins</th>\n",
       "      <th>color_intensity</th>\n",
       "      <th>hue</th>\n",
       "      <th>od280/od315_of_diluted_wines</th>\n",
       "      <th>proline</th>\n",
       "      <th>target</th>\n",
       "    </tr>\n",
       "  </thead>\n",
       "  <tbody>\n",
       "    <tr>\n",
       "      <th>0</th>\n",
       "      <td>14.23</td>\n",
       "      <td>1.71</td>\n",
       "      <td>2.43</td>\n",
       "      <td>15.6</td>\n",
       "      <td>127.0</td>\n",
       "      <td>2.80</td>\n",
       "      <td>3.06</td>\n",
       "      <td>0.28</td>\n",
       "      <td>2.29</td>\n",
       "      <td>5.64</td>\n",
       "      <td>1.04</td>\n",
       "      <td>3.92</td>\n",
       "      <td>1065.0</td>\n",
       "      <td>0</td>\n",
       "    </tr>\n",
       "    <tr>\n",
       "      <th>1</th>\n",
       "      <td>13.20</td>\n",
       "      <td>1.78</td>\n",
       "      <td>2.14</td>\n",
       "      <td>11.2</td>\n",
       "      <td>100.0</td>\n",
       "      <td>2.65</td>\n",
       "      <td>2.76</td>\n",
       "      <td>0.26</td>\n",
       "      <td>1.28</td>\n",
       "      <td>4.38</td>\n",
       "      <td>1.05</td>\n",
       "      <td>3.40</td>\n",
       "      <td>1050.0</td>\n",
       "      <td>0</td>\n",
       "    </tr>\n",
       "    <tr>\n",
       "      <th>2</th>\n",
       "      <td>13.16</td>\n",
       "      <td>2.36</td>\n",
       "      <td>2.67</td>\n",
       "      <td>18.6</td>\n",
       "      <td>101.0</td>\n",
       "      <td>2.80</td>\n",
       "      <td>3.24</td>\n",
       "      <td>0.30</td>\n",
       "      <td>2.81</td>\n",
       "      <td>5.68</td>\n",
       "      <td>1.03</td>\n",
       "      <td>3.17</td>\n",
       "      <td>1185.0</td>\n",
       "      <td>0</td>\n",
       "    </tr>\n",
       "    <tr>\n",
       "      <th>3</th>\n",
       "      <td>14.37</td>\n",
       "      <td>1.95</td>\n",
       "      <td>2.50</td>\n",
       "      <td>16.8</td>\n",
       "      <td>113.0</td>\n",
       "      <td>3.85</td>\n",
       "      <td>3.49</td>\n",
       "      <td>0.24</td>\n",
       "      <td>2.18</td>\n",
       "      <td>7.80</td>\n",
       "      <td>0.86</td>\n",
       "      <td>3.45</td>\n",
       "      <td>1480.0</td>\n",
       "      <td>0</td>\n",
       "    </tr>\n",
       "    <tr>\n",
       "      <th>4</th>\n",
       "      <td>13.24</td>\n",
       "      <td>2.59</td>\n",
       "      <td>2.87</td>\n",
       "      <td>21.0</td>\n",
       "      <td>118.0</td>\n",
       "      <td>2.80</td>\n",
       "      <td>2.69</td>\n",
       "      <td>0.39</td>\n",
       "      <td>1.82</td>\n",
       "      <td>4.32</td>\n",
       "      <td>1.04</td>\n",
       "      <td>2.93</td>\n",
       "      <td>735.0</td>\n",
       "      <td>0</td>\n",
       "    </tr>\n",
       "    <tr>\n",
       "      <th>...</th>\n",
       "      <td>...</td>\n",
       "      <td>...</td>\n",
       "      <td>...</td>\n",
       "      <td>...</td>\n",
       "      <td>...</td>\n",
       "      <td>...</td>\n",
       "      <td>...</td>\n",
       "      <td>...</td>\n",
       "      <td>...</td>\n",
       "      <td>...</td>\n",
       "      <td>...</td>\n",
       "      <td>...</td>\n",
       "      <td>...</td>\n",
       "      <td>...</td>\n",
       "    </tr>\n",
       "    <tr>\n",
       "      <th>173</th>\n",
       "      <td>13.71</td>\n",
       "      <td>5.65</td>\n",
       "      <td>2.45</td>\n",
       "      <td>20.5</td>\n",
       "      <td>95.0</td>\n",
       "      <td>1.68</td>\n",
       "      <td>0.61</td>\n",
       "      <td>0.52</td>\n",
       "      <td>1.06</td>\n",
       "      <td>7.70</td>\n",
       "      <td>0.64</td>\n",
       "      <td>1.74</td>\n",
       "      <td>740.0</td>\n",
       "      <td>2</td>\n",
       "    </tr>\n",
       "    <tr>\n",
       "      <th>174</th>\n",
       "      <td>13.40</td>\n",
       "      <td>3.91</td>\n",
       "      <td>2.48</td>\n",
       "      <td>23.0</td>\n",
       "      <td>102.0</td>\n",
       "      <td>1.80</td>\n",
       "      <td>0.75</td>\n",
       "      <td>0.43</td>\n",
       "      <td>1.41</td>\n",
       "      <td>7.30</td>\n",
       "      <td>0.70</td>\n",
       "      <td>1.56</td>\n",
       "      <td>750.0</td>\n",
       "      <td>2</td>\n",
       "    </tr>\n",
       "    <tr>\n",
       "      <th>175</th>\n",
       "      <td>13.27</td>\n",
       "      <td>4.28</td>\n",
       "      <td>2.26</td>\n",
       "      <td>20.0</td>\n",
       "      <td>120.0</td>\n",
       "      <td>1.59</td>\n",
       "      <td>0.69</td>\n",
       "      <td>0.43</td>\n",
       "      <td>1.35</td>\n",
       "      <td>10.20</td>\n",
       "      <td>0.59</td>\n",
       "      <td>1.56</td>\n",
       "      <td>835.0</td>\n",
       "      <td>2</td>\n",
       "    </tr>\n",
       "    <tr>\n",
       "      <th>176</th>\n",
       "      <td>13.17</td>\n",
       "      <td>2.59</td>\n",
       "      <td>2.37</td>\n",
       "      <td>20.0</td>\n",
       "      <td>120.0</td>\n",
       "      <td>1.65</td>\n",
       "      <td>0.68</td>\n",
       "      <td>0.53</td>\n",
       "      <td>1.46</td>\n",
       "      <td>9.30</td>\n",
       "      <td>0.60</td>\n",
       "      <td>1.62</td>\n",
       "      <td>840.0</td>\n",
       "      <td>2</td>\n",
       "    </tr>\n",
       "    <tr>\n",
       "      <th>177</th>\n",
       "      <td>14.13</td>\n",
       "      <td>4.10</td>\n",
       "      <td>2.74</td>\n",
       "      <td>24.5</td>\n",
       "      <td>96.0</td>\n",
       "      <td>2.05</td>\n",
       "      <td>0.76</td>\n",
       "      <td>0.56</td>\n",
       "      <td>1.35</td>\n",
       "      <td>9.20</td>\n",
       "      <td>0.61</td>\n",
       "      <td>1.60</td>\n",
       "      <td>560.0</td>\n",
       "      <td>2</td>\n",
       "    </tr>\n",
       "  </tbody>\n",
       "</table>\n",
       "<p>178 rows × 14 columns</p>\n",
       "</div>"
      ],
      "text/plain": [
       "    alcohol malic_acid   ash alcalinity_of_ash magnesium total_phenols  \\\n",
       "0     14.23       1.71  2.43              15.6     127.0          2.80   \n",
       "1     13.20       1.78  2.14              11.2     100.0          2.65   \n",
       "2     13.16       2.36  2.67              18.6     101.0          2.80   \n",
       "3     14.37       1.95  2.50              16.8     113.0          3.85   \n",
       "4     13.24       2.59  2.87              21.0     118.0          2.80   \n",
       "..      ...        ...   ...               ...       ...           ...   \n",
       "173   13.71       5.65  2.45              20.5      95.0          1.68   \n",
       "174   13.40       3.91  2.48              23.0     102.0          1.80   \n",
       "175   13.27       4.28  2.26              20.0     120.0          1.59   \n",
       "176   13.17       2.59  2.37              20.0     120.0          1.65   \n",
       "177   14.13       4.10  2.74              24.5      96.0          2.05   \n",
       "\n",
       "    flavanoids nonflavanoid_phenols proanthocyanins color_intensity   hue  \\\n",
       "0         3.06                 0.28            2.29            5.64  1.04   \n",
       "1         2.76                 0.26            1.28            4.38  1.05   \n",
       "2         3.24                 0.30            2.81            5.68  1.03   \n",
       "3         3.49                 0.24            2.18            7.80  0.86   \n",
       "4         2.69                 0.39            1.82            4.32  1.04   \n",
       "..         ...                  ...             ...             ...   ...   \n",
       "173       0.61                 0.52            1.06            7.70  0.64   \n",
       "174       0.75                 0.43            1.41            7.30  0.70   \n",
       "175       0.69                 0.43            1.35           10.20  0.59   \n",
       "176       0.68                 0.53            1.46            9.30  0.60   \n",
       "177       0.76                 0.56            1.35            9.20  0.61   \n",
       "\n",
       "    od280/od315_of_diluted_wines proline target  \n",
       "0                           3.92  1065.0      0  \n",
       "1                           3.40  1050.0      0  \n",
       "2                           3.17  1185.0      0  \n",
       "3                           3.45  1480.0      0  \n",
       "4                           2.93   735.0      0  \n",
       "..                           ...     ...    ...  \n",
       "173                         1.74   740.0      2  \n",
       "174                         1.56   750.0      2  \n",
       "175                         1.56   835.0      2  \n",
       "176                         1.62   840.0      2  \n",
       "177                         1.60   560.0      2  \n",
       "\n",
       "[178 rows x 14 columns]"
      ]
     },
     "execution_count": 2,
     "metadata": {},
     "output_type": "execute_result"
    }
   ],
   "source": [
    "wine = load_wine()\n",
    "data = pd.DataFrame(data=wine.data, columns=[wine.feature_names])\n",
    "data['target'] = wine.target\n",
    "data"
   ]
  },
  {
   "cell_type": "code",
   "execution_count": 3,
   "id": "36366fdd",
   "metadata": {},
   "outputs": [
    {
     "data": {
      "text/html": [
       "<div>\n",
       "<style scoped>\n",
       "    .dataframe tbody tr th:only-of-type {\n",
       "        vertical-align: middle;\n",
       "    }\n",
       "\n",
       "    .dataframe tbody tr th {\n",
       "        vertical-align: top;\n",
       "    }\n",
       "\n",
       "    .dataframe thead tr th {\n",
       "        text-align: left;\n",
       "    }\n",
       "</style>\n",
       "<table border=\"1\" class=\"dataframe\">\n",
       "  <thead>\n",
       "    <tr>\n",
       "      <th></th>\n",
       "      <th>alcohol</th>\n",
       "      <th>malic_acid</th>\n",
       "      <th>ash</th>\n",
       "      <th>alcalinity_of_ash</th>\n",
       "      <th>magnesium</th>\n",
       "      <th>total_phenols</th>\n",
       "      <th>flavanoids</th>\n",
       "      <th>nonflavanoid_phenols</th>\n",
       "      <th>proanthocyanins</th>\n",
       "      <th>color_intensity</th>\n",
       "      <th>hue</th>\n",
       "      <th>od280/od315_of_diluted_wines</th>\n",
       "      <th>proline</th>\n",
       "      <th>target</th>\n",
       "    </tr>\n",
       "  </thead>\n",
       "  <tbody>\n",
       "    <tr>\n",
       "      <th>count</th>\n",
       "      <td>178.000000</td>\n",
       "      <td>178.000000</td>\n",
       "      <td>178.000000</td>\n",
       "      <td>178.000000</td>\n",
       "      <td>178.000000</td>\n",
       "      <td>178.000000</td>\n",
       "      <td>178.000000</td>\n",
       "      <td>178.000000</td>\n",
       "      <td>178.000000</td>\n",
       "      <td>178.000000</td>\n",
       "      <td>178.000000</td>\n",
       "      <td>178.000000</td>\n",
       "      <td>178.000000</td>\n",
       "      <td>178.000000</td>\n",
       "    </tr>\n",
       "    <tr>\n",
       "      <th>mean</th>\n",
       "      <td>13.000618</td>\n",
       "      <td>2.336348</td>\n",
       "      <td>2.366517</td>\n",
       "      <td>19.494944</td>\n",
       "      <td>99.741573</td>\n",
       "      <td>2.295112</td>\n",
       "      <td>2.029270</td>\n",
       "      <td>0.361854</td>\n",
       "      <td>1.590899</td>\n",
       "      <td>5.058090</td>\n",
       "      <td>0.957449</td>\n",
       "      <td>2.611685</td>\n",
       "      <td>746.893258</td>\n",
       "      <td>0.938202</td>\n",
       "    </tr>\n",
       "    <tr>\n",
       "      <th>std</th>\n",
       "      <td>0.811827</td>\n",
       "      <td>1.117146</td>\n",
       "      <td>0.274344</td>\n",
       "      <td>3.339564</td>\n",
       "      <td>14.282484</td>\n",
       "      <td>0.625851</td>\n",
       "      <td>0.998859</td>\n",
       "      <td>0.124453</td>\n",
       "      <td>0.572359</td>\n",
       "      <td>2.318286</td>\n",
       "      <td>0.228572</td>\n",
       "      <td>0.709990</td>\n",
       "      <td>314.907474</td>\n",
       "      <td>0.775035</td>\n",
       "    </tr>\n",
       "    <tr>\n",
       "      <th>min</th>\n",
       "      <td>11.030000</td>\n",
       "      <td>0.740000</td>\n",
       "      <td>1.360000</td>\n",
       "      <td>10.600000</td>\n",
       "      <td>70.000000</td>\n",
       "      <td>0.980000</td>\n",
       "      <td>0.340000</td>\n",
       "      <td>0.130000</td>\n",
       "      <td>0.410000</td>\n",
       "      <td>1.280000</td>\n",
       "      <td>0.480000</td>\n",
       "      <td>1.270000</td>\n",
       "      <td>278.000000</td>\n",
       "      <td>0.000000</td>\n",
       "    </tr>\n",
       "    <tr>\n",
       "      <th>25%</th>\n",
       "      <td>12.362500</td>\n",
       "      <td>1.602500</td>\n",
       "      <td>2.210000</td>\n",
       "      <td>17.200000</td>\n",
       "      <td>88.000000</td>\n",
       "      <td>1.742500</td>\n",
       "      <td>1.205000</td>\n",
       "      <td>0.270000</td>\n",
       "      <td>1.250000</td>\n",
       "      <td>3.220000</td>\n",
       "      <td>0.782500</td>\n",
       "      <td>1.937500</td>\n",
       "      <td>500.500000</td>\n",
       "      <td>0.000000</td>\n",
       "    </tr>\n",
       "    <tr>\n",
       "      <th>50%</th>\n",
       "      <td>13.050000</td>\n",
       "      <td>1.865000</td>\n",
       "      <td>2.360000</td>\n",
       "      <td>19.500000</td>\n",
       "      <td>98.000000</td>\n",
       "      <td>2.355000</td>\n",
       "      <td>2.135000</td>\n",
       "      <td>0.340000</td>\n",
       "      <td>1.555000</td>\n",
       "      <td>4.690000</td>\n",
       "      <td>0.965000</td>\n",
       "      <td>2.780000</td>\n",
       "      <td>673.500000</td>\n",
       "      <td>1.000000</td>\n",
       "    </tr>\n",
       "    <tr>\n",
       "      <th>75%</th>\n",
       "      <td>13.677500</td>\n",
       "      <td>3.082500</td>\n",
       "      <td>2.557500</td>\n",
       "      <td>21.500000</td>\n",
       "      <td>107.000000</td>\n",
       "      <td>2.800000</td>\n",
       "      <td>2.875000</td>\n",
       "      <td>0.437500</td>\n",
       "      <td>1.950000</td>\n",
       "      <td>6.200000</td>\n",
       "      <td>1.120000</td>\n",
       "      <td>3.170000</td>\n",
       "      <td>985.000000</td>\n",
       "      <td>2.000000</td>\n",
       "    </tr>\n",
       "    <tr>\n",
       "      <th>max</th>\n",
       "      <td>14.830000</td>\n",
       "      <td>5.800000</td>\n",
       "      <td>3.230000</td>\n",
       "      <td>30.000000</td>\n",
       "      <td>162.000000</td>\n",
       "      <td>3.880000</td>\n",
       "      <td>5.080000</td>\n",
       "      <td>0.660000</td>\n",
       "      <td>3.580000</td>\n",
       "      <td>13.000000</td>\n",
       "      <td>1.710000</td>\n",
       "      <td>4.000000</td>\n",
       "      <td>1680.000000</td>\n",
       "      <td>2.000000</td>\n",
       "    </tr>\n",
       "  </tbody>\n",
       "</table>\n",
       "</div>"
      ],
      "text/plain": [
       "          alcohol  malic_acid         ash alcalinity_of_ash   magnesium  \\\n",
       "count  178.000000  178.000000  178.000000        178.000000  178.000000   \n",
       "mean    13.000618    2.336348    2.366517         19.494944   99.741573   \n",
       "std      0.811827    1.117146    0.274344          3.339564   14.282484   \n",
       "min     11.030000    0.740000    1.360000         10.600000   70.000000   \n",
       "25%     12.362500    1.602500    2.210000         17.200000   88.000000   \n",
       "50%     13.050000    1.865000    2.360000         19.500000   98.000000   \n",
       "75%     13.677500    3.082500    2.557500         21.500000  107.000000   \n",
       "max     14.830000    5.800000    3.230000         30.000000  162.000000   \n",
       "\n",
       "      total_phenols  flavanoids nonflavanoid_phenols proanthocyanins  \\\n",
       "count    178.000000  178.000000           178.000000      178.000000   \n",
       "mean       2.295112    2.029270             0.361854        1.590899   \n",
       "std        0.625851    0.998859             0.124453        0.572359   \n",
       "min        0.980000    0.340000             0.130000        0.410000   \n",
       "25%        1.742500    1.205000             0.270000        1.250000   \n",
       "50%        2.355000    2.135000             0.340000        1.555000   \n",
       "75%        2.800000    2.875000             0.437500        1.950000   \n",
       "max        3.880000    5.080000             0.660000        3.580000   \n",
       "\n",
       "      color_intensity         hue od280/od315_of_diluted_wines      proline  \\\n",
       "count      178.000000  178.000000                   178.000000   178.000000   \n",
       "mean         5.058090    0.957449                     2.611685   746.893258   \n",
       "std          2.318286    0.228572                     0.709990   314.907474   \n",
       "min          1.280000    0.480000                     1.270000   278.000000   \n",
       "25%          3.220000    0.782500                     1.937500   500.500000   \n",
       "50%          4.690000    0.965000                     2.780000   673.500000   \n",
       "75%          6.200000    1.120000                     3.170000   985.000000   \n",
       "max         13.000000    1.710000                     4.000000  1680.000000   \n",
       "\n",
       "           target  \n",
       "count  178.000000  \n",
       "mean     0.938202  \n",
       "std      0.775035  \n",
       "min      0.000000  \n",
       "25%      0.000000  \n",
       "50%      1.000000  \n",
       "75%      2.000000  \n",
       "max      2.000000  "
      ]
     },
     "execution_count": 3,
     "metadata": {},
     "output_type": "execute_result"
    }
   ],
   "source": [
    "data.describe()"
   ]
  },
  {
   "cell_type": "markdown",
   "id": "c3285814",
   "metadata": {},
   "source": [
    "# 1. 가설검정 - 모평균 비교(1개)\n",
    "### 단일표본 t검정 | ttest_1samp(data, popmean=, alternative='two-sided') (정규성 만족 시)\n",
    "\n",
    "Q. 회분염기도 (alcalinity_of_ash)의 모평균이 19인지 검정하라."
   ]
  },
  {
   "cell_type": "code",
   "execution_count": 4,
   "id": "75f17b1d",
   "metadata": {},
   "outputs": [
    {
     "name": "stdout",
     "output_type": "stream",
     "text": [
      "0.0496\n"
     ]
    }
   ],
   "source": [
    "from scipy.stats import ttest_1samp\n",
    "\n",
    "# alternative = 'two-sided', 'less', 'greater'\n",
    "statistic, pvalue = ttest_1samp(data.alcalinity_of_ash, popmean=19, alternative='two-sided')\n",
    "\n",
    "# 귀무가설 기각\n",
    "print(round(pvalue[0], 4))  "
   ]
  },
  {
   "cell_type": "markdown",
   "id": "f58db03a",
   "metadata": {},
   "source": [
    "### 윌콕슨 부호순위 검정 | wilcoxon(data-popmean, alternative='two-sided') (정규성 만족 못할 시)"
   ]
  },
  {
   "cell_type": "code",
   "execution_count": 5,
   "id": "769be28e",
   "metadata": {},
   "outputs": [
    {
     "name": "stdout",
     "output_type": "stream",
     "text": [
      "0.0786\n"
     ]
    }
   ],
   "source": [
    "from scipy.stats import wilcoxon\n",
    "# 데이터에 모수를 뺀 값으로 검정한다.\n",
    "\n",
    "# alternative = 'two-sided', 'less', 'greater'\n",
    "statistic, pvalue = wilcoxon(data.alcalinity_of_ash-19, alternative='two-sided')\n",
    "\n",
    "# 유의수준 0.05하에선 귀무가설 채택\n",
    "print(round(pvalue[0], 4))"
   ]
  },
  {
   "cell_type": "markdown",
   "id": "d8980c3f",
   "metadata": {},
   "source": [
    "### 정규성 검정 | shapiro(data)"
   ]
  },
  {
   "cell_type": "code",
   "execution_count": 6,
   "id": "06f2f398",
   "metadata": {},
   "outputs": [
    {
     "name": "stdout",
     "output_type": "stream",
     "text": [
      "0.2639\n"
     ]
    }
   ],
   "source": [
    "from scipy.stats import shapiro\n",
    "\n",
    "statistic, pvalue = shapiro(data.alcalinity_of_ash)\n",
    "\n",
    "# 정규성 만족\n",
    "print(round(pvalue, 4))"
   ]
  },
  {
   "cell_type": "markdown",
   "id": "354fc6f2",
   "metadata": {},
   "source": [
    "# 2. 가설검정 - 모평균 비교 (2개)\n",
    "### 대응표본 t검정 | ttest_rel(dataB, dataA, alternative='two-sided')\n",
    "\n",
    "동일한 개체의 실험 전과 후 차이값들의 평균으로 검정\n",
    "\n",
    "만약 단측검정을 할 때 대립가설이 0보다 작다면: alternative = 'less' \n",
    "\n",
    "실험후(dataB)-실험전(dataA) < 0이라는 것을 의미한다. -> dataB < dataA 와 같은 의미 (순서 주의, 앞이 작으면 less)\n",
    "\n",
    "Q, malic_acid과 ash 모평균이 같은지 검정하라 (예제는 부적절하지만 기능 활용을 위해 임의로 작성)\n",
    "\n"
   ]
  },
  {
   "cell_type": "code",
   "execution_count": 7,
   "id": "a2defa4c",
   "metadata": {},
   "outputs": [
    {
     "name": "stdout",
     "output_type": "stream",
     "text": [
      "0.7163\n"
     ]
    }
   ],
   "source": [
    "from scipy.stats import ttest_rel\n",
    "\n",
    "statistic, pvalue = ttest_rel(data.malic_acid, data.ash, alternative='two-sided')\n",
    "\n",
    "# 귀무가설 채택\n",
    "print(round(pvalue[0], 4))"
   ]
  },
  {
   "cell_type": "markdown",
   "id": "9d8cf508",
   "metadata": {},
   "source": [
    "### 독립표본 t검정 | ttest_ind(data1, data2, equal_var=True, alternative='two-sided')\n",
    "\n",
    "Q. 0번 와인과 나머지 와인의 플라보노이드(flavanoids) 평균이 같은지 검정하라"
   ]
  },
  {
   "cell_type": "code",
   "execution_count": 8,
   "id": "0500446f",
   "metadata": {},
   "outputs": [
    {
     "name": "stdout",
     "output_type": "stream",
     "text": [
      "12.0965 0.0\n"
     ]
    }
   ],
   "source": [
    "from scipy.stats import ttest_ind\n",
    "\n",
    "statistic, pvalue = ttest_ind(data[:59].flavanoids, data[59:].flavanoids)\n",
    "\n",
    "# p-value가 0에 근사하므로 귀무가설 기각\n",
    "print(round(statistic[0], 4), round(pvalue[0], 4))"
   ]
  },
  {
   "cell_type": "markdown",
   "id": "da436e06",
   "metadata": {},
   "source": [
    "Q. 0이 아닌 와인의 플라보노이드 평균이 더 큰지 검정하라 "
   ]
  },
  {
   "cell_type": "code",
   "execution_count": 9,
   "id": "5a9458ea",
   "metadata": {},
   "outputs": [
    {
     "name": "stdout",
     "output_type": "stream",
     "text": [
      "[15.11828072] [1.]\n"
     ]
    }
   ],
   "source": [
    "statistic, pvalue = ttest_ind(data[:59].flavanoids, data[59:].flavanoids, equal_var=False, alternative='less')\n",
    "\n",
    "# pvalue가 1에 가까으므로 귀무가설을 채택한다 \n",
    "print(statistic, pvalue)"
   ]
  },
  {
   "cell_type": "markdown",
   "id": "613c2d43",
   "metadata": {},
   "source": [
    "### 등분산성 검정 | bartlett(data1, data2, ...) -> 데이터 간의 길이는 달라도 된다\n",
    "\n",
    "**정규성을 만족**하는 데이터 사이의 등분산성 검정이다."
   ]
  },
  {
   "cell_type": "code",
   "execution_count": 10,
   "id": "7f2058c4",
   "metadata": {},
   "outputs": [
    {
     "name": "stdout",
     "output_type": "stream",
     "text": [
      "0.0\n"
     ]
    }
   ],
   "source": [
    "from scipy.stats import bartlett\n",
    "\n",
    "statistic, pvalue = bartlett(data[:59].flavanoids.squeeze(), data[59:].flavanoids.squeeze())\n",
    "\n",
    "# 귀무가설 기각 -> 두 데이터 간 분산이 다르다\n",
    "print(round(pvalue, 4))"
   ]
  },
  {
   "cell_type": "markdown",
   "id": "c95bbad6",
   "metadata": {},
   "source": [
    "### 등분산성 검정 | levene(data1, data2, ...) -> 데이터 간의 길이는 달라도 된다\n",
    "\n",
    "**정규성을 만족하지 않는** 데이터 사이의 등분산성 검정이다."
   ]
  },
  {
   "cell_type": "code",
   "execution_count": 11,
   "id": "ccdb8afc",
   "metadata": {},
   "outputs": [
    {
     "name": "stdout",
     "output_type": "stream",
     "text": [
      "30.67393636136167 0.0\n"
     ]
    }
   ],
   "source": [
    "from scipy.stats import levene\n",
    "\n",
    "statistic, pvalue = levene(data[:59].flavanoids.squeeze(), data[59:].flavanoids.squeeze())\n",
    "\n",
    "# 귀무가설 기각 -> 두 데이터 간 분산이 다르다\n",
    "print(statistic, round(pvalue, 4))"
   ]
  },
  {
   "cell_type": "markdown",
   "id": "ef37b89a",
   "metadata": {},
   "source": [
    "# 3. 가설검정 - 모평균 비교 (3개 이상)\n",
    "### 일원분산분석(ANOVA) | f_oneway(data1, data2, ...)\n",
    "\n",
    "Q. 와인0, 와인2, 와인3 색도(color_intensity)의 평균이 모두 같은지 검정하라\n",
    "\n",
    "1. 각 데이터가 정규성을 만족하는지 확인\n",
    "2. 각 데이터 간의 등분산성을 만족하는지 확인\n",
    "3. 일원분산분석\n",
    "\n",
    "**정규성을 만족하지 못하면 비모수검정(크루스칼왈리스 검정 - kruskal)을 진행**해야 하지만, 연습을 위해 정규성을 만족하지 못해도 일원분산분석을 진행한다."
   ]
  },
  {
   "cell_type": "code",
   "execution_count": 15,
   "id": "69bdf098",
   "metadata": {},
   "outputs": [],
   "source": [
    "wine0 = data[:59]\n",
    "wine1 = data[59:130]\n",
    "wine2 = data[130:]  "
   ]
  },
  {
   "cell_type": "code",
   "execution_count": 19,
   "id": "161c7e3e",
   "metadata": {},
   "outputs": [
    {
     "name": "stdout",
     "output_type": "stream",
     "text": [
      "ShapiroResult(statistic=0.9681947827339172, pvalue=0.12509089708328247)\n",
      "ShapiroResult(statistic=0.9317483305931091, pvalue=0.0008194572874344885)\n",
      "ShapiroResult(statistic=0.9584943056106567, pvalue=0.08775369822978973)\n"
     ]
    }
   ],
   "source": [
    "# wine1은 유의수준 0.05하에서 정규성을 만족하지 못한다.\n",
    "# wine2는 유의수준 0.1하에서 정규성을 만족하지 못한다.\n",
    "\n",
    "from scipy.stats import shapiro\n",
    "\n",
    "print(shapiro(wine0.color_intensity))\n",
    "print(shapiro(wine1.color_intensity))\n",
    "print(shapiro(wine2.color_intensity))"
   ]
  },
  {
   "cell_type": "code",
   "execution_count": 22,
   "id": "21b2c25a",
   "metadata": {},
   "outputs": [
    {
     "name": "stdout",
     "output_type": "stream",
     "text": [
      "LeveneResult(statistic=31.257110521834758, pvalue=2.471654106317395e-12)\n"
     ]
    }
   ],
   "source": [
    "# 정규성을 만족하지 못하면, 등분산성 검정시 levene검정을 수행한다.\n",
    "# 검정 결과 데이터 간의 등분산성을 만족하지 못한다\n",
    "\n",
    "from scipy.stats import levene\n",
    "\n",
    "print(levene(wine0.color_intensity.squeeze(), wine1.color_intensity.squeeze(), wine2.color_intensity.squeeze()))"
   ]
  },
  {
   "cell_type": "code",
   "execution_count": 23,
   "id": "2c64c40a",
   "metadata": {},
   "outputs": [
    {
     "name": "stdout",
     "output_type": "stream",
     "text": [
      "F_onewayResult(statistic=120.66401844100312, pvalue=1.162008021927618e-33)\n"
     ]
    }
   ],
   "source": [
    "from scipy.stats import f_oneway \n",
    "\n",
    "# 귀무가설 기각\n",
    "print(f_oneway(wine0.color_intensity.squeeze(), wine1.color_intensity.squeeze(), wine2.color_intensity.squeeze()))"
   ]
  },
  {
   "cell_type": "code",
   "execution_count": 24,
   "id": "393bcbb2",
   "metadata": {},
   "outputs": [
    {
     "name": "stdout",
     "output_type": "stream",
     "text": [
      "5.528305084745763 3.086619718309859 7.396249979166666\n"
     ]
    }
   ],
   "source": [
    "# 실제로 세 집단 간의 평균은 동일하지 않다.\n",
    "print(wine0.color_intensity.squeeze().mean(), wine1.color_intensity.squeeze().mean(), wine2.color_intensity.squeeze().mean())"
   ]
  },
  {
   "cell_type": "markdown",
   "id": "354619e8",
   "metadata": {},
   "source": [
    "# 4. 가설검정 - 범주형 변수 적합성 검정 (Goodness of fit test)\n",
    "### 카이제곱검정 | chisquare(관측 빈도, 기대 빈도)\n",
    "표본의 빈도를 이용하여 모집단의 가정된 빈도나 가정된 비율을 만족하는지를 확인하는 것\n",
    "\n",
    "관찰빈도와 기대빈도의 차이를 이용한 검정 (value_counts)"
   ]
  },
  {
   "cell_type": "code",
   "execution_count": 26,
   "id": "6ba0c639",
   "metadata": {},
   "outputs": [
    {
     "data": {
      "text/html": [
       "<div>\n",
       "<style scoped>\n",
       "    .dataframe tbody tr th:only-of-type {\n",
       "        vertical-align: middle;\n",
       "    }\n",
       "\n",
       "    .dataframe tbody tr th {\n",
       "        vertical-align: top;\n",
       "    }\n",
       "\n",
       "    .dataframe thead th {\n",
       "        text-align: right;\n",
       "    }\n",
       "</style>\n",
       "<table border=\"1\" class=\"dataframe\">\n",
       "  <thead>\n",
       "    <tr style=\"text-align: right;\">\n",
       "      <th></th>\n",
       "      <th>survived</th>\n",
       "      <th>pclass</th>\n",
       "      <th>sex</th>\n",
       "      <th>age</th>\n",
       "      <th>sibsp</th>\n",
       "      <th>parch</th>\n",
       "      <th>fare</th>\n",
       "      <th>embarked</th>\n",
       "      <th>class</th>\n",
       "      <th>who</th>\n",
       "      <th>adult_male</th>\n",
       "      <th>deck</th>\n",
       "      <th>embark_town</th>\n",
       "      <th>alive</th>\n",
       "      <th>alone</th>\n",
       "    </tr>\n",
       "  </thead>\n",
       "  <tbody>\n",
       "    <tr>\n",
       "      <th>0</th>\n",
       "      <td>0</td>\n",
       "      <td>3</td>\n",
       "      <td>male</td>\n",
       "      <td>22.0</td>\n",
       "      <td>1</td>\n",
       "      <td>0</td>\n",
       "      <td>7.2500</td>\n",
       "      <td>S</td>\n",
       "      <td>Third</td>\n",
       "      <td>man</td>\n",
       "      <td>True</td>\n",
       "      <td>NaN</td>\n",
       "      <td>Southampton</td>\n",
       "      <td>no</td>\n",
       "      <td>False</td>\n",
       "    </tr>\n",
       "    <tr>\n",
       "      <th>1</th>\n",
       "      <td>1</td>\n",
       "      <td>1</td>\n",
       "      <td>female</td>\n",
       "      <td>38.0</td>\n",
       "      <td>1</td>\n",
       "      <td>0</td>\n",
       "      <td>71.2833</td>\n",
       "      <td>C</td>\n",
       "      <td>First</td>\n",
       "      <td>woman</td>\n",
       "      <td>False</td>\n",
       "      <td>C</td>\n",
       "      <td>Cherbourg</td>\n",
       "      <td>yes</td>\n",
       "      <td>False</td>\n",
       "    </tr>\n",
       "    <tr>\n",
       "      <th>2</th>\n",
       "      <td>1</td>\n",
       "      <td>3</td>\n",
       "      <td>female</td>\n",
       "      <td>26.0</td>\n",
       "      <td>0</td>\n",
       "      <td>0</td>\n",
       "      <td>7.9250</td>\n",
       "      <td>S</td>\n",
       "      <td>Third</td>\n",
       "      <td>woman</td>\n",
       "      <td>False</td>\n",
       "      <td>NaN</td>\n",
       "      <td>Southampton</td>\n",
       "      <td>yes</td>\n",
       "      <td>True</td>\n",
       "    </tr>\n",
       "    <tr>\n",
       "      <th>3</th>\n",
       "      <td>1</td>\n",
       "      <td>1</td>\n",
       "      <td>female</td>\n",
       "      <td>35.0</td>\n",
       "      <td>1</td>\n",
       "      <td>0</td>\n",
       "      <td>53.1000</td>\n",
       "      <td>S</td>\n",
       "      <td>First</td>\n",
       "      <td>woman</td>\n",
       "      <td>False</td>\n",
       "      <td>C</td>\n",
       "      <td>Southampton</td>\n",
       "      <td>yes</td>\n",
       "      <td>False</td>\n",
       "    </tr>\n",
       "    <tr>\n",
       "      <th>4</th>\n",
       "      <td>0</td>\n",
       "      <td>3</td>\n",
       "      <td>male</td>\n",
       "      <td>35.0</td>\n",
       "      <td>0</td>\n",
       "      <td>0</td>\n",
       "      <td>8.0500</td>\n",
       "      <td>S</td>\n",
       "      <td>Third</td>\n",
       "      <td>man</td>\n",
       "      <td>True</td>\n",
       "      <td>NaN</td>\n",
       "      <td>Southampton</td>\n",
       "      <td>no</td>\n",
       "      <td>True</td>\n",
       "    </tr>\n",
       "  </tbody>\n",
       "</table>\n",
       "</div>"
      ],
      "text/plain": [
       "   survived  pclass     sex   age  sibsp  parch     fare embarked  class  \\\n",
       "0         0       3    male  22.0      1      0   7.2500        S  Third   \n",
       "1         1       1  female  38.0      1      0  71.2833        C  First   \n",
       "2         1       3  female  26.0      0      0   7.9250        S  Third   \n",
       "3         1       1  female  35.0      1      0  53.1000        S  First   \n",
       "4         0       3    male  35.0      0      0   8.0500        S  Third   \n",
       "\n",
       "     who  adult_male deck  embark_town alive  alone  \n",
       "0    man        True  NaN  Southampton    no  False  \n",
       "1  woman       False    C    Cherbourg   yes  False  \n",
       "2  woman       False  NaN  Southampton   yes   True  \n",
       "3  woman       False    C  Southampton   yes  False  \n",
       "4    man        True  NaN  Southampton    no   True  "
      ]
     },
     "execution_count": 26,
     "metadata": {},
     "output_type": "execute_result"
    }
   ],
   "source": [
    "import seaborn as sns\n",
    "titanic = sns.load_dataset('titanic')\n",
    "titanic.head()"
   ]
  },
  {
   "cell_type": "code",
   "execution_count": 32,
   "id": "f9d49369",
   "metadata": {},
   "outputs": [
    {
     "data": {
      "text/plain": [
       "Third     491\n",
       "First     216\n",
       "Second    184\n",
       "Name: class, dtype: int64"
      ]
     },
     "execution_count": 32,
     "metadata": {},
     "output_type": "execute_result"
    }
   ],
   "source": [
    "titanic['class'].value_counts()"
   ]
  },
  {
   "cell_type": "code",
   "execution_count": null,
   "id": "15ea6221",
   "metadata": {},
   "outputs": [],
   "source": []
  },
  {
   "cell_type": "code",
   "execution_count": null,
   "id": "3fc2361d",
   "metadata": {},
   "outputs": [],
   "source": []
  },
  {
   "cell_type": "code",
   "execution_count": null,
   "id": "af37ae4a",
   "metadata": {},
   "outputs": [],
   "source": []
  },
  {
   "cell_type": "code",
   "execution_count": 14,
   "id": "6ac4cf49",
   "metadata": {},
   "outputs": [
    {
     "name": "stdout",
     "output_type": "stream",
     "text": [
      "['ConstantInputWarning', 'DegenerateDataWarning', 'FitError', 'NearConstantInputWarning', 'NumericalInverseHermite', '__all__', '__builtins__', '__cached__', '__doc__', '__file__', '__loader__', '__name__', '__package__', '__path__', '__spec__', '_axis_nan_policy', '_biasedurn', '_binned_statistic', '_binomtest', '_boost', '_common', '_constants', '_continuous_distns', '_crosstab', '_discrete_distns', '_distn_infrastructure', '_distr_params', '_entropy', '_fit', '_hypotests', '_hypotests_pythran', '_kde', '_ksstats', '_levy_stable', '_mannwhitneyu', '_morestats', '_mstats_basic', '_mstats_extras', '_multivariate', '_mvn', '_page_trend_test', '_qmc', '_qmc_cy', '_relative_risk', '_resampling', '_rvs_sampling', '_sobol', '_statlib', '_stats', '_stats_mstats_common', '_stats_py', '_tukeylambda_stats', '_unuran', '_variation', '_warnings_errors', 'alexandergovern', 'alpha', 'anderson', 'anderson_ksamp', 'anglit', 'ansari', 'arcsine', 'argus', 'barnard_exact', 'bartlett', 'bayes_mvs', 'bernoulli', 'beta', 'betabinom', 'betaprime', 'biasedurn', 'binned_statistic', 'binned_statistic_2d', 'binned_statistic_dd', 'binom', 'binom_test', 'binomtest', 'boltzmann', 'bootstrap', 'boschloo_exact', 'boxcox', 'boxcox_llf', 'boxcox_normmax', 'boxcox_normplot', 'bradford', 'brunnermunzel', 'burr', 'burr12', 'cauchy', 'chi', 'chi2', 'chi2_contingency', 'chisquare', 'circmean', 'circstd', 'circvar', 'combine_pvalues', 'contingency', 'cosine', 'cramervonmises', 'cramervonmises_2samp', 'crystalball', 'cumfreq', 'describe', 'dgamma', 'differential_entropy', 'dirichlet', 'distributions', 'dlaplace', 'dweibull', 'energy_distance', 'entropy', 'epps_singleton_2samp', 'erlang', 'expon', 'exponnorm', 'exponpow', 'exponweib', 'f', 'f_oneway', 'fatiguelife', 'find_repeats', 'fisher_exact', 'fisk', 'fit', 'fligner', 'foldcauchy', 'foldnorm', 'friedmanchisquare', 'gamma', 'gausshyper', 'gaussian_kde', 'genexpon', 'genextreme', 'gengamma', 'genhalflogistic', 'genhyperbolic', 'geninvgauss', 'genlogistic', 'gennorm', 'genpareto', 'geom', 'gibrat', 'gilbrat', 'gmean', 'gompertz', 'gstd', 'gumbel_l', 'gumbel_r', 'gzscore', 'halfcauchy', 'halfgennorm', 'halflogistic', 'halfnorm', 'hmean', 'hypergeom', 'hypsecant', 'invgamma', 'invgauss', 'invweibull', 'invwishart', 'iqr', 'jarque_bera', 'johnsonsb', 'johnsonsu', 'kappa3', 'kappa4', 'kde', 'kendalltau', 'kruskal', 'ks_1samp', 'ks_2samp', 'ksone', 'kstat', 'kstatvar', 'kstest', 'kstwo', 'kstwobign', 'kurtosis', 'kurtosistest', 'laplace', 'laplace_asymmetric', 'levene', 'levy', 'levy_l', 'levy_stable', 'linregress', 'loggamma', 'logistic', 'loglaplace', 'lognorm', 'logser', 'loguniform', 'lomax', 'mannwhitneyu', 'matrix_normal', 'maxwell', 'median_abs_deviation', 'median_test', 'mielke', 'mode', 'moment', 'monte_carlo_test', 'mood', 'morestats', 'moyal', 'mstats', 'mstats_basic', 'mstats_extras', 'multinomial', 'multiscale_graphcorr', 'multivariate_hypergeom', 'multivariate_normal', 'multivariate_t', 'mvn', 'mvsdist', 'nakagami', 'nbinom', 'ncf', 'nchypergeom_fisher', 'nchypergeom_wallenius', 'nct', 'ncx2', 'nhypergeom', 'norm', 'normaltest', 'norminvgauss', 'obrientransform', 'ortho_group', 'page_trend_test', 'pareto', 'pearson3', 'pearsonr', 'percentileofscore', 'permutation_test', 'planck', 'pmean', 'pointbiserialr', 'poisson', 'power_divergence', 'powerlaw', 'powerlognorm', 'powernorm', 'ppcc_max', 'ppcc_plot', 'probplot', 'qmc', 'randint', 'random_correlation', 'rankdata', 'ranksums', 'rayleigh', 'rdist', 'recipinvgauss', 'reciprocal', 'relfreq', 'rice', 'rv_continuous', 'rv_discrete', 'rv_histogram', 'rvs_ratio_uniforms', 'scoreatpercentile', 'sem', 'semicircular', 'shapiro', 'siegelslopes', 'sigmaclip', 'skellam', 'skew', 'skewcauchy', 'skewnorm', 'skewtest', 'somersd', 'spearmanr', 'special_ortho_group', 'statlib', 'stats', 'studentized_range', 't', 'test', 'theilslopes', 'tiecorrect', 'tmax', 'tmean', 'tmin', 'trapezoid', 'trapz', 'triang', 'trim1', 'trim_mean', 'trimboth', 'truncexpon', 'truncnorm', 'truncweibull_min', 'tsem', 'tstd', 'ttest_1samp', 'ttest_ind', 'ttest_ind_from_stats', 'ttest_rel', 'tukey_hsd', 'tukeylambda', 'tvar', 'uniform', 'unitary_group', 'variation', 'vonmises', 'vonmises_line', 'wald', 'wasserstein_distance', 'weibull_max', 'weibull_min', 'weightedtau', 'wilcoxon', 'wishart', 'wrapcauchy', 'yeojohnson', 'yeojohnson_llf', 'yeojohnson_normmax', 'yeojohnson_normplot', 'yulesimon', 'zipf', 'zipfian', 'zmap', 'zscore']\n"
     ]
    }
   ],
   "source": [
    "import scipy.stats\n",
    "print(dir(scipy.stats))"
   ]
  }
 ],
 "metadata": {
  "kernelspec": {
   "display_name": "Python 3 (ipykernel)",
   "language": "python",
   "name": "python3"
  },
  "language_info": {
   "codemirror_mode": {
    "name": "ipython",
    "version": 3
   },
   "file_extension": ".py",
   "mimetype": "text/x-python",
   "name": "python",
   "nbconvert_exporter": "python",
   "pygments_lexer": "ipython3",
   "version": "3.8.13"
  }
 },
 "nbformat": 4,
 "nbformat_minor": 5
}
